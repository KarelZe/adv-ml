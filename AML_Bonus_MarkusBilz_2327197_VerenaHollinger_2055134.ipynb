{
  "nbformat": 4,
  "nbformat_minor": 0,
  "metadata": {
    "colab": {
      "name": "Untitled0.ipynb",
      "provenance": [],
      "collapsed_sections": [],
      "include_colab_link": true
    },
    "kernelspec": {
      "name": "python3",
      "display_name": "Python 3"
    },
    "language_info": {
      "name": "python"
    }
  },
  "cells": [
    {
      "cell_type": "markdown",
      "metadata": {
        "id": "view-in-github",
        "colab_type": "text"
      },
      "source": [
        "<a href=\"https://colab.research.google.com/github/KarelZe/adv-ml/blob/main/AML_Bonus_MarkusBilz_2327197_VerenaHollinger_2055134.ipynb\" target=\"_parent\"><img src=\"https://colab.research.google.com/assets/colab-badge.svg\" alt=\"Open In Colab\"/></a>"
      ]
    },
    {
      "cell_type": "code",
      "metadata": {
        "colab": {
          "base_uri": "https://localhost:8080/"
        },
        "id": "yI96BIz_vgb5",
        "outputId": "7da92eb6-7577-4fec-b7a0-98319fbbe226"
      },
      "source": [
        "!pip install imbalanced-learn"
      ],
      "execution_count": 445,
      "outputs": [
        {
          "output_type": "stream",
          "text": [
            "Requirement already satisfied: imbalanced-learn in /usr/local/lib/python3.7/dist-packages (0.4.3)\n",
            "Requirement already satisfied: scipy>=0.13.3 in /usr/local/lib/python3.7/dist-packages (from imbalanced-learn) (1.4.1)\n",
            "Requirement already satisfied: numpy>=1.8.2 in /usr/local/lib/python3.7/dist-packages (from imbalanced-learn) (1.19.5)\n",
            "Requirement already satisfied: scikit-learn>=0.20 in /usr/local/lib/python3.7/dist-packages (from imbalanced-learn) (0.22.2.post1)\n",
            "Requirement already satisfied: joblib>=0.11 in /usr/local/lib/python3.7/dist-packages (from scikit-learn>=0.20->imbalanced-learn) (1.0.1)\n"
          ],
          "name": "stdout"
        }
      ]
    },
    {
      "cell_type": "code",
      "metadata": {
        "id": "LpE9GKyY4o00"
      },
      "source": [
        "#import dependencies\n",
        "import pandas as pd\n",
        "import numpy as np\n",
        "from sklearn.preprocessing import MinMaxScaler\n",
        "from sklearn.preprocessing import StandardScaler\n",
        "from sklearn.preprocessing import OneHotEncoder\n",
        "\n",
        "from imblearn.over_sampling import SMOTE\n",
        "from imblearn.over_sampling import SMOTENC\n",
        "\n",
        "from sklearn.metrics import (\n",
        "    accuracy_score,\n",
        "    classification_report,\n",
        "    confusion_matrix,\n",
        "    matthews_corrcoef,\n",
        "    plot_confusion_matrix,\n",
        ")\n",
        "\n",
        "from sklearn.model_selection import GridSearchCV, train_test_split\n",
        "from sklearn.preprocessing import LabelEncoder, StandardScaler\n",
        "from sklearn.svm import SVC\n",
        "from sklearn.tree import DecisionTreeClassifier\n",
        "from sklearn.neural_network import MLPClassifier\n",
        "\n",
        "from google.colab import drive\n",
        "\n",
        "from statsmodels.api import OLS\n",
        "\n",
        "import seaborn as sns\n",
        "sns.set_theme(style=\"whitegrid\", palette=\"viridis\", font_scale=1.1, color_codes=True)\n",
        "\n",
        "import matplotlib.pyplot as plt\n",
        "%matplotlib inline\n",
        "\n",
        "# increase the number of rows displayed to fully display all (transposed) features.\n",
        "pd.options.display.max_rows = 1000\n"
      ],
      "execution_count": 446,
      "outputs": []
    },
    {
      "cell_type": "markdown",
      "metadata": {
        "id": "KnfgQSKk4trI"
      },
      "source": [
        "# Task 1: Explain dataset and business problems in two paragraphs. (10 points)\n",
        "\n",
        "Peer-2-Peer Lending is a decentralized approach in which investors (most oftenly private investors) lend to debtors (typically private individuals). Peer-2-peer lending platforms such as Lending Club serve as an intermediary between investors and borrowers. Due to the decentralized structure, no banks are involved. The risk for a loan is that the borrower defaults partly or entirely. Expected interest and redemption payments may then not be made. The borrowers suffer a loss. Typically, investors invest in several loans to diversify their default risk. Ergo, one loan is financed by several investors. Of key Of central interest is whether a default of a loan can be predicted and with which features. The platform could use this information to reject loans that are highly likely to default during the application process, thus avoiding defaults.\n",
        "\n",
        "The dataset contains loan data on loans, that where distributed through the peer-2-peer lending platform Lending club. The data includes information on payment history, loan terms, borrower information and most importantly the loan status. In overview, data can be classified into hard and soft features. Some features are categorical e. g. term, while others are numerical e. g. debt-to-income-ratio or unstructured e. g. purpose.\n",
        "\n"
      ]
    },
    {
      "cell_type": "markdown",
      "metadata": {
        "id": "NpqVNyYl47RY"
      },
      "source": [
        "## Loading the data"
      ]
    },
    {
      "cell_type": "markdown",
      "metadata": {
        "id": "NOPagiDc0dNv"
      },
      "source": [
        "Loan data is available from kaggle. The loan data is stored unaltered in our Google Drive.\n",
        "\n",
        "Additional income data was downloaded from the [US Census Bureau](https://data.census.gov/cedsci/table?q=S1901%3A%20INCOME%20IN%20THE%20PAST%2012%20MONTHS%20%28IN%202018%20INFLATION-ADJUSTED%20DOLLARS%29&g=0400000US01,02,04,05,06,08,09,10,12,13,15,16,17,18,19,20,21,22,23,24,25,26,27,28,29,30,31,32,33,34,35,36,37,38,39,40,41,42,44,45,46,47,48,49,50,51,53,54,55,56,72&tid=ACSST1Y2018.S1901&hidePreview=false). We use this information later in our analysis to compare the income of borrowers with the avg. income of the state they are located int. To be able to map US state names to their corresponding ISO-Codes we use es use the table found at [ISO.org](https://www.iso.org/obp/ui/#iso:code:3166:US) as a lookup table."
      ]
    },
    {
      "cell_type": "code",
      "metadata": {
        "id": "nj2lGS5C0PrV",
        "colab": {
          "base_uri": "https://localhost:8080/"
        },
        "outputId": "a8a388e9-3263-452b-c273-efd0fcc4a470"
      },
      "source": [
        "\n",
        "drive.mount(\"/content/drive\")\n",
        "\n",
        "data = pd.read_csv('/content/drive/My Drive/AdvancedML/accepted_2007_to_2018Q4.csv')\n",
        "income_by_states = pd.read_csv('/content/drive/My Drive/AdvancedML/ACSST1Y2018_S1901_data_with_overlays_2021-06-12T020307.csv')"
      ],
      "execution_count": 447,
      "outputs": [
        {
          "output_type": "stream",
          "text": [
            "Drive already mounted at /content/drive; to attempt to forcibly remount, call drive.mount(\"/content/drive\", force_remount=True).\n"
          ],
          "name": "stdout"
        },
        {
          "output_type": "stream",
          "text": [
            "/usr/local/lib/python3.7/dist-packages/IPython/core/interactiveshell.py:2718: DtypeWarning: Columns (0,19,49,59,118,129,130,131,134,135,136,139,145,146,147) have mixed types.Specify dtype option on import or set low_memory=False.\n",
            "  interactivity=interactivity, compiler=compiler, result=result)\n"
          ],
          "name": "stderr"
        }
      ]
    },
    {
      "cell_type": "markdown",
      "metadata": {
        "id": "XJG1T1dL5JGb"
      },
      "source": [
        "# Task 2: Do an explanatory analysis for this dataset. (10 points)"
      ]
    },
    {
      "cell_type": "code",
      "metadata": {
        "colab": {
          "base_uri": "https://localhost:8080/"
        },
        "id": "Bz6XKxzDumaA",
        "outputId": "1fb45d9b-0430-4590-f766-1406c00f4d73"
      },
      "source": [
        "print(data.shape)"
      ],
      "execution_count": 448,
      "outputs": [
        {
          "output_type": "stream",
          "text": [
            "(2260701, 151)\n"
          ],
          "name": "stdout"
        }
      ]
    },
    {
      "cell_type": "markdown",
      "metadata": {
        "id": "yyUyyoqcMIlI"
      },
      "source": [
        "The dataset consists of ~ 2.26 million loans and 151 features."
      ]
    },
    {
      "cell_type": "code",
      "metadata": {
        "id": "MeVsnmXVxzFm",
        "colab": {
          "base_uri": "https://localhost:8080/",
          "height": 1000
        },
        "outputId": "e0deda3e-1975-489b-90d1-b7a737e0370f"
      },
      "source": [
        "data.head().T"
      ],
      "execution_count": 449,
      "outputs": [
        {
          "output_type": "execute_result",
          "data": {
            "text/html": [
              "<div>\n",
              "<style scoped>\n",
              "    .dataframe tbody tr th:only-of-type {\n",
              "        vertical-align: middle;\n",
              "    }\n",
              "\n",
              "    .dataframe tbody tr th {\n",
              "        vertical-align: top;\n",
              "    }\n",
              "\n",
              "    .dataframe thead th {\n",
              "        text-align: right;\n",
              "    }\n",
              "</style>\n",
              "<table border=\"1\" class=\"dataframe\">\n",
              "  <thead>\n",
              "    <tr style=\"text-align: right;\">\n",
              "      <th></th>\n",
              "      <th>0</th>\n",
              "      <th>1</th>\n",
              "      <th>2</th>\n",
              "      <th>3</th>\n",
              "      <th>4</th>\n",
              "    </tr>\n",
              "  </thead>\n",
              "  <tbody>\n",
              "    <tr>\n",
              "      <th>id</th>\n",
              "      <td>68407277</td>\n",
              "      <td>68355089</td>\n",
              "      <td>68341763</td>\n",
              "      <td>66310712</td>\n",
              "      <td>68476807</td>\n",
              "    </tr>\n",
              "    <tr>\n",
              "      <th>member_id</th>\n",
              "      <td>NaN</td>\n",
              "      <td>NaN</td>\n",
              "      <td>NaN</td>\n",
              "      <td>NaN</td>\n",
              "      <td>NaN</td>\n",
              "    </tr>\n",
              "    <tr>\n",
              "      <th>loan_amnt</th>\n",
              "      <td>3600</td>\n",
              "      <td>24700</td>\n",
              "      <td>20000</td>\n",
              "      <td>35000</td>\n",
              "      <td>10400</td>\n",
              "    </tr>\n",
              "    <tr>\n",
              "      <th>funded_amnt</th>\n",
              "      <td>3600</td>\n",
              "      <td>24700</td>\n",
              "      <td>20000</td>\n",
              "      <td>35000</td>\n",
              "      <td>10400</td>\n",
              "    </tr>\n",
              "    <tr>\n",
              "      <th>funded_amnt_inv</th>\n",
              "      <td>3600</td>\n",
              "      <td>24700</td>\n",
              "      <td>20000</td>\n",
              "      <td>35000</td>\n",
              "      <td>10400</td>\n",
              "    </tr>\n",
              "    <tr>\n",
              "      <th>term</th>\n",
              "      <td>36 months</td>\n",
              "      <td>36 months</td>\n",
              "      <td>60 months</td>\n",
              "      <td>60 months</td>\n",
              "      <td>60 months</td>\n",
              "    </tr>\n",
              "    <tr>\n",
              "      <th>int_rate</th>\n",
              "      <td>13.99</td>\n",
              "      <td>11.99</td>\n",
              "      <td>10.78</td>\n",
              "      <td>14.85</td>\n",
              "      <td>22.45</td>\n",
              "    </tr>\n",
              "    <tr>\n",
              "      <th>installment</th>\n",
              "      <td>123.03</td>\n",
              "      <td>820.28</td>\n",
              "      <td>432.66</td>\n",
              "      <td>829.9</td>\n",
              "      <td>289.91</td>\n",
              "    </tr>\n",
              "    <tr>\n",
              "      <th>grade</th>\n",
              "      <td>C</td>\n",
              "      <td>C</td>\n",
              "      <td>B</td>\n",
              "      <td>C</td>\n",
              "      <td>F</td>\n",
              "    </tr>\n",
              "    <tr>\n",
              "      <th>sub_grade</th>\n",
              "      <td>C4</td>\n",
              "      <td>C1</td>\n",
              "      <td>B4</td>\n",
              "      <td>C5</td>\n",
              "      <td>F1</td>\n",
              "    </tr>\n",
              "    <tr>\n",
              "      <th>emp_title</th>\n",
              "      <td>leadman</td>\n",
              "      <td>Engineer</td>\n",
              "      <td>truck driver</td>\n",
              "      <td>Information Systems Officer</td>\n",
              "      <td>Contract Specialist</td>\n",
              "    </tr>\n",
              "    <tr>\n",
              "      <th>emp_length</th>\n",
              "      <td>10+ years</td>\n",
              "      <td>10+ years</td>\n",
              "      <td>10+ years</td>\n",
              "      <td>10+ years</td>\n",
              "      <td>3 years</td>\n",
              "    </tr>\n",
              "    <tr>\n",
              "      <th>home_ownership</th>\n",
              "      <td>MORTGAGE</td>\n",
              "      <td>MORTGAGE</td>\n",
              "      <td>MORTGAGE</td>\n",
              "      <td>MORTGAGE</td>\n",
              "      <td>MORTGAGE</td>\n",
              "    </tr>\n",
              "    <tr>\n",
              "      <th>annual_inc</th>\n",
              "      <td>55000</td>\n",
              "      <td>65000</td>\n",
              "      <td>63000</td>\n",
              "      <td>110000</td>\n",
              "      <td>104433</td>\n",
              "    </tr>\n",
              "    <tr>\n",
              "      <th>verification_status</th>\n",
              "      <td>Not Verified</td>\n",
              "      <td>Not Verified</td>\n",
              "      <td>Not Verified</td>\n",
              "      <td>Source Verified</td>\n",
              "      <td>Source Verified</td>\n",
              "    </tr>\n",
              "    <tr>\n",
              "      <th>issue_d</th>\n",
              "      <td>Dec-2015</td>\n",
              "      <td>Dec-2015</td>\n",
              "      <td>Dec-2015</td>\n",
              "      <td>Dec-2015</td>\n",
              "      <td>Dec-2015</td>\n",
              "    </tr>\n",
              "    <tr>\n",
              "      <th>loan_status</th>\n",
              "      <td>Fully Paid</td>\n",
              "      <td>Fully Paid</td>\n",
              "      <td>Fully Paid</td>\n",
              "      <td>Current</td>\n",
              "      <td>Fully Paid</td>\n",
              "    </tr>\n",
              "    <tr>\n",
              "      <th>pymnt_plan</th>\n",
              "      <td>n</td>\n",
              "      <td>n</td>\n",
              "      <td>n</td>\n",
              "      <td>n</td>\n",
              "      <td>n</td>\n",
              "    </tr>\n",
              "    <tr>\n",
              "      <th>url</th>\n",
              "      <td>https://lendingclub.com/browse/loanDetail.acti...</td>\n",
              "      <td>https://lendingclub.com/browse/loanDetail.acti...</td>\n",
              "      <td>https://lendingclub.com/browse/loanDetail.acti...</td>\n",
              "      <td>https://lendingclub.com/browse/loanDetail.acti...</td>\n",
              "      <td>https://lendingclub.com/browse/loanDetail.acti...</td>\n",
              "    </tr>\n",
              "    <tr>\n",
              "      <th>desc</th>\n",
              "      <td>NaN</td>\n",
              "      <td>NaN</td>\n",
              "      <td>NaN</td>\n",
              "      <td>NaN</td>\n",
              "      <td>NaN</td>\n",
              "    </tr>\n",
              "    <tr>\n",
              "      <th>purpose</th>\n",
              "      <td>debt_consolidation</td>\n",
              "      <td>small_business</td>\n",
              "      <td>home_improvement</td>\n",
              "      <td>debt_consolidation</td>\n",
              "      <td>major_purchase</td>\n",
              "    </tr>\n",
              "    <tr>\n",
              "      <th>title</th>\n",
              "      <td>Debt consolidation</td>\n",
              "      <td>Business</td>\n",
              "      <td>NaN</td>\n",
              "      <td>Debt consolidation</td>\n",
              "      <td>Major purchase</td>\n",
              "    </tr>\n",
              "    <tr>\n",
              "      <th>zip_code</th>\n",
              "      <td>190xx</td>\n",
              "      <td>577xx</td>\n",
              "      <td>605xx</td>\n",
              "      <td>076xx</td>\n",
              "      <td>174xx</td>\n",
              "    </tr>\n",
              "    <tr>\n",
              "      <th>addr_state</th>\n",
              "      <td>PA</td>\n",
              "      <td>SD</td>\n",
              "      <td>IL</td>\n",
              "      <td>NJ</td>\n",
              "      <td>PA</td>\n",
              "    </tr>\n",
              "    <tr>\n",
              "      <th>dti</th>\n",
              "      <td>5.91</td>\n",
              "      <td>16.06</td>\n",
              "      <td>10.78</td>\n",
              "      <td>17.06</td>\n",
              "      <td>25.37</td>\n",
              "    </tr>\n",
              "    <tr>\n",
              "      <th>delinq_2yrs</th>\n",
              "      <td>0</td>\n",
              "      <td>1</td>\n",
              "      <td>0</td>\n",
              "      <td>0</td>\n",
              "      <td>1</td>\n",
              "    </tr>\n",
              "    <tr>\n",
              "      <th>earliest_cr_line</th>\n",
              "      <td>Aug-2003</td>\n",
              "      <td>Dec-1999</td>\n",
              "      <td>Aug-2000</td>\n",
              "      <td>Sep-2008</td>\n",
              "      <td>Jun-1998</td>\n",
              "    </tr>\n",
              "    <tr>\n",
              "      <th>fico_range_low</th>\n",
              "      <td>675</td>\n",
              "      <td>715</td>\n",
              "      <td>695</td>\n",
              "      <td>785</td>\n",
              "      <td>695</td>\n",
              "    </tr>\n",
              "    <tr>\n",
              "      <th>fico_range_high</th>\n",
              "      <td>679</td>\n",
              "      <td>719</td>\n",
              "      <td>699</td>\n",
              "      <td>789</td>\n",
              "      <td>699</td>\n",
              "    </tr>\n",
              "    <tr>\n",
              "      <th>inq_last_6mths</th>\n",
              "      <td>1</td>\n",
              "      <td>4</td>\n",
              "      <td>0</td>\n",
              "      <td>0</td>\n",
              "      <td>3</td>\n",
              "    </tr>\n",
              "    <tr>\n",
              "      <th>mths_since_last_delinq</th>\n",
              "      <td>30</td>\n",
              "      <td>6</td>\n",
              "      <td>NaN</td>\n",
              "      <td>NaN</td>\n",
              "      <td>12</td>\n",
              "    </tr>\n",
              "    <tr>\n",
              "      <th>mths_since_last_record</th>\n",
              "      <td>NaN</td>\n",
              "      <td>NaN</td>\n",
              "      <td>NaN</td>\n",
              "      <td>NaN</td>\n",
              "      <td>NaN</td>\n",
              "    </tr>\n",
              "    <tr>\n",
              "      <th>open_acc</th>\n",
              "      <td>7</td>\n",
              "      <td>22</td>\n",
              "      <td>6</td>\n",
              "      <td>13</td>\n",
              "      <td>12</td>\n",
              "    </tr>\n",
              "    <tr>\n",
              "      <th>pub_rec</th>\n",
              "      <td>0</td>\n",
              "      <td>0</td>\n",
              "      <td>0</td>\n",
              "      <td>0</td>\n",
              "      <td>0</td>\n",
              "    </tr>\n",
              "    <tr>\n",
              "      <th>revol_bal</th>\n",
              "      <td>2765</td>\n",
              "      <td>21470</td>\n",
              "      <td>7869</td>\n",
              "      <td>7802</td>\n",
              "      <td>21929</td>\n",
              "    </tr>\n",
              "    <tr>\n",
              "      <th>revol_util</th>\n",
              "      <td>29.7</td>\n",
              "      <td>19.2</td>\n",
              "      <td>56.2</td>\n",
              "      <td>11.6</td>\n",
              "      <td>64.5</td>\n",
              "    </tr>\n",
              "    <tr>\n",
              "      <th>total_acc</th>\n",
              "      <td>13</td>\n",
              "      <td>38</td>\n",
              "      <td>18</td>\n",
              "      <td>17</td>\n",
              "      <td>35</td>\n",
              "    </tr>\n",
              "    <tr>\n",
              "      <th>initial_list_status</th>\n",
              "      <td>w</td>\n",
              "      <td>w</td>\n",
              "      <td>w</td>\n",
              "      <td>w</td>\n",
              "      <td>w</td>\n",
              "    </tr>\n",
              "    <tr>\n",
              "      <th>out_prncp</th>\n",
              "      <td>0</td>\n",
              "      <td>0</td>\n",
              "      <td>0</td>\n",
              "      <td>15897.6</td>\n",
              "      <td>0</td>\n",
              "    </tr>\n",
              "    <tr>\n",
              "      <th>out_prncp_inv</th>\n",
              "      <td>0</td>\n",
              "      <td>0</td>\n",
              "      <td>0</td>\n",
              "      <td>15897.6</td>\n",
              "      <td>0</td>\n",
              "    </tr>\n",
              "    <tr>\n",
              "      <th>total_pymnt</th>\n",
              "      <td>4421.72</td>\n",
              "      <td>25679.7</td>\n",
              "      <td>22705.9</td>\n",
              "      <td>31464</td>\n",
              "      <td>11740.5</td>\n",
              "    </tr>\n",
              "    <tr>\n",
              "      <th>total_pymnt_inv</th>\n",
              "      <td>4421.72</td>\n",
              "      <td>25679.7</td>\n",
              "      <td>22705.9</td>\n",
              "      <td>31464</td>\n",
              "      <td>11740.5</td>\n",
              "    </tr>\n",
              "    <tr>\n",
              "      <th>total_rec_prncp</th>\n",
              "      <td>3600</td>\n",
              "      <td>24700</td>\n",
              "      <td>20000</td>\n",
              "      <td>19102.3</td>\n",
              "      <td>10400</td>\n",
              "    </tr>\n",
              "    <tr>\n",
              "      <th>total_rec_int</th>\n",
              "      <td>821.72</td>\n",
              "      <td>979.66</td>\n",
              "      <td>2705.92</td>\n",
              "      <td>12361.7</td>\n",
              "      <td>1340.5</td>\n",
              "    </tr>\n",
              "    <tr>\n",
              "      <th>total_rec_late_fee</th>\n",
              "      <td>0</td>\n",
              "      <td>0</td>\n",
              "      <td>0</td>\n",
              "      <td>0</td>\n",
              "      <td>0</td>\n",
              "    </tr>\n",
              "    <tr>\n",
              "      <th>recoveries</th>\n",
              "      <td>0</td>\n",
              "      <td>0</td>\n",
              "      <td>0</td>\n",
              "      <td>0</td>\n",
              "      <td>0</td>\n",
              "    </tr>\n",
              "    <tr>\n",
              "      <th>collection_recovery_fee</th>\n",
              "      <td>0</td>\n",
              "      <td>0</td>\n",
              "      <td>0</td>\n",
              "      <td>0</td>\n",
              "      <td>0</td>\n",
              "    </tr>\n",
              "    <tr>\n",
              "      <th>last_pymnt_d</th>\n",
              "      <td>Jan-2019</td>\n",
              "      <td>Jun-2016</td>\n",
              "      <td>Jun-2017</td>\n",
              "      <td>Feb-2019</td>\n",
              "      <td>Jul-2016</td>\n",
              "    </tr>\n",
              "    <tr>\n",
              "      <th>last_pymnt_amnt</th>\n",
              "      <td>122.67</td>\n",
              "      <td>926.35</td>\n",
              "      <td>15813.3</td>\n",
              "      <td>829.9</td>\n",
              "      <td>10129</td>\n",
              "    </tr>\n",
              "    <tr>\n",
              "      <th>next_pymnt_d</th>\n",
              "      <td>NaN</td>\n",
              "      <td>NaN</td>\n",
              "      <td>NaN</td>\n",
              "      <td>Apr-2019</td>\n",
              "      <td>NaN</td>\n",
              "    </tr>\n",
              "    <tr>\n",
              "      <th>last_credit_pull_d</th>\n",
              "      <td>Mar-2019</td>\n",
              "      <td>Mar-2019</td>\n",
              "      <td>Mar-2019</td>\n",
              "      <td>Mar-2019</td>\n",
              "      <td>Mar-2018</td>\n",
              "    </tr>\n",
              "    <tr>\n",
              "      <th>last_fico_range_high</th>\n",
              "      <td>564</td>\n",
              "      <td>699</td>\n",
              "      <td>704</td>\n",
              "      <td>679</td>\n",
              "      <td>704</td>\n",
              "    </tr>\n",
              "    <tr>\n",
              "      <th>last_fico_range_low</th>\n",
              "      <td>560</td>\n",
              "      <td>695</td>\n",
              "      <td>700</td>\n",
              "      <td>675</td>\n",
              "      <td>700</td>\n",
              "    </tr>\n",
              "    <tr>\n",
              "      <th>collections_12_mths_ex_med</th>\n",
              "      <td>0</td>\n",
              "      <td>0</td>\n",
              "      <td>0</td>\n",
              "      <td>0</td>\n",
              "      <td>0</td>\n",
              "    </tr>\n",
              "    <tr>\n",
              "      <th>mths_since_last_major_derog</th>\n",
              "      <td>30</td>\n",
              "      <td>NaN</td>\n",
              "      <td>NaN</td>\n",
              "      <td>NaN</td>\n",
              "      <td>NaN</td>\n",
              "    </tr>\n",
              "    <tr>\n",
              "      <th>policy_code</th>\n",
              "      <td>1</td>\n",
              "      <td>1</td>\n",
              "      <td>1</td>\n",
              "      <td>1</td>\n",
              "      <td>1</td>\n",
              "    </tr>\n",
              "    <tr>\n",
              "      <th>application_type</th>\n",
              "      <td>Individual</td>\n",
              "      <td>Individual</td>\n",
              "      <td>Joint App</td>\n",
              "      <td>Individual</td>\n",
              "      <td>Individual</td>\n",
              "    </tr>\n",
              "    <tr>\n",
              "      <th>annual_inc_joint</th>\n",
              "      <td>NaN</td>\n",
              "      <td>NaN</td>\n",
              "      <td>71000</td>\n",
              "      <td>NaN</td>\n",
              "      <td>NaN</td>\n",
              "    </tr>\n",
              "    <tr>\n",
              "      <th>dti_joint</th>\n",
              "      <td>NaN</td>\n",
              "      <td>NaN</td>\n",
              "      <td>13.85</td>\n",
              "      <td>NaN</td>\n",
              "      <td>NaN</td>\n",
              "    </tr>\n",
              "    <tr>\n",
              "      <th>verification_status_joint</th>\n",
              "      <td>NaN</td>\n",
              "      <td>NaN</td>\n",
              "      <td>Not Verified</td>\n",
              "      <td>NaN</td>\n",
              "      <td>NaN</td>\n",
              "    </tr>\n",
              "    <tr>\n",
              "      <th>acc_now_delinq</th>\n",
              "      <td>0</td>\n",
              "      <td>0</td>\n",
              "      <td>0</td>\n",
              "      <td>0</td>\n",
              "      <td>0</td>\n",
              "    </tr>\n",
              "    <tr>\n",
              "      <th>tot_coll_amt</th>\n",
              "      <td>722</td>\n",
              "      <td>0</td>\n",
              "      <td>0</td>\n",
              "      <td>0</td>\n",
              "      <td>0</td>\n",
              "    </tr>\n",
              "    <tr>\n",
              "      <th>tot_cur_bal</th>\n",
              "      <td>144904</td>\n",
              "      <td>204396</td>\n",
              "      <td>189699</td>\n",
              "      <td>301500</td>\n",
              "      <td>331730</td>\n",
              "    </tr>\n",
              "    <tr>\n",
              "      <th>open_acc_6m</th>\n",
              "      <td>2</td>\n",
              "      <td>1</td>\n",
              "      <td>0</td>\n",
              "      <td>1</td>\n",
              "      <td>1</td>\n",
              "    </tr>\n",
              "    <tr>\n",
              "      <th>open_act_il</th>\n",
              "      <td>2</td>\n",
              "      <td>1</td>\n",
              "      <td>1</td>\n",
              "      <td>1</td>\n",
              "      <td>3</td>\n",
              "    </tr>\n",
              "    <tr>\n",
              "      <th>open_il_12m</th>\n",
              "      <td>0</td>\n",
              "      <td>0</td>\n",
              "      <td>0</td>\n",
              "      <td>0</td>\n",
              "      <td>0</td>\n",
              "    </tr>\n",
              "    <tr>\n",
              "      <th>open_il_24m</th>\n",
              "      <td>1</td>\n",
              "      <td>1</td>\n",
              "      <td>4</td>\n",
              "      <td>1</td>\n",
              "      <td>3</td>\n",
              "    </tr>\n",
              "    <tr>\n",
              "      <th>mths_since_rcnt_il</th>\n",
              "      <td>21</td>\n",
              "      <td>19</td>\n",
              "      <td>19</td>\n",
              "      <td>23</td>\n",
              "      <td>14</td>\n",
              "    </tr>\n",
              "    <tr>\n",
              "      <th>total_bal_il</th>\n",
              "      <td>4981</td>\n",
              "      <td>18005</td>\n",
              "      <td>10827</td>\n",
              "      <td>12609</td>\n",
              "      <td>73839</td>\n",
              "    </tr>\n",
              "    <tr>\n",
              "      <th>il_util</th>\n",
              "      <td>36</td>\n",
              "      <td>73</td>\n",
              "      <td>73</td>\n",
              "      <td>70</td>\n",
              "      <td>84</td>\n",
              "    </tr>\n",
              "    <tr>\n",
              "      <th>open_rv_12m</th>\n",
              "      <td>3</td>\n",
              "      <td>2</td>\n",
              "      <td>0</td>\n",
              "      <td>1</td>\n",
              "      <td>4</td>\n",
              "    </tr>\n",
              "    <tr>\n",
              "      <th>open_rv_24m</th>\n",
              "      <td>3</td>\n",
              "      <td>3</td>\n",
              "      <td>2</td>\n",
              "      <td>1</td>\n",
              "      <td>7</td>\n",
              "    </tr>\n",
              "    <tr>\n",
              "      <th>max_bal_bc</th>\n",
              "      <td>722</td>\n",
              "      <td>6472</td>\n",
              "      <td>2081</td>\n",
              "      <td>6987</td>\n",
              "      <td>9702</td>\n",
              "    </tr>\n",
              "    <tr>\n",
              "      <th>all_util</th>\n",
              "      <td>34</td>\n",
              "      <td>29</td>\n",
              "      <td>65</td>\n",
              "      <td>45</td>\n",
              "      <td>78</td>\n",
              "    </tr>\n",
              "    <tr>\n",
              "      <th>total_rev_hi_lim</th>\n",
              "      <td>9300</td>\n",
              "      <td>111800</td>\n",
              "      <td>14000</td>\n",
              "      <td>67300</td>\n",
              "      <td>34000</td>\n",
              "    </tr>\n",
              "    <tr>\n",
              "      <th>inq_fi</th>\n",
              "      <td>3</td>\n",
              "      <td>0</td>\n",
              "      <td>2</td>\n",
              "      <td>0</td>\n",
              "      <td>2</td>\n",
              "    </tr>\n",
              "    <tr>\n",
              "      <th>total_cu_tl</th>\n",
              "      <td>1</td>\n",
              "      <td>0</td>\n",
              "      <td>5</td>\n",
              "      <td>1</td>\n",
              "      <td>1</td>\n",
              "    </tr>\n",
              "    <tr>\n",
              "      <th>inq_last_12m</th>\n",
              "      <td>4</td>\n",
              "      <td>6</td>\n",
              "      <td>1</td>\n",
              "      <td>0</td>\n",
              "      <td>3</td>\n",
              "    </tr>\n",
              "    <tr>\n",
              "      <th>acc_open_past_24mths</th>\n",
              "      <td>4</td>\n",
              "      <td>4</td>\n",
              "      <td>6</td>\n",
              "      <td>2</td>\n",
              "      <td>10</td>\n",
              "    </tr>\n",
              "    <tr>\n",
              "      <th>avg_cur_bal</th>\n",
              "      <td>20701</td>\n",
              "      <td>9733</td>\n",
              "      <td>31617</td>\n",
              "      <td>23192</td>\n",
              "      <td>27644</td>\n",
              "    </tr>\n",
              "    <tr>\n",
              "      <th>bc_open_to_buy</th>\n",
              "      <td>1506</td>\n",
              "      <td>57830</td>\n",
              "      <td>2737</td>\n",
              "      <td>54962</td>\n",
              "      <td>4567</td>\n",
              "    </tr>\n",
              "    <tr>\n",
              "      <th>bc_util</th>\n",
              "      <td>37.2</td>\n",
              "      <td>27.1</td>\n",
              "      <td>55.9</td>\n",
              "      <td>12.1</td>\n",
              "      <td>77.5</td>\n",
              "    </tr>\n",
              "    <tr>\n",
              "      <th>chargeoff_within_12_mths</th>\n",
              "      <td>0</td>\n",
              "      <td>0</td>\n",
              "      <td>0</td>\n",
              "      <td>0</td>\n",
              "      <td>0</td>\n",
              "    </tr>\n",
              "    <tr>\n",
              "      <th>delinq_amnt</th>\n",
              "      <td>0</td>\n",
              "      <td>0</td>\n",
              "      <td>0</td>\n",
              "      <td>0</td>\n",
              "      <td>0</td>\n",
              "    </tr>\n",
              "    <tr>\n",
              "      <th>mo_sin_old_il_acct</th>\n",
              "      <td>148</td>\n",
              "      <td>113</td>\n",
              "      <td>125</td>\n",
              "      <td>36</td>\n",
              "      <td>128</td>\n",
              "    </tr>\n",
              "    <tr>\n",
              "      <th>mo_sin_old_rev_tl_op</th>\n",
              "      <td>128</td>\n",
              "      <td>192</td>\n",
              "      <td>184</td>\n",
              "      <td>87</td>\n",
              "      <td>210</td>\n",
              "    </tr>\n",
              "    <tr>\n",
              "      <th>mo_sin_rcnt_rev_tl_op</th>\n",
              "      <td>3</td>\n",
              "      <td>2</td>\n",
              "      <td>14</td>\n",
              "      <td>2</td>\n",
              "      <td>4</td>\n",
              "    </tr>\n",
              "    <tr>\n",
              "      <th>mo_sin_rcnt_tl</th>\n",
              "      <td>3</td>\n",
              "      <td>2</td>\n",
              "      <td>14</td>\n",
              "      <td>2</td>\n",
              "      <td>4</td>\n",
              "    </tr>\n",
              "    <tr>\n",
              "      <th>mort_acc</th>\n",
              "      <td>1</td>\n",
              "      <td>4</td>\n",
              "      <td>5</td>\n",
              "      <td>1</td>\n",
              "      <td>6</td>\n",
              "    </tr>\n",
              "    <tr>\n",
              "      <th>mths_since_recent_bc</th>\n",
              "      <td>4</td>\n",
              "      <td>2</td>\n",
              "      <td>101</td>\n",
              "      <td>2</td>\n",
              "      <td>4</td>\n",
              "    </tr>\n",
              "    <tr>\n",
              "      <th>mths_since_recent_bc_dlq</th>\n",
              "      <td>69</td>\n",
              "      <td>NaN</td>\n",
              "      <td>NaN</td>\n",
              "      <td>NaN</td>\n",
              "      <td>12</td>\n",
              "    </tr>\n",
              "    <tr>\n",
              "      <th>mths_since_recent_inq</th>\n",
              "      <td>4</td>\n",
              "      <td>0</td>\n",
              "      <td>10</td>\n",
              "      <td>NaN</td>\n",
              "      <td>1</td>\n",
              "    </tr>\n",
              "    <tr>\n",
              "      <th>mths_since_recent_revol_delinq</th>\n",
              "      <td>69</td>\n",
              "      <td>6</td>\n",
              "      <td>NaN</td>\n",
              "      <td>NaN</td>\n",
              "      <td>12</td>\n",
              "    </tr>\n",
              "    <tr>\n",
              "      <th>num_accts_ever_120_pd</th>\n",
              "      <td>2</td>\n",
              "      <td>0</td>\n",
              "      <td>0</td>\n",
              "      <td>0</td>\n",
              "      <td>0</td>\n",
              "    </tr>\n",
              "    <tr>\n",
              "      <th>num_actv_bc_tl</th>\n",
              "      <td>2</td>\n",
              "      <td>5</td>\n",
              "      <td>2</td>\n",
              "      <td>4</td>\n",
              "      <td>4</td>\n",
              "    </tr>\n",
              "    <tr>\n",
              "      <th>num_actv_rev_tl</th>\n",
              "      <td>4</td>\n",
              "      <td>5</td>\n",
              "      <td>3</td>\n",
              "      <td>5</td>\n",
              "      <td>6</td>\n",
              "    </tr>\n",
              "    <tr>\n",
              "      <th>num_bc_sats</th>\n",
              "      <td>2</td>\n",
              "      <td>13</td>\n",
              "      <td>2</td>\n",
              "      <td>8</td>\n",
              "      <td>5</td>\n",
              "    </tr>\n",
              "    <tr>\n",
              "      <th>num_bc_tl</th>\n",
              "      <td>5</td>\n",
              "      <td>17</td>\n",
              "      <td>4</td>\n",
              "      <td>10</td>\n",
              "      <td>9</td>\n",
              "    </tr>\n",
              "    <tr>\n",
              "      <th>num_il_tl</th>\n",
              "      <td>3</td>\n",
              "      <td>6</td>\n",
              "      <td>6</td>\n",
              "      <td>2</td>\n",
              "      <td>10</td>\n",
              "    </tr>\n",
              "    <tr>\n",
              "      <th>num_op_rev_tl</th>\n",
              "      <td>4</td>\n",
              "      <td>20</td>\n",
              "      <td>4</td>\n",
              "      <td>10</td>\n",
              "      <td>7</td>\n",
              "    </tr>\n",
              "    <tr>\n",
              "      <th>num_rev_accts</th>\n",
              "      <td>9</td>\n",
              "      <td>27</td>\n",
              "      <td>7</td>\n",
              "      <td>13</td>\n",
              "      <td>19</td>\n",
              "    </tr>\n",
              "    <tr>\n",
              "      <th>num_rev_tl_bal_gt_0</th>\n",
              "      <td>4</td>\n",
              "      <td>5</td>\n",
              "      <td>3</td>\n",
              "      <td>5</td>\n",
              "      <td>6</td>\n",
              "    </tr>\n",
              "    <tr>\n",
              "      <th>num_sats</th>\n",
              "      <td>7</td>\n",
              "      <td>22</td>\n",
              "      <td>6</td>\n",
              "      <td>13</td>\n",
              "      <td>12</td>\n",
              "    </tr>\n",
              "    <tr>\n",
              "      <th>num_tl_120dpd_2m</th>\n",
              "      <td>0</td>\n",
              "      <td>0</td>\n",
              "      <td>0</td>\n",
              "      <td>0</td>\n",
              "      <td>0</td>\n",
              "    </tr>\n",
              "    <tr>\n",
              "      <th>num_tl_30dpd</th>\n",
              "      <td>0</td>\n",
              "      <td>0</td>\n",
              "      <td>0</td>\n",
              "      <td>0</td>\n",
              "      <td>0</td>\n",
              "    </tr>\n",
              "    <tr>\n",
              "      <th>num_tl_90g_dpd_24m</th>\n",
              "      <td>0</td>\n",
              "      <td>0</td>\n",
              "      <td>0</td>\n",
              "      <td>0</td>\n",
              "      <td>0</td>\n",
              "    </tr>\n",
              "    <tr>\n",
              "      <th>num_tl_op_past_12m</th>\n",
              "      <td>3</td>\n",
              "      <td>2</td>\n",
              "      <td>0</td>\n",
              "      <td>1</td>\n",
              "      <td>4</td>\n",
              "    </tr>\n",
              "    <tr>\n",
              "      <th>pct_tl_nvr_dlq</th>\n",
              "      <td>76.9</td>\n",
              "      <td>97.4</td>\n",
              "      <td>100</td>\n",
              "      <td>100</td>\n",
              "      <td>96.6</td>\n",
              "    </tr>\n",
              "    <tr>\n",
              "      <th>percent_bc_gt_75</th>\n",
              "      <td>0</td>\n",
              "      <td>7.7</td>\n",
              "      <td>50</td>\n",
              "      <td>0</td>\n",
              "      <td>60</td>\n",
              "    </tr>\n",
              "    <tr>\n",
              "      <th>pub_rec_bankruptcies</th>\n",
              "      <td>0</td>\n",
              "      <td>0</td>\n",
              "      <td>0</td>\n",
              "      <td>0</td>\n",
              "      <td>0</td>\n",
              "    </tr>\n",
              "    <tr>\n",
              "      <th>tax_liens</th>\n",
              "      <td>0</td>\n",
              "      <td>0</td>\n",
              "      <td>0</td>\n",
              "      <td>0</td>\n",
              "      <td>0</td>\n",
              "    </tr>\n",
              "    <tr>\n",
              "      <th>tot_hi_cred_lim</th>\n",
              "      <td>178050</td>\n",
              "      <td>314017</td>\n",
              "      <td>218418</td>\n",
              "      <td>381215</td>\n",
              "      <td>439570</td>\n",
              "    </tr>\n",
              "    <tr>\n",
              "      <th>total_bal_ex_mort</th>\n",
              "      <td>7746</td>\n",
              "      <td>39475</td>\n",
              "      <td>18696</td>\n",
              "      <td>52226</td>\n",
              "      <td>95768</td>\n",
              "    </tr>\n",
              "    <tr>\n",
              "      <th>total_bc_limit</th>\n",
              "      <td>2400</td>\n",
              "      <td>79300</td>\n",
              "      <td>6200</td>\n",
              "      <td>62500</td>\n",
              "      <td>20300</td>\n",
              "    </tr>\n",
              "    <tr>\n",
              "      <th>total_il_high_credit_limit</th>\n",
              "      <td>13734</td>\n",
              "      <td>24667</td>\n",
              "      <td>14877</td>\n",
              "      <td>18000</td>\n",
              "      <td>88097</td>\n",
              "    </tr>\n",
              "    <tr>\n",
              "      <th>revol_bal_joint</th>\n",
              "      <td>NaN</td>\n",
              "      <td>NaN</td>\n",
              "      <td>NaN</td>\n",
              "      <td>NaN</td>\n",
              "      <td>NaN</td>\n",
              "    </tr>\n",
              "    <tr>\n",
              "      <th>sec_app_fico_range_low</th>\n",
              "      <td>NaN</td>\n",
              "      <td>NaN</td>\n",
              "      <td>NaN</td>\n",
              "      <td>NaN</td>\n",
              "      <td>NaN</td>\n",
              "    </tr>\n",
              "    <tr>\n",
              "      <th>sec_app_fico_range_high</th>\n",
              "      <td>NaN</td>\n",
              "      <td>NaN</td>\n",
              "      <td>NaN</td>\n",
              "      <td>NaN</td>\n",
              "      <td>NaN</td>\n",
              "    </tr>\n",
              "    <tr>\n",
              "      <th>sec_app_earliest_cr_line</th>\n",
              "      <td>NaN</td>\n",
              "      <td>NaN</td>\n",
              "      <td>NaN</td>\n",
              "      <td>NaN</td>\n",
              "      <td>NaN</td>\n",
              "    </tr>\n",
              "    <tr>\n",
              "      <th>sec_app_inq_last_6mths</th>\n",
              "      <td>NaN</td>\n",
              "      <td>NaN</td>\n",
              "      <td>NaN</td>\n",
              "      <td>NaN</td>\n",
              "      <td>NaN</td>\n",
              "    </tr>\n",
              "    <tr>\n",
              "      <th>sec_app_mort_acc</th>\n",
              "      <td>NaN</td>\n",
              "      <td>NaN</td>\n",
              "      <td>NaN</td>\n",
              "      <td>NaN</td>\n",
              "      <td>NaN</td>\n",
              "    </tr>\n",
              "    <tr>\n",
              "      <th>sec_app_open_acc</th>\n",
              "      <td>NaN</td>\n",
              "      <td>NaN</td>\n",
              "      <td>NaN</td>\n",
              "      <td>NaN</td>\n",
              "      <td>NaN</td>\n",
              "    </tr>\n",
              "    <tr>\n",
              "      <th>sec_app_revol_util</th>\n",
              "      <td>NaN</td>\n",
              "      <td>NaN</td>\n",
              "      <td>NaN</td>\n",
              "      <td>NaN</td>\n",
              "      <td>NaN</td>\n",
              "    </tr>\n",
              "    <tr>\n",
              "      <th>sec_app_open_act_il</th>\n",
              "      <td>NaN</td>\n",
              "      <td>NaN</td>\n",
              "      <td>NaN</td>\n",
              "      <td>NaN</td>\n",
              "      <td>NaN</td>\n",
              "    </tr>\n",
              "    <tr>\n",
              "      <th>sec_app_num_rev_accts</th>\n",
              "      <td>NaN</td>\n",
              "      <td>NaN</td>\n",
              "      <td>NaN</td>\n",
              "      <td>NaN</td>\n",
              "      <td>NaN</td>\n",
              "    </tr>\n",
              "    <tr>\n",
              "      <th>sec_app_chargeoff_within_12_mths</th>\n",
              "      <td>NaN</td>\n",
              "      <td>NaN</td>\n",
              "      <td>NaN</td>\n",
              "      <td>NaN</td>\n",
              "      <td>NaN</td>\n",
              "    </tr>\n",
              "    <tr>\n",
              "      <th>sec_app_collections_12_mths_ex_med</th>\n",
              "      <td>NaN</td>\n",
              "      <td>NaN</td>\n",
              "      <td>NaN</td>\n",
              "      <td>NaN</td>\n",
              "      <td>NaN</td>\n",
              "    </tr>\n",
              "    <tr>\n",
              "      <th>sec_app_mths_since_last_major_derog</th>\n",
              "      <td>NaN</td>\n",
              "      <td>NaN</td>\n",
              "      <td>NaN</td>\n",
              "      <td>NaN</td>\n",
              "      <td>NaN</td>\n",
              "    </tr>\n",
              "    <tr>\n",
              "      <th>hardship_flag</th>\n",
              "      <td>N</td>\n",
              "      <td>N</td>\n",
              "      <td>N</td>\n",
              "      <td>N</td>\n",
              "      <td>N</td>\n",
              "    </tr>\n",
              "    <tr>\n",
              "      <th>hardship_type</th>\n",
              "      <td>NaN</td>\n",
              "      <td>NaN</td>\n",
              "      <td>NaN</td>\n",
              "      <td>NaN</td>\n",
              "      <td>NaN</td>\n",
              "    </tr>\n",
              "    <tr>\n",
              "      <th>hardship_reason</th>\n",
              "      <td>NaN</td>\n",
              "      <td>NaN</td>\n",
              "      <td>NaN</td>\n",
              "      <td>NaN</td>\n",
              "      <td>NaN</td>\n",
              "    </tr>\n",
              "    <tr>\n",
              "      <th>hardship_status</th>\n",
              "      <td>NaN</td>\n",
              "      <td>NaN</td>\n",
              "      <td>NaN</td>\n",
              "      <td>NaN</td>\n",
              "      <td>NaN</td>\n",
              "    </tr>\n",
              "    <tr>\n",
              "      <th>deferral_term</th>\n",
              "      <td>NaN</td>\n",
              "      <td>NaN</td>\n",
              "      <td>NaN</td>\n",
              "      <td>NaN</td>\n",
              "      <td>NaN</td>\n",
              "    </tr>\n",
              "    <tr>\n",
              "      <th>hardship_amount</th>\n",
              "      <td>NaN</td>\n",
              "      <td>NaN</td>\n",
              "      <td>NaN</td>\n",
              "      <td>NaN</td>\n",
              "      <td>NaN</td>\n",
              "    </tr>\n",
              "    <tr>\n",
              "      <th>hardship_start_date</th>\n",
              "      <td>NaN</td>\n",
              "      <td>NaN</td>\n",
              "      <td>NaN</td>\n",
              "      <td>NaN</td>\n",
              "      <td>NaN</td>\n",
              "    </tr>\n",
              "    <tr>\n",
              "      <th>hardship_end_date</th>\n",
              "      <td>NaN</td>\n",
              "      <td>NaN</td>\n",
              "      <td>NaN</td>\n",
              "      <td>NaN</td>\n",
              "      <td>NaN</td>\n",
              "    </tr>\n",
              "    <tr>\n",
              "      <th>payment_plan_start_date</th>\n",
              "      <td>NaN</td>\n",
              "      <td>NaN</td>\n",
              "      <td>NaN</td>\n",
              "      <td>NaN</td>\n",
              "      <td>NaN</td>\n",
              "    </tr>\n",
              "    <tr>\n",
              "      <th>hardship_length</th>\n",
              "      <td>NaN</td>\n",
              "      <td>NaN</td>\n",
              "      <td>NaN</td>\n",
              "      <td>NaN</td>\n",
              "      <td>NaN</td>\n",
              "    </tr>\n",
              "    <tr>\n",
              "      <th>hardship_dpd</th>\n",
              "      <td>NaN</td>\n",
              "      <td>NaN</td>\n",
              "      <td>NaN</td>\n",
              "      <td>NaN</td>\n",
              "      <td>NaN</td>\n",
              "    </tr>\n",
              "    <tr>\n",
              "      <th>hardship_loan_status</th>\n",
              "      <td>NaN</td>\n",
              "      <td>NaN</td>\n",
              "      <td>NaN</td>\n",
              "      <td>NaN</td>\n",
              "      <td>NaN</td>\n",
              "    </tr>\n",
              "    <tr>\n",
              "      <th>orig_projected_additional_accrued_interest</th>\n",
              "      <td>NaN</td>\n",
              "      <td>NaN</td>\n",
              "      <td>NaN</td>\n",
              "      <td>NaN</td>\n",
              "      <td>NaN</td>\n",
              "    </tr>\n",
              "    <tr>\n",
              "      <th>hardship_payoff_balance_amount</th>\n",
              "      <td>NaN</td>\n",
              "      <td>NaN</td>\n",
              "      <td>NaN</td>\n",
              "      <td>NaN</td>\n",
              "      <td>NaN</td>\n",
              "    </tr>\n",
              "    <tr>\n",
              "      <th>hardship_last_payment_amount</th>\n",
              "      <td>NaN</td>\n",
              "      <td>NaN</td>\n",
              "      <td>NaN</td>\n",
              "      <td>NaN</td>\n",
              "      <td>NaN</td>\n",
              "    </tr>\n",
              "    <tr>\n",
              "      <th>disbursement_method</th>\n",
              "      <td>Cash</td>\n",
              "      <td>Cash</td>\n",
              "      <td>Cash</td>\n",
              "      <td>Cash</td>\n",
              "      <td>Cash</td>\n",
              "    </tr>\n",
              "    <tr>\n",
              "      <th>debt_settlement_flag</th>\n",
              "      <td>N</td>\n",
              "      <td>N</td>\n",
              "      <td>N</td>\n",
              "      <td>N</td>\n",
              "      <td>N</td>\n",
              "    </tr>\n",
              "    <tr>\n",
              "      <th>debt_settlement_flag_date</th>\n",
              "      <td>NaN</td>\n",
              "      <td>NaN</td>\n",
              "      <td>NaN</td>\n",
              "      <td>NaN</td>\n",
              "      <td>NaN</td>\n",
              "    </tr>\n",
              "    <tr>\n",
              "      <th>settlement_status</th>\n",
              "      <td>NaN</td>\n",
              "      <td>NaN</td>\n",
              "      <td>NaN</td>\n",
              "      <td>NaN</td>\n",
              "      <td>NaN</td>\n",
              "    </tr>\n",
              "    <tr>\n",
              "      <th>settlement_date</th>\n",
              "      <td>NaN</td>\n",
              "      <td>NaN</td>\n",
              "      <td>NaN</td>\n",
              "      <td>NaN</td>\n",
              "      <td>NaN</td>\n",
              "    </tr>\n",
              "    <tr>\n",
              "      <th>settlement_amount</th>\n",
              "      <td>NaN</td>\n",
              "      <td>NaN</td>\n",
              "      <td>NaN</td>\n",
              "      <td>NaN</td>\n",
              "      <td>NaN</td>\n",
              "    </tr>\n",
              "    <tr>\n",
              "      <th>settlement_percentage</th>\n",
              "      <td>NaN</td>\n",
              "      <td>NaN</td>\n",
              "      <td>NaN</td>\n",
              "      <td>NaN</td>\n",
              "      <td>NaN</td>\n",
              "    </tr>\n",
              "    <tr>\n",
              "      <th>settlement_term</th>\n",
              "      <td>NaN</td>\n",
              "      <td>NaN</td>\n",
              "      <td>NaN</td>\n",
              "      <td>NaN</td>\n",
              "      <td>NaN</td>\n",
              "    </tr>\n",
              "  </tbody>\n",
              "</table>\n",
              "</div>"
            ],
            "text/plain": [
              "                                                                                            0  ...                                                  4\n",
              "id                                                                                   68407277  ...                                           68476807\n",
              "member_id                                                                                 NaN  ...                                                NaN\n",
              "loan_amnt                                                                                3600  ...                                              10400\n",
              "funded_amnt                                                                              3600  ...                                              10400\n",
              "funded_amnt_inv                                                                          3600  ...                                              10400\n",
              "term                                                                                36 months  ...                                          60 months\n",
              "int_rate                                                                                13.99  ...                                              22.45\n",
              "installment                                                                            123.03  ...                                             289.91\n",
              "grade                                                                                       C  ...                                                  F\n",
              "sub_grade                                                                                  C4  ...                                                 F1\n",
              "emp_title                                                                             leadman  ...                                Contract Specialist\n",
              "emp_length                                                                          10+ years  ...                                            3 years\n",
              "home_ownership                                                                       MORTGAGE  ...                                           MORTGAGE\n",
              "annual_inc                                                                              55000  ...                                             104433\n",
              "verification_status                                                              Not Verified  ...                                    Source Verified\n",
              "issue_d                                                                              Dec-2015  ...                                           Dec-2015\n",
              "loan_status                                                                        Fully Paid  ...                                         Fully Paid\n",
              "pymnt_plan                                                                                  n  ...                                                  n\n",
              "url                                         https://lendingclub.com/browse/loanDetail.acti...  ...  https://lendingclub.com/browse/loanDetail.acti...\n",
              "desc                                                                                      NaN  ...                                                NaN\n",
              "purpose                                                                    debt_consolidation  ...                                     major_purchase\n",
              "title                                                                      Debt consolidation  ...                                     Major purchase\n",
              "zip_code                                                                                190xx  ...                                              174xx\n",
              "addr_state                                                                                 PA  ...                                                 PA\n",
              "dti                                                                                      5.91  ...                                              25.37\n",
              "delinq_2yrs                                                                                 0  ...                                                  1\n",
              "earliest_cr_line                                                                     Aug-2003  ...                                           Jun-1998\n",
              "fico_range_low                                                                            675  ...                                                695\n",
              "fico_range_high                                                                           679  ...                                                699\n",
              "inq_last_6mths                                                                              1  ...                                                  3\n",
              "mths_since_last_delinq                                                                     30  ...                                                 12\n",
              "mths_since_last_record                                                                    NaN  ...                                                NaN\n",
              "open_acc                                                                                    7  ...                                                 12\n",
              "pub_rec                                                                                     0  ...                                                  0\n",
              "revol_bal                                                                                2765  ...                                              21929\n",
              "revol_util                                                                               29.7  ...                                               64.5\n",
              "total_acc                                                                                  13  ...                                                 35\n",
              "initial_list_status                                                                         w  ...                                                  w\n",
              "out_prncp                                                                                   0  ...                                                  0\n",
              "out_prncp_inv                                                                               0  ...                                                  0\n",
              "total_pymnt                                                                           4421.72  ...                                            11740.5\n",
              "total_pymnt_inv                                                                       4421.72  ...                                            11740.5\n",
              "total_rec_prncp                                                                          3600  ...                                              10400\n",
              "total_rec_int                                                                          821.72  ...                                             1340.5\n",
              "total_rec_late_fee                                                                          0  ...                                                  0\n",
              "recoveries                                                                                  0  ...                                                  0\n",
              "collection_recovery_fee                                                                     0  ...                                                  0\n",
              "last_pymnt_d                                                                         Jan-2019  ...                                           Jul-2016\n",
              "last_pymnt_amnt                                                                        122.67  ...                                              10129\n",
              "next_pymnt_d                                                                              NaN  ...                                                NaN\n",
              "last_credit_pull_d                                                                   Mar-2019  ...                                           Mar-2018\n",
              "last_fico_range_high                                                                      564  ...                                                704\n",
              "last_fico_range_low                                                                       560  ...                                                700\n",
              "collections_12_mths_ex_med                                                                  0  ...                                                  0\n",
              "mths_since_last_major_derog                                                                30  ...                                                NaN\n",
              "policy_code                                                                                 1  ...                                                  1\n",
              "application_type                                                                   Individual  ...                                         Individual\n",
              "annual_inc_joint                                                                          NaN  ...                                                NaN\n",
              "dti_joint                                                                                 NaN  ...                                                NaN\n",
              "verification_status_joint                                                                 NaN  ...                                                NaN\n",
              "acc_now_delinq                                                                              0  ...                                                  0\n",
              "tot_coll_amt                                                                              722  ...                                                  0\n",
              "tot_cur_bal                                                                            144904  ...                                             331730\n",
              "open_acc_6m                                                                                 2  ...                                                  1\n",
              "open_act_il                                                                                 2  ...                                                  3\n",
              "open_il_12m                                                                                 0  ...                                                  0\n",
              "open_il_24m                                                                                 1  ...                                                  3\n",
              "mths_since_rcnt_il                                                                         21  ...                                                 14\n",
              "total_bal_il                                                                             4981  ...                                              73839\n",
              "il_util                                                                                    36  ...                                                 84\n",
              "open_rv_12m                                                                                 3  ...                                                  4\n",
              "open_rv_24m                                                                                 3  ...                                                  7\n",
              "max_bal_bc                                                                                722  ...                                               9702\n",
              "all_util                                                                                   34  ...                                                 78\n",
              "total_rev_hi_lim                                                                         9300  ...                                              34000\n",
              "inq_fi                                                                                      3  ...                                                  2\n",
              "total_cu_tl                                                                                 1  ...                                                  1\n",
              "inq_last_12m                                                                                4  ...                                                  3\n",
              "acc_open_past_24mths                                                                        4  ...                                                 10\n",
              "avg_cur_bal                                                                             20701  ...                                              27644\n",
              "bc_open_to_buy                                                                           1506  ...                                               4567\n",
              "bc_util                                                                                  37.2  ...                                               77.5\n",
              "chargeoff_within_12_mths                                                                    0  ...                                                  0\n",
              "delinq_amnt                                                                                 0  ...                                                  0\n",
              "mo_sin_old_il_acct                                                                        148  ...                                                128\n",
              "mo_sin_old_rev_tl_op                                                                      128  ...                                                210\n",
              "mo_sin_rcnt_rev_tl_op                                                                       3  ...                                                  4\n",
              "mo_sin_rcnt_tl                                                                              3  ...                                                  4\n",
              "mort_acc                                                                                    1  ...                                                  6\n",
              "mths_since_recent_bc                                                                        4  ...                                                  4\n",
              "mths_since_recent_bc_dlq                                                                   69  ...                                                 12\n",
              "mths_since_recent_inq                                                                       4  ...                                                  1\n",
              "mths_since_recent_revol_delinq                                                             69  ...                                                 12\n",
              "num_accts_ever_120_pd                                                                       2  ...                                                  0\n",
              "num_actv_bc_tl                                                                              2  ...                                                  4\n",
              "num_actv_rev_tl                                                                             4  ...                                                  6\n",
              "num_bc_sats                                                                                 2  ...                                                  5\n",
              "num_bc_tl                                                                                   5  ...                                                  9\n",
              "num_il_tl                                                                                   3  ...                                                 10\n",
              "num_op_rev_tl                                                                               4  ...                                                  7\n",
              "num_rev_accts                                                                               9  ...                                                 19\n",
              "num_rev_tl_bal_gt_0                                                                         4  ...                                                  6\n",
              "num_sats                                                                                    7  ...                                                 12\n",
              "num_tl_120dpd_2m                                                                            0  ...                                                  0\n",
              "num_tl_30dpd                                                                                0  ...                                                  0\n",
              "num_tl_90g_dpd_24m                                                                          0  ...                                                  0\n",
              "num_tl_op_past_12m                                                                          3  ...                                                  4\n",
              "pct_tl_nvr_dlq                                                                           76.9  ...                                               96.6\n",
              "percent_bc_gt_75                                                                            0  ...                                                 60\n",
              "pub_rec_bankruptcies                                                                        0  ...                                                  0\n",
              "tax_liens                                                                                   0  ...                                                  0\n",
              "tot_hi_cred_lim                                                                        178050  ...                                             439570\n",
              "total_bal_ex_mort                                                                        7746  ...                                              95768\n",
              "total_bc_limit                                                                           2400  ...                                              20300\n",
              "total_il_high_credit_limit                                                              13734  ...                                              88097\n",
              "revol_bal_joint                                                                           NaN  ...                                                NaN\n",
              "sec_app_fico_range_low                                                                    NaN  ...                                                NaN\n",
              "sec_app_fico_range_high                                                                   NaN  ...                                                NaN\n",
              "sec_app_earliest_cr_line                                                                  NaN  ...                                                NaN\n",
              "sec_app_inq_last_6mths                                                                    NaN  ...                                                NaN\n",
              "sec_app_mort_acc                                                                          NaN  ...                                                NaN\n",
              "sec_app_open_acc                                                                          NaN  ...                                                NaN\n",
              "sec_app_revol_util                                                                        NaN  ...                                                NaN\n",
              "sec_app_open_act_il                                                                       NaN  ...                                                NaN\n",
              "sec_app_num_rev_accts                                                                     NaN  ...                                                NaN\n",
              "sec_app_chargeoff_within_12_mths                                                          NaN  ...                                                NaN\n",
              "sec_app_collections_12_mths_ex_med                                                        NaN  ...                                                NaN\n",
              "sec_app_mths_since_last_major_derog                                                       NaN  ...                                                NaN\n",
              "hardship_flag                                                                               N  ...                                                  N\n",
              "hardship_type                                                                             NaN  ...                                                NaN\n",
              "hardship_reason                                                                           NaN  ...                                                NaN\n",
              "hardship_status                                                                           NaN  ...                                                NaN\n",
              "deferral_term                                                                             NaN  ...                                                NaN\n",
              "hardship_amount                                                                           NaN  ...                                                NaN\n",
              "hardship_start_date                                                                       NaN  ...                                                NaN\n",
              "hardship_end_date                                                                         NaN  ...                                                NaN\n",
              "payment_plan_start_date                                                                   NaN  ...                                                NaN\n",
              "hardship_length                                                                           NaN  ...                                                NaN\n",
              "hardship_dpd                                                                              NaN  ...                                                NaN\n",
              "hardship_loan_status                                                                      NaN  ...                                                NaN\n",
              "orig_projected_additional_accrued_interest                                                NaN  ...                                                NaN\n",
              "hardship_payoff_balance_amount                                                            NaN  ...                                                NaN\n",
              "hardship_last_payment_amount                                                              NaN  ...                                                NaN\n",
              "disbursement_method                                                                      Cash  ...                                               Cash\n",
              "debt_settlement_flag                                                                        N  ...                                                  N\n",
              "debt_settlement_flag_date                                                                 NaN  ...                                                NaN\n",
              "settlement_status                                                                         NaN  ...                                                NaN\n",
              "settlement_date                                                                           NaN  ...                                                NaN\n",
              "settlement_amount                                                                         NaN  ...                                                NaN\n",
              "settlement_percentage                                                                     NaN  ...                                                NaN\n",
              "settlement_term                                                                           NaN  ...                                                NaN\n",
              "\n",
              "[151 rows x 5 columns]"
            ]
          },
          "metadata": {
            "tags": []
          },
          "execution_count": 449
        }
      ]
    },
    {
      "cell_type": "code",
      "metadata": {
        "id": "U8wUegYMrped"
      },
      "source": [
        "data.describe(include='all').T"
      ],
      "execution_count": null,
      "outputs": []
    },
    {
      "cell_type": "markdown",
      "metadata": {
        "id": "vGvNPmMVt5xB"
      },
      "source": [
        "Not all features are known at the time, when the loan is handed out. E. g. 'hardship_dpd' is not known. Therefore, a preselection is done to those features that can be known during the application process by using a [dictionary](https://drive.google.com/file/d/1UzyKMtrzL3aEEQpeYIz_qjBWyW-lAMr0/view). We restrict our further analysis to thhose features.\n",
        "\n",
        "Moreover, the columns `url` or `desc`, as the info is no longer available on the lending club website.\n",
        "\n",
        "Finally, we also drop the column `id`, as it is unique to the loan, but can not be used for a default prediction."
      ]
    },
    {
      "cell_type": "code",
      "metadata": {
        "id": "stG0sEOG7GW4"
      },
      "source": [
        "a_priori_known = ['loan_amnt', 'funded_amnt', 'funded_amnt_inv', 'term', 'int_rate', 'installment', 'grade', 'sub_grade', 'emp_title', 'emp_length', 'home_ownership', 'annual_inc', 'verification_status', 'issue_d', 'loan_status', 'purpose', 'title', 'zip_code', 'addr_state', 'dti', 'delinq_2yrs', 'earliest_cr_line', 'fico_range_low', 'fico_range_high', 'inq_last_6mths', 'mths_since_last_delinq', 'mths_since_last_record', 'open_acc', 'pub_rec', 'revol_bal', 'revol_util', 'total_acc', 'initial_list_status',  'next_pymnt_d', 'last_credit_pull_d', 'last_fico_range_high', 'last_fico_range_low', 'collections_12_mths_ex_med', 'mths_since_last_major_derog', 'policy_code', 'application_type', 'annual_inc_joint', 'dti_joint', 'verification_status_joint', 'acc_now_delinq', 'tot_coll_amt', 'tot_cur_bal', 'open_acc_6m', 'open_act_il', 'open_il_12m', 'open_il_24m', 'mths_since_rcnt_il', 'total_bal_il', 'il_util', 'open_rv_12m', 'open_rv_24m', 'max_bal_bc', 'all_util', 'total_rev_hi_lim', 'inq_fi', 'total_cu_tl', 'inq_last_12m', 'acc_open_past_24mths', 'avg_cur_bal', 'bc_open_to_buy', 'bc_util', 'chargeoff_within_12_mths', 'delinq_amnt', 'mo_sin_old_il_acct', 'mo_sin_old_rev_tl_op', 'mo_sin_rcnt_rev_tl_op', 'mo_sin_rcnt_tl', 'mort_acc',  'num_accts_ever_120_pd', 'num_actv_bc_tl', 'num_actv_rev_tl', 'num_bc_sats', 'num_bc_tl', 'num_il_tl', 'num_op_rev_tl', 'num_rev_accts', 'num_rev_tl_bal_gt_0', 'num_sats', 'num_tl_120dpd_2m', 'num_tl_30dpd', 'num_tl_90g_dpd_24m', 'num_tl_op_past_12m', 'pct_tl_nvr_dlq', 'percent_bc_gt_75', 'pub_rec_bankruptcies', 'tax_liens', 'tot_hi_cred_lim', 'total_bal_ex_mort', 'total_bc_limit', 'total_il_high_credit_limit', 'revol_bal_joint']\n",
        "\n",
        "# filter columns of data frame, that can be known in advance\n",
        "data = data[a_priori_known]"
      ],
      "execution_count": null,
      "outputs": []
    },
    {
      "cell_type": "markdown",
      "metadata": {
        "id": "fgG24f_jOz85"
      },
      "source": [
        "Next, we look at missing data."
      ]
    },
    {
      "cell_type": "code",
      "metadata": {
        "id": "JfQyG_PXOuGk"
      },
      "source": [
        "data.isna().sum()"
      ],
      "execution_count": null,
      "outputs": []
    },
    {
      "cell_type": "markdown",
      "metadata": {
        "id": "tgcExJ77e2w3"
      },
      "source": [
        "or visually for the first 50 rows:"
      ]
    },
    {
      "cell_type": "code",
      "metadata": {
        "id": "eBn8HMnse2gu"
      },
      "source": [
        "fig, ax = plt.subplots(figsize=(20,10))\n",
        "sns.heatmap(data.head(50).isnull(), cbar=False);\n",
        "plt.xlabel(\"feature\")\n",
        "plt.ylabel(\"row\")\n",
        "plt.show();"
      ],
      "execution_count": null,
      "outputs": []
    },
    {
      "cell_type": "markdown",
      "metadata": {
        "id": "aFuXFRJEPTeB"
      },
      "source": [
        "As it can be seen above, there is a high of missing data. While `dt_joint` and `acc_now_delinq` are missing more often than other features such as `title`, To further quantify this discovery, we use use a pareto plot in the next step. The missing values appear in a *completely random (MCAR)* fashion."
      ]
    },
    {
      "cell_type": "code",
      "metadata": {
        "id": "znPSkOXu7QAw"
      },
      "source": [
        "missing_val = data.isna().sum()\n",
        "missing_val.sort_values(ascending=False, inplace=True)\n",
        "\n",
        "missing_val = missing_val[missing_val > 1]\n",
        "missing_val = missing_val.to_frame()\n",
        "\n",
        "missing_val['pareto'] = 100 *missing_val[0].cumsum() / missing_val[0].sum()\n",
        "missing_val.rename(columns={0:'nan'}, inplace=True)\n",
        "\n",
        "print(missing_val.tail())"
      ],
      "execution_count": null,
      "outputs": []
    },
    {
      "cell_type": "code",
      "metadata": {
        "id": "1Y73d60XI97r"
      },
      "source": [
        "fig, axes = plt.subplots(figsize=(20,10))\n",
        "ax1 = missing_val.plot(use_index=True, y='nan',  kind='bar', ax=axes)\n",
        "ax2 = missing_val.plot(use_index=True, y='pareto', marker='D', color=\"C1\", kind='line', ax=axes, secondary_y=True)\n",
        "ax2.set_ylim([0,110])\n",
        "ax1.set_xticklabels(ax1.get_xticklabels(), rotation=45, ha='right')\n",
        "plt.xticks(rotation=45)\n",
        "plt.title(\"Pareto plot of missing values by column\")\n",
        "plt.show()"
      ],
      "execution_count": null,
      "outputs": []
    },
    {
      "cell_type": "markdown",
      "metadata": {
        "id": "AIkC2zaybdCA"
      },
      "source": [
        "To fix the problem of columns with a high degree of missing values, we exclude columns with more than 20 % of missing values. We are aware, that by removing features a bias is introduced. However, it's common practice to remove columns above this threshold, as shown in (...)."
      ]
    },
    {
      "cell_type": "code",
      "metadata": {
        "id": "gpsg8sCHIsh_"
      },
      "source": [
        "threshold = 0.80\n",
        "\n",
        "percentage_missing_val = data.isna().sum()/len(data)\n",
        "\n",
        "percentage_missing_val = percentage_missing_val[percentage_missing_val >= threshold]\n",
        "\n",
        "print(percentage_missing_val)\n",
        "threshold_abs = int(threshold * len(data))\n",
        "\n",
        "data = data.dropna(axis=1, thresh=threshold_abs)\n",
        "\n",
        "print(data.shape)"
      ],
      "execution_count": null,
      "outputs": []
    },
    {
      "cell_type": "code",
      "metadata": {
        "id": "hbLJzyCKfOe4"
      },
      "source": [
        "fig, ax = plt.subplots(figsize=(20,10))\n",
        "sns.heatmap(data.head(50).isnull(), cbar=False);\n",
        "plt.xlabel(\"feature\")\n",
        "plt.ylabel(\"row\")\n",
        "plt.show();"
      ],
      "execution_count": null,
      "outputs": []
    },
    {
      "cell_type": "markdown",
      "metadata": {
        "id": "6mQmSiJufOyx"
      },
      "source": [
        "Looking at the Data Frame again..."
      ]
    },
    {
      "cell_type": "markdown",
      "metadata": {
        "id": "5OkqjjW8tUdk"
      },
      "source": [
        "\n",
        "Some rows are present, where the volume and many other features are null. We exclude these loans without volume from analysis.\n",
        "\n"
      ]
    },
    {
      "cell_type": "code",
      "metadata": {
        "id": "QZpf3hkj8q1M"
      },
      "source": [
        "data = data[data.loan_amnt.notna()]"
      ],
      "execution_count": null,
      "outputs": []
    },
    {
      "cell_type": "markdown",
      "metadata": {
        "id": "lUEXceZPfvBR"
      },
      "source": [
        "This leads to the following result..."
      ]
    },
    {
      "cell_type": "code",
      "metadata": {
        "id": "18gwwT12fx1i"
      },
      "source": [
        "fig, ax = plt.subplots(figsize=(20,10))\n",
        "sns.heatmap(data.head(50).isnull(), cbar=False);\n",
        "plt.xlabel(\"feature\")\n",
        "plt.ylabel(\"row\")\n",
        "plt.show();"
      ],
      "execution_count": null,
      "outputs": []
    },
    {
      "cell_type": "code",
      "metadata": {
        "id": "QX6R5pjC9fpz"
      },
      "source": [
        "# convert to categorical\n",
        "categorical = ['addr_state', 'term', 'application_type', 'initial_list_status', 'loan_status', 'grade', 'sub_grade', 'home_ownership', 'verification_status', 'purpose','emp_length']\n",
        "data[categorical] = data[categorical].apply(lambda x: x.astype('category'))\n",
        "\n",
        "# convert to string\n",
        "strs = ['emp_title', 'title', 'zip_code']\n",
        "data[strs] = data[strs].apply(lambda x: x.astype('string'))\n",
        "\n",
        "# convert to datetime\n",
        "dts = ['earliest_cr_line', 'issue_d', 'last_credit_pull_d']\n",
        "data[dts] = data[dts].apply(lambda x: pd.to_datetime(x, format=\"%b-%Y\",  errors='coerce'))\n",
        "\n",
        "# convert to integer\n",
        "# FIXME: Remove this piece of code, as id is dropped further above\n",
        "#ints = ['id']\n",
        "#data[ints] = data[ints].apply(lambda x: x.astype('int'))\n",
        "\n",
        "print(data.dtypes)"
      ],
      "execution_count": null,
      "outputs": []
    },
    {
      "cell_type": "markdown",
      "metadata": {
        "id": "vn4wZtMd-hhJ"
      },
      "source": [
        "##Number of unique classes per feature"
      ]
    },
    {
      "cell_type": "code",
      "metadata": {
        "id": "vGNdRk5I-gzw"
      },
      "source": [
        "data_classes = []\n",
        "for row in data.columns.tolist():\n",
        "    data_classes.append({'column': row, 'count': len(data[row].unique())})\n",
        "amount = pd.DataFrame(data_classes).sort_values('count')\n",
        "print(amount)"
      ],
      "execution_count": null,
      "outputs": []
    },
    {
      "cell_type": "markdown",
      "metadata": {
        "id": "qUG1Y232EYQF"
      },
      "source": [
        "The features `purpose` and `title` contain similar content. Since `purpose` only contains 14 classes and `title` contains more than 60,000 classes we keep `purpose` and drop `title`.\n",
        "\n",
        "More over we drop `emp_title` and `zip_code`, as they contain either free-text or a high number of unique values, which is true for the later. Geographical information is also part of the variable `addr_state`, which we keep. We expect little loss in information by deleting these variables."
      ]
    },
    {
      "cell_type": "code",
      "metadata": {
        "id": "XhlUYmRgEYgh"
      },
      "source": [
        "data = data.drop(columns=['emp_title', 'zip_code', 'title'])"
      ],
      "execution_count": null,
      "outputs": []
    },
    {
      "cell_type": "markdown",
      "metadata": {
        "id": "Bh7so8oEvraF"
      },
      "source": [
        "Next, we analyze categorical features by looking at their $k$ most frequent values."
      ]
    },
    {
      "cell_type": "code",
      "metadata": {
        "id": "UJXdv1S0lBmz"
      },
      "source": [
        "k = 10\n",
        "data['term'].value_counts().head(k)"
      ],
      "execution_count": null,
      "outputs": []
    },
    {
      "cell_type": "code",
      "metadata": {
        "id": "xLpty88Wxgq0"
      },
      "source": [
        "data['addr_state'].value_counts().head(k)"
      ],
      "execution_count": null,
      "outputs": []
    },
    {
      "cell_type": "code",
      "metadata": {
        "id": "B-V_h60fxf5W"
      },
      "source": [
        "data['application_type'].value_counts().head(k)"
      ],
      "execution_count": null,
      "outputs": []
    },
    {
      "cell_type": "code",
      "metadata": {
        "id": "VyYTudK0xfpL"
      },
      "source": [
        "data['initial_list_status'].value_counts().head(k)"
      ],
      "execution_count": null,
      "outputs": []
    },
    {
      "cell_type": "code",
      "metadata": {
        "id": "3RzQBIzbxfhm"
      },
      "source": [
        "data['loan_status'].value_counts().head(k)"
      ],
      "execution_count": null,
      "outputs": []
    },
    {
      "cell_type": "code",
      "metadata": {
        "id": "DMPT3EJexfYY"
      },
      "source": [
        "data['grade'].value_counts().head(k)"
      ],
      "execution_count": null,
      "outputs": []
    },
    {
      "cell_type": "code",
      "metadata": {
        "id": "BkwbQEh8xfPO"
      },
      "source": [
        "data['sub_grade'].value_counts().head(k)"
      ],
      "execution_count": null,
      "outputs": []
    },
    {
      "cell_type": "code",
      "metadata": {
        "id": "8rQek4VfxfEU"
      },
      "source": [
        "data['home_ownership'].value_counts().head(k)"
      ],
      "execution_count": null,
      "outputs": []
    },
    {
      "cell_type": "code",
      "metadata": {
        "id": "KfpFLRskxez1"
      },
      "source": [
        "data['verification_status'].value_counts().head(k)"
      ],
      "execution_count": null,
      "outputs": []
    },
    {
      "cell_type": "code",
      "metadata": {
        "id": "8urZ7RiAxerd"
      },
      "source": [
        "data['purpose'].value_counts().head(k)"
      ],
      "execution_count": null,
      "outputs": []
    },
    {
      "cell_type": "code",
      "metadata": {
        "id": "vkTNaKjsxehs"
      },
      "source": [
        "data['emp_length'].value_counts().head(k)"
      ],
      "execution_count": null,
      "outputs": []
    },
    {
      "cell_type": "markdown",
      "metadata": {
        "id": "Q-9znEc79WrT"
      },
      "source": [
        "##Analyze loan status"
      ]
    },
    {
      "cell_type": "code",
      "metadata": {
        "id": "-50t69aT9V9m"
      },
      "source": [
        "data['loan_status'].value_counts()"
      ],
      "execution_count": null,
      "outputs": []
    },
    {
      "cell_type": "code",
      "metadata": {
        "id": "MDdX4BMyHr-o"
      },
      "source": [
        "loan_status_absolute = data['loan_status'].value_counts()\n",
        "loan_status_absolute = loan_status_absolute.to_frame()\n",
        "\n",
        "fig, ax = plt.subplots(figsize=(20,10))\n",
        "plt.ticklabel_format(style='plain')\n",
        "sns.barplot(x='loan_status', y=loan_status_absolute.index,  data=loan_status_absolute, ax=ax);"
      ],
      "execution_count": null,
      "outputs": []
    },
    {
      "cell_type": "code",
      "metadata": {
        "id": "OUifhYru8zDc"
      },
      "source": [
        "default_categories = ['Default', 'Charged Off', 'Does not meet the credit policy. Status:Charged Off']\n",
        "data['TARGET'] = data['loan_status'].isin(default_categories)\n",
        "\n",
        "data['TARGET'].value_counts()"
      ],
      "execution_count": null,
      "outputs": []
    },
    {
      "cell_type": "code",
      "metadata": {
        "id": "jcwKAVjaMaO7"
      },
      "source": [
        "fig, ax = plt.subplots(figsize=(20,10))\n",
        "plt.ticklabel_format(style='plain')\n",
        "g = sns.countplot(x='TARGET', hue='loan_status', data=data);\n",
        "g.legend(loc='upper right', bbox_to_anchor=(1, 1), ncol=1);\n",
        "plt.show();"
      ],
      "execution_count": null,
      "outputs": []
    },
    {
      "cell_type": "markdown",
      "metadata": {
        "id": "yftZEacLNpm4"
      },
      "source": [
        "## default status by debt-to-income-ratio\n",
        "- For calculation of debt-to-income-ratio see [here.](https://www.lendingclub.com/loans/resource-center/calculating-debt-to-income)\n",
        "\n",
        "**expectation**\n",
        "- One would expect more defaults with a higher debt-to-income ratio, but no clear trend can be derived from data."
      ]
    },
    {
      "cell_type": "code",
      "metadata": {
        "id": "mDp5z60wNt93"
      },
      "source": [
        "g = sns.displot(data, x='dti', hue='TARGET', multiple='fill', legend=False, height=10, aspect=20/10, alpha=1, bins=1000)\n",
        "plt.title(\"default status by debt to income ratio in relative numbers\")\n",
        "plt.xlim(0, 100)\n",
        "plt.legend(title='Defaulted', loc='upper right', labels=['Default', 'Non-Default'])\n",
        "plt.show(g);"
      ],
      "execution_count": null,
      "outputs": []
    },
    {
      "cell_type": "markdown",
      "metadata": {
        "id": "uffxWHzdS5rv"
      },
      "source": [
        "## default status by term structure and amount"
      ]
    },
    {
      "cell_type": "code",
      "metadata": {
        "id": "LtIbRH1wS5YG"
      },
      "source": [
        "fig = plt.figure(figsize=(20,10))\n",
        "sns.violinplot(x=\"TARGET\",y=\"loan_amnt\",data=data, hue=\"term\", split=True)\n",
        "plt.title(\"default by term structure and amount\")\n",
        "plt.xlabel(\"defaulted\")\n",
        "plt.ylabel(\"Loan amount\");"
      ],
      "execution_count": null,
      "outputs": []
    },
    {
      "cell_type": "markdown",
      "metadata": {
        "id": "0Vq4eBtyTLSY"
      },
      "source": [
        "## default status by grade\n",
        "\n",
        "**expectation**\n",
        "- Loans with a lower rating inherit a higher risk of default."
      ]
    },
    {
      "cell_type": "code",
      "metadata": {
        "id": "YYT4Dbc-TLAe"
      },
      "source": [
        "g = sns.displot(data, x='grade', hue='TARGET', multiple='stack', legend=False, height=10, aspect=20/10, alpha=1);\n",
        "plt.title(\"default status by grade\")\n",
        "plt.legend(title='Defaulted', loc='upper right', labels=['Default', 'Fully paid'])\n",
        "plt.show(g);"
      ],
      "execution_count": null,
      "outputs": []
    },
    {
      "cell_type": "code",
      "metadata": {
        "id": "6Ts1EhBlbFjz"
      },
      "source": [
        "g = sns.displot(data, x='grade', hue='TARGET', multiple='fill', legend=False, height=10, aspect=1, alpha=1)\n",
        "plt.title(\"default status by grade in relative numbers\")\n",
        "plt.legend(title='Defaulted', loc='upper right', labels=['Default', 'Non-Default'])\n",
        "plt.show(g);"
      ],
      "execution_count": null,
      "outputs": []
    },
    {
      "cell_type": "markdown",
      "metadata": {
        "id": "2uV0CzYTTlve"
      },
      "source": [
        "## default status by grade and interest rate"
      ]
    },
    {
      "cell_type": "code",
      "metadata": {
        "id": "usXGrRlvTliG"
      },
      "source": [
        "fig = plt.figure(figsize=(20,10))\n",
        "sns.violinplot(x=\"TARGET\",y=\"int_rate\",data=data, hue=\"grade\",)\n",
        "plt.title(\"interest rate by grade and default status\")\n",
        "plt.xlabel(\"defaulted\")\n",
        "plt.ylabel(\"Interest Rate\");"
      ],
      "execution_count": null,
      "outputs": []
    },
    {
      "cell_type": "markdown",
      "metadata": {
        "id": "06noX276TxML"
      },
      "source": [
        "# Default status by application type\n",
        "\n",
        "**expectation**\n",
        "- Joint applications inherit lower risk of default."
      ]
    },
    {
      "cell_type": "code",
      "metadata": {
        "id": "jGnoRo5ETw8n"
      },
      "source": [
        "fig = plt.figure(figsize=(18,8))\n",
        "sns.violinplot(x=\"TARGET\",y=\"loan_amnt\",data=data, hue=\"application_type\", split=True)\n",
        "plt.title(\"default by amount and application type\")\n",
        "plt.xlabel(\"defaulted\")\n",
        "plt.legend(loc='upper right', bbox_to_anchor=(1, 1), ncol=1, labels=['Individual', 'Joint Application']);\n",
        "plt.ylabel(\"Loan Amount\");"
      ],
      "execution_count": null,
      "outputs": []
    },
    {
      "cell_type": "markdown",
      "metadata": {
        "id": "rkmcVR6wT3-m"
      },
      "source": [
        "## Default status by working experience\n",
        "\n",
        "**expectation**\n",
        "- The longer the working experience, the smaller the probability of default."
      ]
    },
    {
      "cell_type": "code",
      "metadata": {
        "id": "Q1X27552T3wG"
      },
      "source": [
        "fig = plt.figure(figsize=(20,10))\n",
        "sns.countplot(x='emp_length', hue='TARGET', data=data)\n",
        "plt.xlabel('Employee Working Experience')\n",
        "plt.legend(title='Defaulted', loc='upper right', labels=['Default', 'Non-Default'])\n",
        "plt.show()"
      ],
      "execution_count": null,
      "outputs": []
    },
    {
      "cell_type": "code",
      "metadata": {
        "id": "kzgXY0QWbdxL"
      },
      "source": [
        "#fig = plt.figure(figsize=(20,10))\n",
        "\n",
        "#tickvalues = range(0,len(x))\n",
        "#g = sns.displot(data, x='emp_length', hue='TARGET', multiple='fill', legend=False, height=10, aspect=20/10, alpha=1, xticks=[])\n",
        "#plt.title(\"default status by working experience in relative numbers\")\n",
        "#plt.legend(title='Defaulted', loc='upper right', labels=['Default', 'Non-Default'])\n",
        "#plt.xlabel(\"Employee Working Experience\")\n",
        "#plt.ylabel(\"density\")\n",
        "#plt.show();"
      ],
      "execution_count": null,
      "outputs": []
    },
    {
      "cell_type": "markdown",
      "metadata": {
        "id": "FQGeDTq7UChP"
      },
      "source": [
        "## Default status by state\n",
        "\n",
        "**expectation**\n",
        "- None."
      ]
    },
    {
      "cell_type": "code",
      "metadata": {
        "id": "sM4RiOJHUCr_"
      },
      "source": [
        "fig, ax = plt.subplots(figsize=(10,20))\n",
        "plt.ticklabel_format(style='plain')\n",
        "g = sns.countplot(y='addr_state', hue='TARGET', data=data, ax=ax);\n",
        "g.legend(loc='upper right', bbox_to_anchor=(1, 1), ncol=1, labels=['Default', 'Fully paid']);\n",
        "plt.ylabel(\"state\")\n",
        "plt.xlabel(\"count\")\n",
        "plt.show();"
      ],
      "execution_count": null,
      "outputs": []
    },
    {
      "cell_type": "code",
      "metadata": {
        "id": "33R0Gfkqb-tR"
      },
      "source": [
        "g = sns.displot(data, y='addr_state', hue='TARGET', multiple='fill', legend=False, height=20, aspect=10/20, alpha=1)\n",
        "plt.title(\"default status by state in relative numbers\")\n",
        "plt.legend(title='Defaulted', loc='upper right', labels=['Default', 'Non-Default'])\n",
        "plt.ylabel(\"state\")\n",
        "plt.xlabel(\"density\")\n",
        "plt.show(g);"
      ],
      "execution_count": null,
      "outputs": []
    },
    {
      "cell_type": "markdown",
      "metadata": {
        "id": "0fxphZNNJujA"
      },
      "source": [
        "## default status by purpose"
      ]
    },
    {
      "cell_type": "code",
      "metadata": {
        "id": "Sglwz5KCJuCU"
      },
      "source": [
        "fig, ax = plt.subplots(figsize=(10,10))\n",
        "plt.ticklabel_format(style='plain')\n",
        "g = sns.countplot(y='loan_status', hue='TARGET', data=data, ax=ax);\n",
        "g.legend(loc='upper right', bbox_to_anchor=(1, 1), ncol=1, labels=['Default', 'Fully paid']);\n",
        "plt.ylabel(\"loan status\")\n",
        "plt.show();"
      ],
      "execution_count": null,
      "outputs": []
    },
    {
      "cell_type": "markdown",
      "metadata": {
        "id": "-ZCYgcfkUNGK"
      },
      "source": [
        "## Interest rate by grade"
      ]
    },
    {
      "cell_type": "code",
      "metadata": {
        "id": "4CA-p-LvUMv4"
      },
      "source": [
        "plt.figure(figsize=(12,10))\n",
        "g = sns.boxplot(data=data, x='grade', y='int_rate')\n",
        "plt.title(\"interest rate by grade\")\n",
        "plt.show(g);"
      ],
      "execution_count": null,
      "outputs": []
    },
    {
      "cell_type": "markdown",
      "metadata": {
        "id": "R2uul4BVcMM4"
      },
      "source": [
        "## default status by interest rate"
      ]
    },
    {
      "cell_type": "code",
      "metadata": {
        "id": "ecrhTA8icPCX"
      },
      "source": [
        "plt.figure(figsize=(20,10))\n",
        "bins = np.linspace(5, 33, 33)\n",
        "g = sns.histplot(data, x='int_rate', hue='TARGET', multiple='dodge', legend=False, alpha=1, bins=bins);\n",
        "plt.title(\"default status by interest rate\")\n",
        "plt.legend(title='Defaulted', loc='upper right', labels=['Default', 'Fully paid'])\n",
        "plt.xlabel(\"interest rate\")\n",
        "plt.ylabel(\"count\")\n",
        "plt.show(g);"
      ],
      "execution_count": null,
      "outputs": []
    },
    {
      "cell_type": "code",
      "metadata": {
        "id": "xjkvRTcFcrgI"
      },
      "source": [
        "g = sns.displot(data, x='int_rate', hue='TARGET', multiple='fill', legend=False, height=10, bins = 50, aspect=20/10, alpha=1)\n",
        "plt.title(\"default status by interest rate in relative numbers\")\n",
        "plt.legend(title='Defaulted', loc='upper right', labels=['Default', 'Non-Default'])\n",
        "plt.xlabel(\"itnerest rate in %\")\n",
        "plt.ylabel(\"density\")\n",
        "plt.show();"
      ],
      "execution_count": null,
      "outputs": []
    },
    {
      "cell_type": "markdown",
      "metadata": {
        "id": "4BvPZzr01k2x"
      },
      "source": [
        "## Analyze income\n"
      ]
    },
    {
      "cell_type": "code",
      "metadata": {
        "id": "SZkN1DOA9CUD"
      },
      "source": [
        "income_by_states = income_by_states[['NAME', 'S1901_C01_013E']]\n",
        "income_by_states.rename(columns={'NAME':'state','S1901_C01_013E': 'income'}, inplace=True)\n",
        "\n",
        "income_by_states.head(60)"
      ],
      "execution_count": null,
      "outputs": []
    },
    {
      "cell_type": "code",
      "metadata": {
        "id": "DlbBaeTD1kgN"
      },
      "source": [
        "state_map = pd.read_csv(\"/content/drive/My Drive/AdvancedML/states_mapping.csv\", sep=';')\n",
        "state_map.head(50)"
      ],
      "execution_count": null,
      "outputs": []
    },
    {
      "cell_type": "code",
      "metadata": {
        "id": "cR6XrakQ50kc"
      },
      "source": [
        "# remove comments from df\n",
        "income_by_states.drop(income_by_states.index[[0]], inplace=True)\n",
        "\n",
        "# add iso codes and make subselection\n",
        "income_by_states = income_by_states.merge(state_map,how='left',left_on='state', right_on='subdivision_name')\n",
        "income_by_states = income_by_states[['iso_code', 'income']]\n",
        "\n",
        "income_by_states.head(60)"
      ],
      "execution_count": null,
      "outputs": []
    },
    {
      "cell_type": "code",
      "metadata": {
        "id": "6Ef_mLAwBCvF"
      },
      "source": [
        "lut_income = dict(income_by_states.values)\n",
        "data[\"addr_state_avg_income\"] = data[\"addr_state\"].replace(lut_income)\n",
        "data[\"addr_state_avg_income\"] = data[\"addr_state_avg_income\"].apply(lambda x: pd.to_numeric(x,errors=\"coerce\")) \n",
        "data.head().T"
      ],
      "execution_count": null,
      "outputs": []
    },
    {
      "cell_type": "code",
      "metadata": {
        "id": "aJm9OcNpIrqS"
      },
      "source": [
        "fig = plt.figure(figsize=(20,10))\n",
        "bins = np.linspace(0, 300000, 60)\n",
        "sns.histplot(data= data, x='annual_inc', bins=bins, kde=False, alpha=1)\n",
        "plt.title(\"Distribution of annual income\")\n",
        "plt.xlim(0, 300000)\n",
        "plt.xlabel(\"annual income\")\n",
        "plt.ylabel(\"count\")\n",
        "plt.show()"
      ],
      "execution_count": null,
      "outputs": []
    },
    {
      "cell_type": "markdown",
      "metadata": {
        "id": "rQQJ8hM5fSFb"
      },
      "source": [
        "## Annual Income and Loan Amount of defaulted loans"
      ]
    },
    {
      "cell_type": "code",
      "metadata": {
        "id": "StRoSAhRfR2S"
      },
      "source": [
        "fig = plt.figure(figsize=(20,20))\n",
        "sel_annual_inc_defaulted= data[(data.annual_inc <= 300000) & (data.TARGET==1)]\n",
        "sns.jointplot(data=sel_annual_inc_defaulted, x=\"annual_inc\", y=\"loan_amnt\", kind=\"hex\", height=12)\n",
        "plt.xlabel(\"annual income\")\n",
        "plt.ylabel(\"loan amount\")\n",
        "plt.title(\"Distribution of defaulted loans by annual income and loan amount\")\n",
        "plt.show()"
      ],
      "execution_count": null,
      "outputs": []
    },
    {
      "cell_type": "markdown",
      "metadata": {
        "id": "yRPgTDWTfTeM"
      },
      "source": [
        "##Analyze effect of joint/ individual application"
      ]
    },
    {
      "cell_type": "code",
      "metadata": {
        "id": "BySo6utbfTpA"
      },
      "source": [
        "data['application_type'].value_counts()"
      ],
      "execution_count": null,
      "outputs": []
    },
    {
      "cell_type": "code",
      "metadata": {
        "id": "9rqXC_1DgI0O"
      },
      "source": [
        "g = sns.displot(data, x='application_type', hue='TARGET', multiple='stack', legend=False, alpha=1, height = 10, aspect=10/10)\n",
        "plt.xlabel(\"Application Type\")\n",
        "plt.title(\"default status by application type\")\n",
        "plt.legend(title='Defaulted', loc='upper right', labels=['Default', 'Non-Default'])\n",
        "\n",
        "plt.show(g);"
      ],
      "execution_count": null,
      "outputs": []
    },
    {
      "cell_type": "code",
      "metadata": {
        "id": "4cYk4pnUiH7I"
      },
      "source": [
        "# enable again for final file\n",
        "# data_jointapp = data.loc[data['application_type'] == 'Joint App']\n",
        "# data_indidualapp = data.loc[data['application_type'] == 'Individual']"
      ],
      "execution_count": null,
      "outputs": []
    },
    {
      "cell_type": "code",
      "metadata": {
        "id": "siXgUb4lk05C"
      },
      "source": [
        "# die Methode ist irgendwo rauskopiert, wenn wir sie drin lassen wollen muss ich sie noch ein bisschen was abändern\n",
        "def null_values(df):\n",
        "        mis_val = df.isnull().sum()\n",
        "        mis_val_percent = 100 * df.isnull().sum() / len(df)\n",
        "        mis_val_table = pd.concat([mis_val, mis_val_percent], axis=1)\n",
        "        mis_val_table_ren_columns = mis_val_table.rename(\n",
        "        columns = {0 : 'Missing Values', 1 : '% of Total Values'})\n",
        "        mis_val_table_ren_columns = mis_val_table_ren_columns[\n",
        "            mis_val_table_ren_columns.iloc[:,1] != 0].sort_values(\n",
        "        '% of Total Values', ascending=False).round(1)\n",
        "        print (\"Dataframe has \" + str(df.shape[1]) + \" columns.\\n\"      \n",
        "            \"There are \" + str(mis_val_table_ren_columns.shape[0]) +\n",
        "              \" columns that have missing values.\")\n",
        "        return mis_val_table_ren_columns"
      ],
      "execution_count": null,
      "outputs": []
    },
    {
      "cell_type": "code",
      "metadata": {
        "id": "AQVn-5Ouk2cb"
      },
      "source": [
        "# FIXME: Enable again for final file\n",
        "# miss_values = null_values(data_jointapp)\n",
        "# miss_values.head(20)"
      ],
      "execution_count": null,
      "outputs": []
    },
    {
      "cell_type": "code",
      "metadata": {
        "id": "sgIuzd42lKVf"
      },
      "source": [
        "# miss_values = null_values(data_indidualapp)\n",
        "# miss_values.head(20)"
      ],
      "execution_count": null,
      "outputs": []
    },
    {
      "cell_type": "code",
      "metadata": {
        "id": "h9jfzQ8D1qzu"
      },
      "source": [
        "# miss_values = null_values(data)\n",
        "# miss_values.head()\n"
      ],
      "execution_count": null,
      "outputs": []
    },
    {
      "cell_type": "markdown",
      "metadata": {
        "id": "eKiwEqEP5Wny"
      },
      "source": [
        "## Data Preprocessing\n",
        "\n",
        "As the amount of missing values, that remain in the dataset, is relatively small, we fill missing values with the modus of each feature."
      ]
    },
    {
      "cell_type": "code",
      "metadata": {
        "id": "dydueHv2AJdd"
      },
      "source": [
        "data.fillna(data.mode().iloc[0], inplace = True)"
      ],
      "execution_count": null,
      "outputs": []
    },
    {
      "cell_type": "markdown",
      "metadata": {
        "id": "MQu0kOIEgTXQ"
      },
      "source": [
        "This leads to the following result..."
      ]
    },
    {
      "cell_type": "code",
      "metadata": {
        "id": "dS3OV95Cf_oo"
      },
      "source": [
        "fig, ax = plt.subplots(figsize=(20,10))\n",
        "sns.heatmap(data.head(50).isnull(), cbar=False);\n",
        "plt.xlabel(\"feature\")\n",
        "plt.ylabel(\"row\")\n",
        "plt.show();"
      ],
      "execution_count": null,
      "outputs": []
    },
    {
      "cell_type": "markdown",
      "metadata": {
        "id": "nthZsPfZsvlp"
      },
      "source": [
        "As seen above the dataset contains 2,260,701 entries. This sheer amount of data is hard is hard to process with the tools and processing ressources, that we have to our disposal. Therefore, we apply stratified sampling first on the dataset to create a subset with a similiar distribution to the original data. The resulting dataset will be 20 % of the original data set."
      ]
    },
    {
      "cell_type": "code",
      "metadata": {
        "id": "Oxc8BNrptYlG"
      },
      "source": [
        "# Remove target from features\n",
        "features = data.drop('TARGET', axis=1)\n",
        "# create a 20 % random subselection\n",
        "# TODO: Decreased to 5 % for faster training. Change to 20 % later.\n",
        "X_stratified, _, y_stratified, _ = train_test_split(features,data.TARGET, test_size=0.95, random_state=42, stratify=data.TARGET)"
      ],
      "execution_count": null,
      "outputs": []
    },
    {
      "cell_type": "markdown",
      "metadata": {
        "id": "Esp11AZ9wlIG"
      },
      "source": [
        "Next, we split the stratified data into two parts. Namely, training data and test data. The training data will be used to train the models and for in-sample testing. Whereas the test data is used for out-of-sample testing. This time we use a 70 % / 30 % split.\n"
      ]
    },
    {
      "cell_type": "code",
      "metadata": {
        "id": "rYZ3fDxFwrww"
      },
      "source": [
        "X_train, X_test, y_train, y_test = train_test_split(X_stratified, y_stratified, stratify=y_stratified, test_size=0.3, random_state=42)"
      ],
      "execution_count": null,
      "outputs": []
    },
    {
      "cell_type": "code",
      "metadata": {
        "id": "mf-peME262Dp"
      },
      "source": [
        "print(X_train.dtypes)"
      ],
      "execution_count": null,
      "outputs": []
    },
    {
      "cell_type": "markdown",
      "metadata": {
        "id": "P2wSJzz_0iIn"
      },
      "source": [
        "As seen during data exploration the data set is highly imbalanced. Non-default loans are much more frequent than defaulted loans. We use a variant of 'SMOTE' ([see](https://arxiv.org/pdf/1106.1813.pdf) and [see](https://imbalanced-learn.org/dev/references/generated/imblearn.over_sampling.SMOTENC.html)) to upsample the defaulted class, which is relatively rare in the raw data. This sampling is only applied on the training data."
      ]
    },
    {
      "cell_type": "code",
      "metadata": {
        "id": "uB0wrQBpyuJ4"
      },
      "source": [
        "# FIXME: research proper ways of handling strings and timestamps \n",
        "# or reposition in jupyter notebook and use standard implementation.\n",
        "# Currently disabled to improve performance while development\n",
        "\n",
        "# categorial = X_train.select_dtypes(include=['category','string', 'datetime64[ns]'])\n",
        "# categorial_mask = np.isin(X_train.columns, categorial.columns)\n",
        "\n",
        "# smote = SMOTENC(random_state=42, k_neighbors=2**7, categorical_features=categorial_mask)\n",
        "# X_train, y_train = smote.fit_resample(X_train, y_train)"
      ],
      "execution_count": null,
      "outputs": []
    },
    {
      "cell_type": "markdown",
      "metadata": {
        "id": "P9G-A2S3a589"
      },
      "source": [
        "Having `datetime64[ns]` dtypes e. g. for `ìssue_d` is desireable for visualization. However, using these datetypes in our models causes difficulties, as the datetime object have to be converted to some numeric value. We only keep the 'year' component."
      ]
    },
    {
      "cell_type": "code",
      "metadata": {
        "id": "t4MvZePha2pJ"
      },
      "source": [
        "# See discussion here  https://stats.stackexchange.com/a/311498\n",
        "# FIXME: We could also use year info and month info and keep themn in two variables\n",
        "\n",
        "# apply to Test and Training set\n",
        "datetime_columns = data.select_dtypes(include=['datetime64[ns]']).columns\n",
        "X_train[datetime_columns] = X_train[datetime_columns].apply(lambda x: x.dt.year)\n",
        "X_test[datetime_columns] = X_test[datetime_columns].apply(lambda x: x.dt.year)\n",
        "\n",
        "print(X_train.dtypes)"
      ],
      "execution_count": null,
      "outputs": []
    },
    {
      "cell_type": "markdown",
      "metadata": {
        "id": "jw8UJxkDIjc9"
      },
      "source": [
        "While Variables of type 'Categorical' are great for visualization, they also require further processing to be used by machine learning models. We apply some Label-encoding."
      ]
    },
    {
      "cell_type": "code",
      "metadata": {
        "id": "Y27j1yPMRNld"
      },
      "source": [
        "# apply to test and training set\n",
        "cat_columns = data.select_dtypes(include=['category']).columns\n",
        "X_train[cat_columns] = X_train[cat_columns].apply(lambda x: x.cat.codes)\n",
        "X_test[cat_columns] = X_test[cat_columns].apply(lambda x: x.cat.codes)\n",
        "\n",
        "print(X_train.dtypes)"
      ],
      "execution_count": null,
      "outputs": []
    },
    {
      "cell_type": "code",
      "metadata": {
        "id": "XWsSGsy7gccO"
      },
      "source": [
        "# Implementation Verena One-Hot\n",
        "\n",
        "#data_cat = data.select_dtypes(include=['category'])\n",
        "#data_cat_columns = data_cat.columns\n",
        "#data_cat_columns\n",
        "#data = data.drop(columns=data_cat_columns)\n",
        "#data_to_encode = data_cat.drop(columns=['loan_status'])\n",
        "#data_encoded = pd.get_dummies(data_to_encode)\n",
        "#data_encoded"
      ],
      "execution_count": null,
      "outputs": []
    },
    {
      "cell_type": "markdown",
      "metadata": {
        "id": "DP4vbXEkAtns"
      },
      "source": [
        "\n",
        "Since the features have different units, Scaling and Standardization of the numeric features are necessary. And since a Support Vector Machine required data with values between 0 and 1 the Standardization is conducted first."
      ]
    },
    {
      "cell_type": "code",
      "metadata": {
        "id": "HByNz0035aSC"
      },
      "source": [
        "# Implementation Verena Min-Max-Scaling + Standard-Scaler\n",
        "\n",
        "#min_max = MinMaxScaler()\n",
        "#data_scaled = pd.DataFrame(min_max.fit_transform(data[data_num_columns]), columns = data_num_columns)\n",
        "#data_scaled.describe()\n",
        "\n",
        "#data_num = data.select_dtypes(include=[np.float64, np.float32])\n",
        "#data_num_columns = data_num.columns\n",
        "\n",
        "\n",
        "# TODO: Remove the following code\n",
        "#data = data.drop(columns=data_num_columns)\n",
        "\n",
        "#standardizer = StandardScaler()\n",
        "#data_standardized = pd.DataFrame(standardizer.fit_transform(data_num), columns = data_num_columns)\n",
        "#data_standardized.describe()"
      ],
      "execution_count": null,
      "outputs": []
    },
    {
      "cell_type": "code",
      "metadata": {
        "id": "Bm9WXqG0WYAs"
      },
      "source": [
        "scaler = StandardScaler()\n",
        "X_train = scaler.fit_transform(X_train)\n",
        "X_test = scaler.transform(X_test)"
      ],
      "execution_count": null,
      "outputs": []
    },
    {
      "cell_type": "markdown",
      "metadata": {
        "id": "qKYz5K56ajBj"
      },
      "source": [
        "If there are only two classes, they have a correlation of 1, so one class can be dropped without loosing any information"
      ]
    },
    {
      "cell_type": "code",
      "metadata": {
        "id": "AF2WvEhtaiAw"
      },
      "source": [
        "#data_encoded = data_encoded.drop(columns=['term_ 60 months', 'initial_list_status_w', 'application_type_Joint App'])\n",
        "#data_encoded"
      ],
      "execution_count": null,
      "outputs": []
    },
    {
      "cell_type": "code",
      "metadata": {
        "id": "aeczQhrWegfT"
      },
      "source": [
        "#target = data[['TARGET']]\n",
        "#data = data.drop(columns=['TARGET'])\n",
        "#data = pd.concat([data, data_scaled, data_encoded], axis=1)\n",
        "#data[['Target']] = target\n",
        "#data"
      ],
      "execution_count": null,
      "outputs": []
    },
    {
      "cell_type": "code",
      "metadata": {
        "id": "PZ3DQHudO2Sh"
      },
      "source": [
        "# TODO: Remove the following code\n",
        "#data_to_encode = data[['term', 'verification_status','application_type']]\n",
        "#enc = OneHotEncoder()\n",
        "#df_num = enc.fit_transform(data_to_encode).toarray()\n",
        "#df_num = pd.DataFrame(df_num)\n",
        "#df_num"
      ],
      "execution_count": null,
      "outputs": []
    },
    {
      "cell_type": "markdown",
      "metadata": {
        "id": "BL8OKRhzJY-X"
      },
      "source": [
        "To identify similar features and relevant features (high correlation with target feature) a correlation analysis is conducted"
      ]
    },
    {
      "cell_type": "code",
      "metadata": {
        "id": "vfYC4VBWJZHN"
      },
      "source": [
        "#correlation with target feature\n",
        "#corr = data.corr()['TARGET'].sort_values()\n",
        "#print('Most Positive Correlations:\\n',corr.tail(15))\n",
        "#print('\\nMost Negative Correlations:\\n',corr.head(15))"
      ],
      "execution_count": null,
      "outputs": []
    },
    {
      "cell_type": "markdown",
      "metadata": {
        "id": "nOQnjcva5bfY"
      },
      "source": [
        "## Task 3: Use LASSO for variable selection and explain results. (15 points)"
      ]
    },
    {
      "cell_type": "markdown",
      "metadata": {
        "id": "CTAKRUAhCMlC"
      },
      "source": [
        "In Task 3 we use a LASSO model for variable selection. First we run a grid search to find a suitable value for the penalty weight $\\alpha$. We use the metric Area under the curve (AUC) is the criteria for model selection."
      ]
    },
    {
      "cell_type": "code",
      "metadata": {
        "id": "hejbjvAa5hTi"
      },
      "source": [
        "# TODO: Not yet implemented."
      ],
      "execution_count": null,
      "outputs": []
    },
    {
      "cell_type": "markdown",
      "metadata": {
        "id": "daRkP4xPF1z3"
      },
      "source": [
        "Next we look at variables, that...."
      ]
    },
    {
      "cell_type": "markdown",
      "metadata": {
        "id": "Yze_Knjl5iLb"
      },
      "source": [
        "## Task 4: Use logistic regression (in-sample) for default prediction. Interpret your results for logistic regression. (20 points)"
      ]
    },
    {
      "cell_type": "code",
      "metadata": {
        "id": "aBw6t0kw5lUK"
      },
      "source": [
        "# TODO: Not yet implemented."
      ],
      "execution_count": null,
      "outputs": []
    },
    {
      "cell_type": "markdown",
      "metadata": {
        "id": "-fT0hckv5mOr"
      },
      "source": [
        "## Task 5: Compare logistic regression, classification tree, random forest, bagging, support vector machine (with two kernel functions), and neural network for default prediction based on the out-of-sample performance measures (at least three different measures). (35 points)"
      ]
    },
    {
      "cell_type": "markdown",
      "metadata": {
        "id": "S9y8UWmYfmks"
      },
      "source": [
        "### Preliminary"
      ]
    },
    {
      "cell_type": "code",
      "metadata": {
        "id": "0A6xby2O5rsq"
      },
      "source": [
        "def print_results(model):\n",
        "\n",
        "    y_pred_model = model.predict(X_test)\n",
        "\n",
        "    # TODO: Use Labels from Label Encoder\n",
        "    print(classification_report(y_test, y_pred_model))\n",
        "    \n",
        "    plot_confusion_matrix(model, X_test, y_test, display_labels=['Non-Default', 'Default'])\n",
        "    plt.show()\n",
        "\n",
        "    print(f\"Accuracy: {accuracy_score(y_test, y_pred_model):.2f}\")\n",
        "    print(f\"Params: {model.get_params()}\")"
      ],
      "execution_count": null,
      "outputs": []
    },
    {
      "cell_type": "markdown",
      "metadata": {
        "id": "EWJVWocXfhKX"
      },
      "source": [
        "### Decision Tree"
      ]
    },
    {
      "cell_type": "code",
      "metadata": {
        "id": "UMS3VYLtI-n6"
      },
      "source": [
        "# max_depth = [2, 6, 10, 14...]\n",
        "min_depth = 2\n",
        "step_size = 4\n",
        "step_count = 2**4\n",
        "max_depth = min_depth + np.arange(step_count) * step_size\n",
        "\n",
        "# perform grid search\n",
        "param_grid = {'criterion': ['gini', 'entropy'], 'max_depth': max_depth}\n",
        "grid_dt = GridSearchCV(DecisionTreeClassifier(), param_grid, refit=True, verbose=0)\n",
        "grid_dt.fit(X_train, y_train)\n",
        "\n",
        "# choose best model\n",
        "grid_dt_optimized = grid_dt.best_estimator_\n",
        "\n",
        "# print confusion \n",
        "print_results(grid_dt_optimized)"
      ],
      "execution_count": null,
      "outputs": []
    },
    {
      "cell_type": "markdown",
      "metadata": {
        "id": "y6Wnnf2ofhHn"
      },
      "source": [
        "### Random Forest"
      ]
    },
    {
      "cell_type": "code",
      "metadata": {
        "id": "1d94dU-w8s7Z"
      },
      "source": [
        "# [2, 6, 10, 14...]\n",
        "max_depth = np.arange(2, 22, 4)\n",
        "# [5, 10, 25, 50, 100, 150]\n",
        "n_estimators = [5, 10, 25, 50, 100, 150]\n",
        "\n",
        "# perform grid search\n",
        "param_grid = {'criterion': ['gini', 'entropy'], 'max_depth': max_depth, 'n_estimators': n_estimators, 'max_features': ['auto', 'sqrt', 'log2']}\n",
        "grid_rf = GridSearchCV(RandomForestClassifier(), param_grid, refit=True, verbose=0)\n",
        "grid_rf.fit(X_train, y_train)\n",
        "\n",
        "# choose best model\n",
        "grid_rf_optimized = grid_rf.best_estimator_\n",
        "\n",
        "# print confusion \n",
        "print_results(grid_rf_optimized)"
      ],
      "execution_count": null,
      "outputs": []
    },
    {
      "cell_type": "markdown",
      "metadata": {
        "id": "_14aX_YQS2RE"
      },
      "source": [
        "### Bagging"
      ]
    },
    {
      "cell_type": "code",
      "metadata": {
        "id": "6VB0JjmOS0CE"
      },
      "source": [
        "# TODO: Not yet implemented..."
      ],
      "execution_count": null,
      "outputs": []
    },
    {
      "cell_type": "markdown",
      "metadata": {
        "id": "zhqpa3yWGUFm"
      },
      "source": [
        "### Support Vector Machine\n",
        "\n",
        "Next, we look at SVM with two different kernels. Namely, a rfb kernel and linear kernel."
      ]
    },
    {
      "cell_type": "code",
      "metadata": {
        "id": "1326iBdkGTk2"
      },
      "source": [
        "min_c = 0.1\n",
        "step_size = 0.1\n",
        "step_count = 15\n",
        "\n",
        "C = min_c + np.arange(step_count) * step_size\n",
        "\n",
        "param_grid = {'C': C, 'gamma': [1, 0.1, 0.01, 0.001], 'kernel': ['rbf', 'linear']}\n",
        "grid_svm = GridSearchCV(SVC(), param_grid, refit=True, verbose=0)\n",
        "grid_svm.fit(X_train, y_train.values.ravel())\n",
        "\n",
        "# choose best model\n",
        "grid_svm_optimized = grid_svm.best_estimator_\n",
        "\n",
        "# print confusion \n",
        "print_results(grid_svm_optimized)"
      ],
      "execution_count": null,
      "outputs": []
    },
    {
      "cell_type": "markdown",
      "metadata": {
        "id": "WJzOuADbM6HR"
      },
      "source": [
        "### Neural Network "
      ]
    },
    {
      "cell_type": "code",
      "metadata": {
        "id": "_Ra4pmhqP139"
      },
      "source": [
        "param_grid = {'activation': ['logistic', 'relu'], 'learning_rate': ['constant', 'invscaling'], 'hidden_layer_sizes': [(100, 1), (100, 2)], 'early_stopping': True}\n",
        "grid_nn = GridSearchCV(MLPClassifier(), param_grid, refit=True, verbose=0)\n",
        "grid_nn.fit(X_train, y_train.values.ravel())\n",
        "\n",
        "# choose best model\n",
        "grid_nn_optimized = grid_nn.best_estimator_\n",
        "\n",
        "# print confusion \n",
        "print_results(grid_nn_optimized)"
      ],
      "execution_count": null,
      "outputs": []
    },
    {
      "cell_type": "markdown",
      "metadata": {
        "id": "99abplKtSu6V"
      },
      "source": [
        "### Voting Classifier"
      ]
    },
    {
      "cell_type": "code",
      "metadata": {
        "id": "aBxY_wPKTFGk"
      },
      "source": [
        "# TODO: Optional. Combine the best Classifiers e. g. SVM and RF\n",
        "model_voting = VotingClassifier(estimators=[('SVM', grid_svm_optimized), ('Random Forest', model_rf_optimized)],\n",
        "                                   voting='hard')\n",
        "model_voting.fit(X_train, y_train.values.ravel())\n",
        "\n",
        "# print confusion matrix\n",
        "print_result(model_voting)"
      ],
      "execution_count": null,
      "outputs": []
    },
    {
      "cell_type": "markdown",
      "metadata": {
        "id": "7oBUFLWDU118"
      },
      "source": [
        "Bringing it all together...."
      ]
    },
    {
      "cell_type": "code",
      "metadata": {
        "id": "AjOatCenU7_W"
      },
      "source": [
        "# TODO: Performance Measures: Area under the Curve, ROC. Could be easily done with: https://www.scikit-yb.org/en/latest/api/classifier/rocauc.html"
      ],
      "execution_count": null,
      "outputs": []
    },
    {
      "cell_type": "markdown",
      "metadata": {
        "id": "2_yJ0OWK5uA_"
      },
      "source": [
        "## Task 6: Which model do you suggest to the peer-to-peer company? Why? (10 points)"
      ]
    },
    {
      "cell_type": "code",
      "metadata": {
        "id": "PRFOD_uq5wNK"
      },
      "source": [
        "# TODO: Not yet implemented..."
      ],
      "execution_count": null,
      "outputs": []
    }
  ]
}