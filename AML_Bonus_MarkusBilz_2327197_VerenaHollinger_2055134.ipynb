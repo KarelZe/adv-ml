{
  "nbformat": 4,
  "nbformat_minor": 0,
  "metadata": {
    "colab": {
      "name": "Untitled0.ipynb",
      "provenance": [],
      "collapsed_sections": [],
      "include_colab_link": true
    },
    "kernelspec": {
      "name": "python3",
      "display_name": "Python 3"
    },
    "language_info": {
      "name": "python"
    }
  },
  "cells": [
    {
      "cell_type": "markdown",
      "metadata": {
        "id": "view-in-github",
        "colab_type": "text"
      },
      "source": [
        "<a href=\"https://colab.research.google.com/github/KarelZe/adv-ml/blob/main/AML_Bonus_MarkusBilz_2327197_VerenaHollinger_2055134.ipynb\" target=\"_parent\"><img src=\"https://colab.research.google.com/assets/colab-badge.svg\" alt=\"Open In Colab\"/></a>"
      ]
    },
    {
      "cell_type": "code",
      "metadata": {
        "id": "yI96BIz_vgb5"
      },
      "source": [
        "!pip install imbalanced-learn"
      ],
      "execution_count": null,
      "outputs": []
    },
    {
      "cell_type": "code",
      "metadata": {
        "id": "LpE9GKyY4o00"
      },
      "source": [
        "import numpy as np\n",
        "import pandas as pd\n",
        "import seaborn as sns\n",
        "from google.colab import drive\n",
        "from imblearn.over_sampling import SMOTE\n",
        "from sklearn import tree\n",
        "from sklearn.ensemble import BaggingClassifier, RandomForestClassifier, VotingClassifier, StackingClassifier\n",
        "from sklearn.feature_selection import SelectFromModel\n",
        "from sklearn.linear_model import LassoCV, LogisticRegression, lasso_path\n",
        "from sklearn.metrics import (\n",
        "    accuracy_score,\n",
        "    balanced_accuracy_score,\n",
        "    classification_report,\n",
        "    matthews_corrcoef,\n",
        "    plot_confusion_matrix,\n",
        ")\n",
        "from sklearn.model_selection import GridSearchCV, train_test_split\n",
        "from sklearn.neural_network import MLPClassifier\n",
        "from sklearn.preprocessing import MinMaxScaler\n",
        "from sklearn.svm import SVC\n",
        "from sklearn.tree import DecisionTreeClassifier\n",
        "\n",
        "from yellowbrick.classifier.rocauc import roc_auc\n",
        "\n",
        "# apply some custom styling to charts\n",
        "sns.set_theme(style=\"whitegrid\", palette=\"rocket\", font_scale=1.1, color_codes=True)\n",
        "cmap = sns.cm.rocket\n",
        "\n",
        "import matplotlib.pyplot as plt\n",
        "%matplotlib inline\n",
        "\n",
        "# increase the number of rows displayed to fully display all (transposed) features.\n",
        "pd.options.display.max_rows = 1000\n"
      ],
      "execution_count": null,
      "outputs": []
    },
    {
      "cell_type": "markdown",
      "metadata": {
        "id": "KnfgQSKk4trI"
      },
      "source": [
        "# Task 1: Explain dataset and business problems in two paragraphs. (10 points)\n",
        "\n",
        "Peer-2-Peer Lending is a decentralized approach in which investors (most oftenly private investors) lend to debtors (typically private individuals). Peer-2-peer lending platforms such as Lending Club serve as an intermediary between investors and borrowers. Due to the decentralized structure, no banks are involved. The risk for a loan is that the borrower defaults partly or entirely. Expected interest and redemption payments may then not be made. The borrowers suffer a loss. Typically, investors invest in several loans to diversify their default risk. Ergo, one loan is financed by several investors. Of central interest is whether a default of a loan can be predicted and with which features. The platform could use this information to reject loans that are highly likely to default during the application process, thus avoiding defaults.\n",
        "\n",
        "The dataset contains loan data on loans, that where distributed through the peer-2-peer lending platform Lending club. The data includes information on payment history, loan terms, borrower information and most importantly the loan status. In overview, data can be classified into hard and soft features. Some features are categorical e. g. term, while others are numerical e. g. debt-to-income-ratio or unstructured e. g. purpose.\n",
        "\n",
        "\n",
        "**TODO: Hard vs. Soft features.**\n",
        "**sollen wir sowas wie Anzahl features und Anzahl columns ergänzen?**\n",
        "\n"
      ]
    },
    {
      "cell_type": "markdown",
      "metadata": {
        "id": "NpqVNyYl47RY"
      },
      "source": [
        "## Loading the data"
      ]
    },
    {
      "cell_type": "markdown",
      "metadata": {
        "id": "NOPagiDc0dNv"
      },
      "source": [
        "Loan data is available from kaggle. The loan data is stored unaltered in our Google Drive.\n",
        "\n",
        "Additional income data was downloaded from the [US Census Bureau](https://data.census.gov/cedsci/table?q=S1901%3A%20INCOME%20IN%20THE%20PAST%2012%20MONTHS%20%28IN%202018%20INFLATION-ADJUSTED%20DOLLARS%29&g=0400000US01,02,04,05,06,08,09,10,12,13,15,16,17,18,19,20,21,22,23,24,25,26,27,28,29,30,31,32,33,34,35,36,37,38,39,40,41,42,44,45,46,47,48,49,50,51,53,54,55,56,72&tid=ACSST1Y2018.S1901&hidePreview=false). We use this information later in our analysis to compare the income of borrowers with the avg. income of the state they are located int. To be able to map US state names to their corresponding ISO-Codes we use es use the table found at [ISO.org](https://www.iso.org/obp/ui/#iso:code:3166:US) as a lookup table."
      ]
    },
    {
      "cell_type": "code",
      "metadata": {
        "id": "nj2lGS5C0PrV"
      },
      "source": [
        "drive.mount(\"/content/drive\")\n",
        "\n",
        "data = pd.read_csv('/content/drive/My Drive/AdvancedML/accepted_2007_to_2018Q4.csv')\n",
        "income_by_states = pd.read_csv(\n",
        "    '/content/drive/My Drive/AdvancedML/ACSST1Y2018_S1901_data_with_overlays_2021-06-12T020307.csv')"
      ],
      "execution_count": null,
      "outputs": []
    },
    {
      "cell_type": "markdown",
      "metadata": {
        "id": "XJG1T1dL5JGb"
      },
      "source": [
        "# Task 2: Do an explanatory analysis for this dataset. (10 points)"
      ]
    },
    {
      "cell_type": "code",
      "metadata": {
        "id": "Bz6XKxzDumaA"
      },
      "source": [
        "print(data.shape)"
      ],
      "execution_count": null,
      "outputs": []
    },
    {
      "cell_type": "markdown",
      "metadata": {
        "id": "yyUyyoqcMIlI"
      },
      "source": [
        "The dataset consists of ~ 2.26 million loans and 151 features."
      ]
    },
    {
      "cell_type": "code",
      "metadata": {
        "id": "MeVsnmXVxzFm"
      },
      "source": [
        "data.head().T"
      ],
      "execution_count": null,
      "outputs": []
    },
    {
      "cell_type": "code",
      "metadata": {
        "id": "U8wUegYMrped"
      },
      "source": [
        "data.describe(include='all').T"
      ],
      "execution_count": null,
      "outputs": []
    },
    {
      "cell_type": "markdown",
      "metadata": {
        "id": "vGvNPmMVt5xB"
      },
      "source": [
        "Not all features are known at the time, when the loan is handed out. E. g. 'hardship_dpd' is not known. Therefore, a preselection is done to those features that can be known during the application process by using a [dictionary](https://drive.google.com/file/d/1UzyKMtrzL3aEEQpeYIz_qjBWyW-lAMr0/view). We restrict our further analysis to thhose features.\n",
        "\n",
        "Moreover, the columns `url` or `desc`, as the info is no longer available on the lending club website.\n",
        "\n",
        "Finally, we also drop the column `id`, as it is unique to the loan, but can not be used for a default prediction."
      ]
    },
    {
      "cell_type": "code",
      "metadata": {
        "id": "stG0sEOG7GW4"
      },
      "source": [
        "a_priori_known = ['loan_amnt', 'funded_amnt', 'funded_amnt_inv', 'term', 'int_rate', 'installment', 'grade',\n",
        "                  'sub_grade', 'emp_title', 'emp_length', 'home_ownership', 'annual_inc', 'verification_status',\n",
        "                  'issue_d', 'loan_status', 'purpose', 'title', 'zip_code', 'addr_state', 'dti', 'delinq_2yrs',\n",
        "                  'earliest_cr_line', 'fico_range_low', 'fico_range_high', 'inq_last_6mths', 'mths_since_last_delinq',\n",
        "                  'mths_since_last_record', 'open_acc', 'pub_rec', 'revol_bal', 'revol_util', 'total_acc',\n",
        "                  'initial_list_status', 'next_pymnt_d', 'last_credit_pull_d', 'last_fico_range_high',\n",
        "                  'last_fico_range_low', 'collections_12_mths_ex_med', 'mths_since_last_major_derog', 'policy_code',\n",
        "                  'application_type', 'annual_inc_joint', 'dti_joint', 'verification_status_joint', 'acc_now_delinq',\n",
        "                  'tot_coll_amt', 'tot_cur_bal', 'open_acc_6m', 'open_act_il', 'open_il_12m', 'open_il_24m',\n",
        "                  'mths_since_rcnt_il', 'total_bal_il', 'il_util', 'open_rv_12m', 'open_rv_24m', 'max_bal_bc',\n",
        "                  'all_util', 'total_rev_hi_lim', 'inq_fi', 'total_cu_tl', 'inq_last_12m', 'acc_open_past_24mths',\n",
        "                  'avg_cur_bal', 'bc_open_to_buy', 'bc_util', 'chargeoff_within_12_mths', 'delinq_amnt',\n",
        "                  'mo_sin_old_il_acct', 'mo_sin_old_rev_tl_op', 'mo_sin_rcnt_rev_tl_op', 'mo_sin_rcnt_tl', 'mort_acc',\n",
        "                  'num_accts_ever_120_pd', 'num_actv_bc_tl', 'num_actv_rev_tl', 'num_bc_sats', 'num_bc_tl', 'num_il_tl',\n",
        "                  'num_op_rev_tl', 'num_rev_accts', 'num_rev_tl_bal_gt_0', 'num_sats', 'num_tl_120dpd_2m',\n",
        "                  'num_tl_30dpd', 'num_tl_90g_dpd_24m', 'num_tl_op_past_12m', 'pct_tl_nvr_dlq', 'percent_bc_gt_75',\n",
        "                  'pub_rec_bankruptcies', 'tax_liens', 'tot_hi_cred_lim', 'total_bal_ex_mort', 'total_bc_limit',\n",
        "                  'total_il_high_credit_limit', 'revol_bal_joint']\n",
        "\n",
        "# filter columns of data frame, that can be known in advance\n",
        "data = data[a_priori_known]"
      ],
      "execution_count": null,
      "outputs": []
    },
    {
      "cell_type": "markdown",
      "metadata": {
        "id": "fgG24f_jOz85"
      },
      "source": [
        "Next, we look at missing data."
      ]
    },
    {
      "cell_type": "code",
      "metadata": {
        "id": "JfQyG_PXOuGk"
      },
      "source": [
        "data.isna().sum()"
      ],
      "execution_count": null,
      "outputs": []
    },
    {
      "cell_type": "markdown",
      "metadata": {
        "id": "tgcExJ77e2w3"
      },
      "source": [
        "or visually for the first 50 rows:"
      ]
    },
    {
      "cell_type": "code",
      "metadata": {
        "id": "eBn8HMnse2gu"
      },
      "source": [
        "def visualize_nan():\n",
        "    plt.subplots(figsize=(20, 10))\n",
        "    sns.heatmap(data.head(50).isnull(), cbar=False)\n",
        "    plt.xlabel(\"feature\")\n",
        "    plt.ylabel(\"row\")\n",
        "    plt.title(\"Viz. of missing values (colored in bright beige)\")\n",
        "    plt.show();"
      ],
      "execution_count": null,
      "outputs": []
    },
    {
      "cell_type": "markdown",
      "metadata": {
        "id": "aFuXFRJEPTeB"
      },
      "source": [
        "As it can be seen above, there is a high of missing data. While `dt_joint` and `acc_now_delinq` are missing more often than other features such as `title`, To further quantify this discovery, we use use a pareto plot in the next step. The missing values appear in a *completely random (MCAR)* fashion."
      ]
    },
    {
      "cell_type": "code",
      "metadata": {
        "id": "znPSkOXu7QAw"
      },
      "source": [
        "missing_val = data.isna().sum()\n",
        "missing_val.sort_values(ascending=False, inplace=True)\n",
        "\n",
        "missing_val = missing_val[missing_val > 1]\n",
        "missing_val = missing_val.to_frame()\n",
        "\n",
        "missing_val['pareto'] = 100 * missing_val[0].cumsum() / missing_val[0].sum()\n",
        "missing_val.rename(columns={0: 'nan'}, inplace=True)\n",
        "\n",
        "print(missing_val.tail())"
      ],
      "execution_count": null,
      "outputs": []
    },
    {
      "cell_type": "code",
      "metadata": {
        "id": "1Y73d60XI97r"
      },
      "source": [
        "fig, axes = plt.subplots(figsize=(20, 10))\n",
        "ax1 = missing_val.plot(use_index=True, y='nan', kind='bar', ax=axes)\n",
        "ax2 = missing_val.plot(use_index=True, y='pareto', marker='D', color=\"C1\", kind='line', ax=axes, secondary_y=True)\n",
        "ax2.set_ylim([0, 110])\n",
        "ax1.set_xticklabels(ax1.get_xticklabels(), rotation=45, ha='right')\n",
        "plt.xticks(rotation=45)\n",
        "plt.title(\"Pareto plot of missing values by column\")\n",
        "plt.show()"
      ],
      "execution_count": null,
      "outputs": []
    },
    {
      "cell_type": "markdown",
      "metadata": {
        "id": "AIkC2zaybdCA"
      },
      "source": [
        "To fix the problem of columns with a high degree of missing values, we exclude columns with more than 20 % of missing values. We are aware, that by removing features a bias is introduced. However, it's common practice to remove columns above this threshold, as shown in (...)."
      ]
    },
    {
      "cell_type": "code",
      "metadata": {
        "id": "gpsg8sCHIsh_"
      },
      "source": [
        "threshold = 0.80\n",
        "\n",
        "percentage_missing_val = data.isna().sum() / len(data)\n",
        "\n",
        "percentage_missing_val = percentage_missing_val[percentage_missing_val >= threshold]\n",
        "threshold_abs = int(threshold * len(data))\n",
        "data = data.dropna(axis=1, thresh=threshold_abs)\n",
        "\n",
        "print(percentage_missing_val)"
      ],
      "execution_count": null,
      "outputs": []
    },
    {
      "cell_type": "code",
      "metadata": {
        "id": "hbLJzyCKfOe4"
      },
      "source": [
        "visualize_nan()"
      ],
      "execution_count": null,
      "outputs": []
    },
    {
      "cell_type": "markdown",
      "metadata": {
        "id": "6mQmSiJufOyx"
      },
      "source": [
        "Looking at the Data Frame again..."
      ]
    },
    {
      "cell_type": "markdown",
      "metadata": {
        "id": "5OkqjjW8tUdk"
      },
      "source": [
        "\n",
        "Some rows are present, where the volume and many other features are null. We exclude these loans without volume from analysis.\n",
        "\n"
      ]
    },
    {
      "cell_type": "code",
      "metadata": {
        "id": "QZpf3hkj8q1M"
      },
      "source": [
        "data = data[data.loan_amnt.notna()]"
      ],
      "execution_count": null,
      "outputs": []
    },
    {
      "cell_type": "markdown",
      "metadata": {
        "id": "lUEXceZPfvBR"
      },
      "source": [
        "This leads to the following result..."
      ]
    },
    {
      "cell_type": "code",
      "metadata": {
        "id": "18gwwT12fx1i"
      },
      "source": [
        "visualize_nan()"
      ],
      "execution_count": null,
      "outputs": []
    },
    {
      "cell_type": "code",
      "metadata": {
        "id": "QX6R5pjC9fpz"
      },
      "source": [
        "# convert to categorical\n",
        "categorical = ['addr_state', 'term', 'application_type', 'initial_list_status', 'loan_status', 'grade', 'sub_grade',\n",
        "               'home_ownership', 'verification_status', 'purpose', 'emp_length', 'zip_code']\n",
        "data[categorical] = data[categorical].apply(lambda x: x.astype('category'))\n",
        "\n",
        "# convert to string\n",
        "strs = ['emp_title', 'title']\n",
        "data[strs] = data[strs].apply(lambda x: x.astype('string'))\n",
        "\n",
        "# convert to datetime\n",
        "dts = ['earliest_cr_line', 'issue_d', 'last_credit_pull_d']\n",
        "data[dts] = data[dts].apply(lambda x: pd.to_datetime(x, format=\"%b-%Y\", errors='coerce'))\n",
        "\n",
        "\n",
        "print(data.dtypes)"
      ],
      "execution_count": null,
      "outputs": []
    },
    {
      "cell_type": "markdown",
      "metadata": {
        "id": "vn4wZtMd-hhJ"
      },
      "source": [
        "##Number of unique classes per feature"
      ]
    },
    {
      "cell_type": "code",
      "metadata": {
        "id": "vGNdRk5I-gzw"
      },
      "source": [
        "data_classes = []\n",
        "for row in data.columns.tolist():\n",
        "    data_classes.append({'column': row, 'count': len(data[row].unique())})\n",
        "amount = pd.DataFrame(data_classes).sort_values('count')\n",
        "print(amount)"
      ],
      "execution_count": null,
      "outputs": []
    },
    {
      "cell_type": "markdown",
      "metadata": {
        "id": "qUG1Y232EYQF"
      },
      "source": [
        "The features `purpose` and `title` contain similar content. Since `purpose` only contains 14 classes and `title` contains more than 60,000 classes we keep `purpose` and drop `title`.\n",
        "\n",
        "More over we drop `emp_title`, as it contains either free-text or a high number of unique values, which is true for the later. We expect little loss in information by deleting these variables.\n",
        "\n",
        "As `policy_code` is constant, it can be also dropped."
      ]
    },
    {
      "cell_type": "code",
      "metadata": {
        "id": "XhlUYmRgEYgh"
      },
      "source": [
        "data = data.drop(columns=['emp_title', 'title', 'policy_code'])"
      ],
      "execution_count": null,
      "outputs": []
    },
    {
      "cell_type": "markdown",
      "metadata": {
        "id": "Bh7so8oEvraF"
      },
      "source": [
        "Next, we analyze categorical features by looking at their $k$ most frequent values."
      ]
    },
    {
      "cell_type": "code",
      "metadata": {
        "id": "UJXdv1S0lBmz"
      },
      "source": [
        "k = 10\n",
        "data['term'].value_counts().head(k)"
      ],
      "execution_count": null,
      "outputs": []
    },
    {
      "cell_type": "code",
      "metadata": {
        "id": "xLpty88Wxgq0"
      },
      "source": [
        "data['addr_state'].value_counts().head(k)"
      ],
      "execution_count": null,
      "outputs": []
    },
    {
      "cell_type": "code",
      "metadata": {
        "id": "B-V_h60fxf5W"
      },
      "source": [
        "data['application_type'].value_counts().head(k)"
      ],
      "execution_count": null,
      "outputs": []
    },
    {
      "cell_type": "code",
      "metadata": {
        "id": "VyYTudK0xfpL"
      },
      "source": [
        "data['initial_list_status'].value_counts().head(k)"
      ],
      "execution_count": null,
      "outputs": []
    },
    {
      "cell_type": "code",
      "metadata": {
        "id": "3RzQBIzbxfhm"
      },
      "source": [
        "data['loan_status'].value_counts().head(k)"
      ],
      "execution_count": null,
      "outputs": []
    },
    {
      "cell_type": "code",
      "metadata": {
        "id": "DMPT3EJexfYY"
      },
      "source": [
        "data['grade'].value_counts().head(k)"
      ],
      "execution_count": null,
      "outputs": []
    },
    {
      "cell_type": "code",
      "metadata": {
        "id": "BkwbQEh8xfPO"
      },
      "source": [
        "data['sub_grade'].value_counts().head(k)"
      ],
      "execution_count": null,
      "outputs": []
    },
    {
      "cell_type": "code",
      "metadata": {
        "id": "8rQek4VfxfEU"
      },
      "source": [
        "data['home_ownership'].value_counts().head(k)"
      ],
      "execution_count": null,
      "outputs": []
    },
    {
      "cell_type": "code",
      "metadata": {
        "id": "KfpFLRskxez1"
      },
      "source": [
        "data['verification_status'].value_counts().head(k)"
      ],
      "execution_count": null,
      "outputs": []
    },
    {
      "cell_type": "code",
      "metadata": {
        "id": "8urZ7RiAxerd"
      },
      "source": [
        "data['purpose'].value_counts().head(k)"
      ],
      "execution_count": null,
      "outputs": []
    },
    {
      "cell_type": "code",
      "metadata": {
        "id": "vkTNaKjsxehs"
      },
      "source": [
        "data['emp_length'].value_counts().head(k)"
      ],
      "execution_count": null,
      "outputs": []
    },
    {
      "cell_type": "markdown",
      "metadata": {
        "id": "Q-9znEc79WrT"
      },
      "source": [
        "##Analyze loan status\n",
        "In a first step the different loan status categories and their quantities are identified to categorize them in \"default\" and \"non-default\""
      ]
    },
    {
      "cell_type": "code",
      "metadata": {
        "id": "-50t69aT9V9m"
      },
      "source": [
        "data['loan_status'].value_counts()"
      ],
      "execution_count": null,
      "outputs": []
    },
    {
      "cell_type": "code",
      "metadata": {
        "id": "MDdX4BMyHr-o"
      },
      "source": [
        "loan_status_absolute = data['loan_status'].value_counts()\n",
        "loan_status_absolute = loan_status_absolute.to_frame()\n",
        "\n",
        "fig, ax = plt.subplots(figsize=(20, 10))\n",
        "plt.ticklabel_format(style='plain')\n",
        "sns.barplot(x='loan_status', y=loan_status_absolute.index, data=loan_status_absolute, ax=ax)"
      ],
      "execution_count": null,
      "outputs": []
    },
    {
      "cell_type": "markdown",
      "metadata": {
        "id": "V7xTa69ynewb"
      },
      "source": [
        "Next, we group `loan_status` to be either default or non-default to allow for binary classsification. We save the result as `TARGET`.\n",
        "\n",
        "We apply the same grouping as *Vinod Kumar, Natajan et. al* in *Credit Risk Analysis in Peer-to-Peer Lending System*."
      ]
    },
    {
      "cell_type": "code",
      "metadata": {
        "id": "OUifhYru8zDc"
      },
      "source": [
        "default_categories = ['Default', 'Charged Off', 'Late (31-120 days)', 'Late (16-30 days)', 'Does not meet the credit policy. Status:Charged Off']\n",
        "data['TARGET'] = data['loan_status'].isin(default_categories)\n",
        "\n",
        "data['TARGET'].value_counts()"
      ],
      "execution_count": null,
      "outputs": []
    },
    {
      "cell_type": "code",
      "metadata": {
        "id": "jcwKAVjaMaO7"
      },
      "source": [
        "_, ax = plt.subplots(figsize=(20, 10))\n",
        "plt.ticklabel_format(style='plain')\n",
        "g = sns.countplot(x='TARGET', hue='loan_status', data=data)\n",
        "g.legend(loc='upper right', bbox_to_anchor=(1.1, 1), ncol=1)\n",
        "plt.show();"
      ],
      "execution_count": null,
      "outputs": []
    },
    {
      "cell_type": "markdown",
      "metadata": {
        "id": "yftZEacLNpm4"
      },
      "source": [
        "## default status by debt-to-income-ratio\n",
        "- For calculation of debt-to-income-ratio see [here.](https://www.lendingclub.com/loans/resource-center/calculating-debt-to-income)\n",
        "\n",
        "**expectation**\n",
        "- One would expect more defaults with a higher debt-to-income ratio, but no clear trend can be derived from data."
      ]
    },
    {
      "cell_type": "code",
      "metadata": {
        "id": "mDp5z60wNt93"
      },
      "source": [
        "g = sns.displot(data, x='dti', hue='TARGET', multiple='fill', legend=False, height=10, aspect=20 / 10, alpha=1,\n",
        "                bins=1000)\n",
        "plt.title(\"default status by debt to income ratio in relative numbers\")\n",
        "plt.xlim(0, 100)\n",
        "plt.legend(title='Defaulted', loc='upper right', labels=['Default', 'Non-Default'], bbox_to_anchor=(1.1, 1))\n",
        "plt.show(g);"
      ],
      "execution_count": null,
      "outputs": []
    },
    {
      "cell_type": "markdown",
      "metadata": {
        "id": "uffxWHzdS5rv"
      },
      "source": [
        "## default status by term structure and amount"
      ]
    },
    {
      "cell_type": "code",
      "metadata": {
        "id": "LtIbRH1wS5YG"
      },
      "source": [
        "plt.figure(figsize=(20, 10))\n",
        "sns.violinplot(x=\"TARGET\", y=\"loan_amnt\", data=data, hue=\"term\", split=True)\n",
        "plt.title(\"default by term structure and amount\")\n",
        "plt.xlabel(\"defaulted\")\n",
        "plt.ylabel(\"Loan amount\")\n",
        "plt.legend(bbox_to_anchor=(1.2, 1));"
      ],
      "execution_count": null,
      "outputs": []
    },
    {
      "cell_type": "markdown",
      "metadata": {
        "id": "0Vq4eBtyTLSY"
      },
      "source": [
        "## default status by grade\n",
        "\n",
        "**expectation**\n",
        "- Loans with a lower rating inherit a higher risk of default."
      ]
    },
    {
      "cell_type": "code",
      "metadata": {
        "id": "YYT4Dbc-TLAe"
      },
      "source": [
        "g = sns.displot(data, x='grade', hue='TARGET', multiple='stack', legend=False, height=10, aspect=20 / 10, alpha=1);\n",
        "plt.title(\"default status by grade\")\n",
        "plt.legend(title='Defaulted', loc='upper right', labels=['Default', 'Fully paid'], bbox_to_anchor=(1.1, 1))\n",
        "plt.show(g);"
      ],
      "execution_count": null,
      "outputs": []
    },
    {
      "cell_type": "code",
      "metadata": {
        "id": "6Ts1EhBlbFjz"
      },
      "source": [
        "# TODO: As observed by researchers xy...\n",
        "\n",
        "g = sns.displot(data, x='grade', hue='TARGET', multiple='fill', legend=False, height=10, aspect=1, alpha=1)\n",
        "plt.title(\"default status by grade in relative numbers\")\n",
        "plt.legend(title='Defaulted', loc='upper right', labels=['Default', 'Non-Default'], bbox_to_anchor=(1.2, 1))\n",
        "plt.show(g);"
      ],
      "execution_count": null,
      "outputs": []
    },
    {
      "cell_type": "markdown",
      "metadata": {
        "id": "2uV0CzYTTlve"
      },
      "source": [
        "## default status by grade and interest rate"
      ]
    },
    {
      "cell_type": "code",
      "metadata": {
        "id": "usXGrRlvTliG"
      },
      "source": [
        "plt.figure(figsize=(20, 10))\n",
        "sns.violinplot(x=\"TARGET\", y=\"int_rate\", data=data, hue=\"grade\")\n",
        "plt.legend(bbox_to_anchor=(1.1, 1))\n",
        "plt.title(\"interest rate by grade and default status\")\n",
        "plt.xlabel(\"defaulted\")\n",
        "plt.ylabel(\"Interest Rate\");"
      ],
      "execution_count": null,
      "outputs": []
    },
    {
      "cell_type": "markdown",
      "metadata": {
        "id": "06noX276TxML"
      },
      "source": [
        "# Default status by application type\n",
        "\n",
        "**expectation**\n",
        "- Joint applications inherit lower risk of default."
      ]
    },
    {
      "cell_type": "code",
      "metadata": {
        "id": "jGnoRo5ETw8n"
      },
      "source": [
        "fig = plt.figure(figsize=(18, 8))\n",
        "sns.violinplot(x=\"TARGET\", y=\"loan_amnt\", data=data, hue=\"application_type\", split=True)\n",
        "plt.title(\"default by amount and application type\")\n",
        "plt.xlabel(\"defaulted\")\n",
        "plt.legend(loc='upper right', bbox_to_anchor=(1.15, 1), ncol=1, labels=['Individual', 'Joint Application']);\n",
        "plt.ylabel(\"Loan Amount\");"
      ],
      "execution_count": null,
      "outputs": []
    },
    {
      "cell_type": "markdown",
      "metadata": {
        "id": "rkmcVR6wT3-m"
      },
      "source": [
        "## Default status by working experience\n",
        "\n",
        "**expectation**\n",
        "- The longer the working experience, the smaller the probability of default."
      ]
    },
    {
      "cell_type": "code",
      "metadata": {
        "id": "Q1X27552T3wG"
      },
      "source": [
        "fig = plt.figure(figsize=(20, 10))\n",
        "\n",
        "sns.countplot(x='emp_length', hue='TARGET', data=data, order=data['emp_length'].value_counts().index)\n",
        "plt.xlabel('Employee Working Experience')\n",
        "plt.legend(title='Defaulted', loc='upper right', labels=['Default', 'Non-Default'], bbox_to_anchor=(1.15, 1))\n",
        "plt.show()"
      ],
      "execution_count": null,
      "outputs": []
    },
    {
      "cell_type": "markdown",
      "metadata": {
        "id": "FQGeDTq7UChP"
      },
      "source": [
        "## Default status by state\n",
        "\n",
        "**expectation**\n",
        "- None."
      ]
    },
    {
      "cell_type": "code",
      "metadata": {
        "id": "sM4RiOJHUCr_"
      },
      "source": [
        "plt.figure(figsize=(10, 20))\n",
        "plt.ticklabel_format(style='plain')\n",
        "g = sns.countplot(y='addr_state', hue='TARGET', data=data, ax=ax)\n",
        "plt.legend(loc='upper right', bbox_to_anchor=(1, 1), ncol=1, labels=['Default', 'Fully paid'])\n",
        "plt.ylabel(\"state\")\n",
        "plt.xlabel(\"count\")\n",
        "plt.show(g);"
      ],
      "execution_count": null,
      "outputs": []
    },
    {
      "cell_type": "code",
      "metadata": {
        "id": "33R0Gfkqb-tR"
      },
      "source": [
        "# TODO: Discussion IA vs. ID (few observations)\n",
        "\n",
        "g = sns.displot(data, y='addr_state', hue='TARGET', multiple='fill', legend=False, height=20, aspect=10 / 20, alpha=1)\n",
        "plt.title(\"default status by state in relative numbers\")\n",
        "plt.legend(title='Defaulted', loc='upper right', labels=['Default', 'Non-Default'], bbox_to_anchor=(1.1, 1))\n",
        "plt.ylabel(\"state\")\n",
        "plt.xlabel(\"density\")\n",
        "plt.show(g);"
      ],
      "execution_count": null,
      "outputs": []
    },
    {
      "cell_type": "markdown",
      "metadata": {
        "id": "0fxphZNNJujA"
      },
      "source": [
        "## default status by purpose"
      ]
    },
    {
      "cell_type": "code",
      "metadata": {
        "id": "Sglwz5KCJuCU"
      },
      "source": [
        "_, ax = plt.subplots(figsize=(10, 10))\n",
        "plt.ticklabel_format(style='plain')\n",
        "g = sns.countplot(y='loan_status', hue='TARGET', data=data, ax=ax)\n",
        "g.legend(loc='upper right', bbox_to_anchor=(1.2, 1), ncol=1, labels=['Default', 'Fully paid'])\n",
        "plt.ylabel(\"loan status\")\n",
        "plt.show();"
      ],
      "execution_count": null,
      "outputs": []
    },
    {
      "cell_type": "markdown",
      "metadata": {
        "id": "-ZCYgcfkUNGK"
      },
      "source": [
        "## Interest rate by grade"
      ]
    },
    {
      "cell_type": "code",
      "metadata": {
        "id": "4CA-p-LvUMv4"
      },
      "source": [
        "plt.figure(figsize=(12, 10))\n",
        "g = sns.boxplot(data=data, x='grade', y='int_rate')\n",
        "plt.title(\"interest rate by grade\")\n",
        "plt.show(g);"
      ],
      "execution_count": null,
      "outputs": []
    },
    {
      "cell_type": "markdown",
      "metadata": {
        "id": "R2uul4BVcMM4"
      },
      "source": [
        "## default status by interest rate"
      ]
    },
    {
      "cell_type": "code",
      "metadata": {
        "id": "ecrhTA8icPCX"
      },
      "source": [
        "plt.figure(figsize=(20, 10))\n",
        "bins = np.linspace(5, 33, 33)\n",
        "g = sns.histplot(data, x='int_rate', hue='TARGET', multiple='dodge', legend=False, alpha=1, bins=bins);\n",
        "plt.title(\"default status by interest rate\")\n",
        "plt.legend(title='Defaulted', loc='upper right', labels=['Default', 'Fully paid'], bbox_to_anchor=(1.1, 1))\n",
        "plt.xlabel(\"interest rate\")\n",
        "plt.ylabel(\"count\")\n",
        "plt.show(g);"
      ],
      "execution_count": null,
      "outputs": []
    },
    {
      "cell_type": "code",
      "metadata": {
        "id": "xjkvRTcFcrgI"
      },
      "source": [
        "# TODO: Mind bin size. There are interest rates with only few loans. This might lead to distortions.\n",
        "\n",
        "g = sns.displot(data, x='int_rate', hue='TARGET', multiple='fill', legend=False, height=10, bins=50, aspect=20 / 10,\n",
        "                alpha=1)\n",
        "plt.title(\"default status by interest rate in relative numbers\")\n",
        "plt.legend(title='Defaulted', loc='upper right', labels=['Default', 'Non-Default'], bbox_to_anchor=(1.1, 1))\n",
        "plt.xlabel(\"interest rate in %\")\n",
        "plt.ylabel(\"density\")\n",
        "plt.show();"
      ],
      "execution_count": null,
      "outputs": []
    },
    {
      "cell_type": "markdown",
      "metadata": {
        "id": "4BvPZzr01k2x"
      },
      "source": [
        "## Analyze income\n"
      ]
    },
    {
      "cell_type": "code",
      "metadata": {
        "id": "SZkN1DOA9CUD"
      },
      "source": [
        "income_by_states = income_by_states[['NAME', 'S1901_C01_013E']]\n",
        "income_by_states.rename(columns={'NAME': 'state', 'S1901_C01_013E': 'income'}, inplace=True)\n",
        "\n",
        "income_by_states.head(60)"
      ],
      "execution_count": null,
      "outputs": []
    },
    {
      "cell_type": "code",
      "metadata": {
        "id": "DlbBaeTD1kgN"
      },
      "source": [
        "state_map = pd.read_csv(\"/content/drive/My Drive/AdvancedML/states_mapping.csv\", sep=';')\n",
        "state_map.head(50)"
      ],
      "execution_count": null,
      "outputs": []
    },
    {
      "cell_type": "code",
      "metadata": {
        "id": "cR6XrakQ50kc"
      },
      "source": [
        "# remove comments from df\n",
        "income_by_states.drop(income_by_states.index[[0]], inplace=True)\n",
        "\n",
        "# add iso codes and make subselection\n",
        "income_by_states = income_by_states.merge(state_map, how='left', left_on='state', right_on='subdivision_name')\n",
        "income_by_states = income_by_states[['iso_code', 'income']]\n",
        "\n",
        "income_by_states.head(60)"
      ],
      "execution_count": null,
      "outputs": []
    },
    {
      "cell_type": "code",
      "metadata": {
        "id": "6Ef_mLAwBCvF"
      },
      "source": [
        "lut_income = dict(income_by_states.values)\n",
        "data[\"addr_state_avg_income\"] = data[\"addr_state\"].replace(lut_income)\n",
        "data[\"addr_state_avg_income\"] = data[\"addr_state_avg_income\"].apply(lambda x: pd.to_numeric(x, errors=\"coerce\"))\n",
        "data[\"state_income_ratio\"] = data[\"annual_inc\"] / data[\"addr_state_avg_income\"]\n",
        "data.head().T"
      ],
      "execution_count": null,
      "outputs": []
    },
    {
      "cell_type": "code",
      "metadata": {
        "id": "aJm9OcNpIrqS"
      },
      "source": [
        "plt.figure(figsize=(20, 10))\n",
        "bins = np.linspace(0, 300000, 60)\n",
        "sns.histplot(data=data, x='annual_inc', bins=bins, kde=False, alpha=1)\n",
        "plt.title(\"Distribution of annual income\")\n",
        "plt.xlim(0, 300000)\n",
        "plt.xlabel(\"annual income\")\n",
        "plt.ylabel(\"count\")\n",
        "plt.show()"
      ],
      "execution_count": null,
      "outputs": []
    },
    {
      "cell_type": "markdown",
      "metadata": {
        "id": "rQQJ8hM5fSFb"
      },
      "source": [
        "## Annual Income and Loan Amount of defaulted loans"
      ]
    },
    {
      "cell_type": "code",
      "metadata": {
        "id": "StRoSAhRfR2S"
      },
      "source": [
        "plt.figure(figsize=(20, 20))\n",
        "sel_annual_inc_defaulted = data[(data.annual_inc <= 300000) & (data.TARGET == 1)]\n",
        "sns.jointplot(data=sel_annual_inc_defaulted, x=\"annual_inc\", y=\"loan_amnt\", kind=\"hex\", height=12)\n",
        "plt.xlabel(\"annual income\")\n",
        "plt.ylabel(\"loan amount\")\n",
        "plt.title(\"Distribution of defaulted loans by annual income and loan amount\")\n",
        "plt.show()"
      ],
      "execution_count": null,
      "outputs": []
    },
    {
      "cell_type": "markdown",
      "metadata": {
        "id": "yRPgTDWTfTeM"
      },
      "source": [
        "##Analyze effect of joint/ individual application"
      ]
    },
    {
      "cell_type": "code",
      "metadata": {
        "id": "BySo6utbfTpA"
      },
      "source": [
        "data['application_type'].value_counts()"
      ],
      "execution_count": null,
      "outputs": []
    },
    {
      "cell_type": "code",
      "metadata": {
        "id": "9rqXC_1DgI0O"
      },
      "source": [
        "g = sns.displot(data, x='application_type', hue='TARGET', multiple='stack', legend=False, alpha=1, height=10,\n",
        "                aspect=10 / 10)\n",
        "plt.xlabel(\"Application Type\")\n",
        "plt.title(\"default status by application type\")\n",
        "plt.legend(title='Defaulted', loc='upper right', labels=['Default', 'Non-Default'])"
      ],
      "execution_count": null,
      "outputs": []
    },
    {
      "cell_type": "code",
      "metadata": {
        "id": "4cYk4pnUiH7I"
      },
      "source": [
        "# enable again for final file\n",
        "# data_jointapp = data.loc[data['application_type'] == 'Joint App']\n",
        "# data_indidualapp = data.loc[data['application_type'] == 'Individual']"
      ],
      "execution_count": null,
      "outputs": []
    },
    {
      "cell_type": "code",
      "metadata": {
        "id": "siXgUb4lk05C"
      },
      "source": [
        "def null_values(data):\n",
        "    mis_val = data.isnull().sum()\n",
        "    mis_val_percent = 100 * data.isnull().sum() / len(data)\n",
        "    mis_val_table = pd.concat([mis_val, mis_val_percent], axis=1)\n",
        "    mis_val_table_ren_columns = mis_val_table.rename(\n",
        "        columns={0: 'Number of Missing Values', 1: 'Percentage'})\n",
        "    mis_val_table_ren_columns = mis_val_table_ren_columns[\n",
        "        mis_val_table_ren_columns.iloc[:, 1] != 0].sort_values(\n",
        "        'Percentage', ascending=False).round(2)\n",
        "    print(\"In the dataset are \" + str(mis_val_table_ren_columns.shape[0]) +\n",
        "          \" columns that have missing values.\")\n",
        "    return mis_val_table_ren_columns"
      ],
      "execution_count": null,
      "outputs": []
    },
    {
      "cell_type": "code",
      "metadata": {
        "id": "AQVn-5Ouk2cb"
      },
      "source": [
        "# FIXME: Enable again for final file\n",
        "#miss_values = null_values(data_jointapp)\n",
        "#miss_values.head(20)"
      ],
      "execution_count": null,
      "outputs": []
    },
    {
      "cell_type": "code",
      "metadata": {
        "id": "sgIuzd42lKVf"
      },
      "source": [
        "# miss_values = null_values(data_indidualapp)\n",
        "# miss_values.head(20)"
      ],
      "execution_count": null,
      "outputs": []
    },
    {
      "cell_type": "code",
      "metadata": {
        "id": "h9jfzQ8D1qzu"
      },
      "source": [
        "# miss_values = null_values(data)\n",
        "# miss_values.head()\n"
      ],
      "execution_count": null,
      "outputs": []
    },
    {
      "cell_type": "markdown",
      "metadata": {
        "id": "eKiwEqEP5Wny"
      },
      "source": [
        "## Data Preprocessing\n",
        "\n",
        "As the amount of missing values, that remain in the dataset, is relatively small, we fill missing values with the modus of each feature."
      ]
    },
    {
      "cell_type": "code",
      "metadata": {
        "id": "dydueHv2AJdd"
      },
      "source": [
        "data.fillna(data.mode().iloc[0], inplace=True)"
      ],
      "execution_count": null,
      "outputs": []
    },
    {
      "cell_type": "markdown",
      "metadata": {
        "id": "MQu0kOIEgTXQ"
      },
      "source": [
        "This leads to the following result..."
      ]
    },
    {
      "cell_type": "code",
      "metadata": {
        "id": "dS3OV95Cf_oo"
      },
      "source": [
        "visualize_nan()"
      ],
      "execution_count": null,
      "outputs": []
    },
    {
      "cell_type": "markdown",
      "metadata": {
        "id": "nthZsPfZsvlp"
      },
      "source": [
        "As seen above the dataset contains 2,260,701 entries. This sheer amount of data is hard is hard to process with the tools and processing ressources, that we have to our disposal. Therefore, we apply stratified sampling first on the dataset to create a subset with a similiar distribution to the original data. The resulting dataset will be 20 % of the original data set."
      ]
    },
    {
      "cell_type": "code",
      "metadata": {
        "id": "Oxc8BNrptYlG"
      },
      "source": [
        "# Remove target and loan status from features\n",
        "features = data.drop(columns=['loan_status', 'TARGET'], axis=1)\n",
        "# create a 20 % random subselection\n",
        "# TODO: Decreased to 5 % for faster training. Change to 20 % later.\n",
        "X_stratified, _, y_stratified, _ = train_test_split(features, data.TARGET, test_size=0.95, random_state=42,\n",
        "                                                    stratify=data.TARGET)"
      ],
      "execution_count": null,
      "outputs": []
    },
    {
      "cell_type": "markdown",
      "metadata": {
        "id": "Esp11AZ9wlIG"
      },
      "source": [
        "Next, we split the stratified data into two parts. Namely, training data and test data. The training data will be used to train the models and for in-sample testing. Whereas the test data is used for out-of-sample testing. This time we use a 70 % / 30 % split.\n"
      ]
    },
    {
      "cell_type": "code",
      "metadata": {
        "id": "rYZ3fDxFwrww"
      },
      "source": [
        "X_train, X_test, y_train, y_test = train_test_split(X_stratified, y_stratified, stratify=y_stratified, test_size=0.3,\n",
        "                                                    random_state=42)"
      ],
      "execution_count": null,
      "outputs": []
    },
    {
      "cell_type": "code",
      "metadata": {
        "id": "mf-peME262Dp"
      },
      "source": [
        "print(X_train.dtypes)"
      ],
      "execution_count": null,
      "outputs": []
    },
    {
      "cell_type": "markdown",
      "metadata": {
        "id": "P9G-A2S3a589"
      },
      "source": [
        "Having `datetime64[ns]` dtypes e. g. for `issue_d` is desireable for visualization. However, using these datetypes in our models causes difficulties, as the datetime object have to be converted to some numeric value. We only keep the 'year' component."
      ]
    },
    {
      "cell_type": "code",
      "metadata": {
        "id": "t4MvZePha2pJ"
      },
      "source": [
        "# See discussion here  https://stats.stackexchange.com/a/311498\n",
        "\n",
        "# TODO: Cyclic data (sin) / unix timestamp?\n",
        "\n",
        "# apply to Test and Training set\n",
        "datetime_columns = data.select_dtypes(include=['datetime64[ns]']).columns\n",
        "\n",
        "datetime_columns_month = [s + \"_mth\" for s in datetime_columns]\n",
        "\n",
        "X_train[datetime_columns_month] = X_train[datetime_columns].apply(lambda x: x.dt.month)\n",
        "X_test[datetime_columns_month] = X_test[datetime_columns].apply(lambda x: x.dt.month)\n",
        "\n",
        "X_train[datetime_columns] = X_train[datetime_columns].apply(lambda x: x.dt.year)\n",
        "X_test[datetime_columns] = X_test[datetime_columns].apply(lambda x: x.dt.year)\n",
        "\n",
        "\n",
        "print(X_train.dtypes)"
      ],
      "execution_count": null,
      "outputs": []
    },
    {
      "cell_type": "markdown",
      "metadata": {
        "id": "jw8UJxkDIjc9"
      },
      "source": [
        "While variables of type 'Categorical' are great for visualization, they also require further processing to be used by machine learning models. We apply some Label-encoding. The problem with label encoding is, that an unfortunate ordering can lead to poor results when applying our models.\n",
        "\n",
        "To adress this issue, use a 2 step approach:\n",
        "- We use label encoding provided by pandas, if the ordering is appropriate.\n",
        "- Otherwise, we apply some manual ordering.\n",
        "\n",
        "In order to do so, we first check the order for all categorical variables, to find out which variables require manual ordering."
      ]
    },
    {
      "cell_type": "code",
      "metadata": {
        "id": "mg2JyYXoG7Fh"
      },
      "source": [
        "# TODO: Mapping itself introduces bias\n",
        "cat_columns = X_train.select_dtypes(include=['category']).columns\n",
        "\n",
        "for cat in cat_columns:\n",
        "    mapping = dict(enumerate(X_train[cat].cat.categories))\n",
        "    print(f\"{cat}: {mapping}\")"
      ],
      "execution_count": null,
      "outputs": []
    },
    {
      "cell_type": "markdown",
      "metadata": {
        "id": "2P6GM5uoI8zA"
      },
      "source": [
        "As it can be seen above, the ordering of `emp_length` should be changed. As `10+ years` is closer in space to `1 year` than e. g. `2 years`. For the remaining features it's appropriate to encode the value with its key."
      ]
    },
    {
      "cell_type": "code",
      "metadata": {
        "id": "g1Waqrg8fmCq"
      },
      "source": [
        "# change the mapping during Label Encoding by using a mapping\n",
        "emp_length_to_int = {'< 1 year': 0, '1 year': 1, '2 years': 2, '3 years': 3,\n",
        "                     '4 years': 4, '5 years': 5, '6 years': 6, '7 years': 7,\n",
        "                     '8 years': 8, '9 years': 9, '10+ years': 10}\n",
        "\n",
        "# TODO: Mapping der Subgrades? -> A1 -> 101 / B2-> 102\n",
        "\n",
        "# apply to both test and training set\n",
        "X_train['emp_length'] = X_train['emp_length'].map(emp_length_to_int).astype('int')\n",
        "X_test['emp_length'] = X_test['emp_length'].map(emp_length_to_int).astype('int')"
      ],
      "execution_count": null,
      "outputs": []
    },
    {
      "cell_type": "code",
      "metadata": {
        "id": "Y27j1yPMRNld"
      },
      "source": [
        "# apply to test and training set\n",
        "cat_columns = X_train.select_dtypes(include=['category']).columns\n",
        "X_train[cat_columns] = X_train[cat_columns].apply(lambda x: x.cat.codes)\n",
        "X_test[cat_columns] = X_test[cat_columns].apply(lambda x: x.cat.codes)\n",
        "\n",
        "print(X_train.dtypes)"
      ],
      "execution_count": null,
      "outputs": []
    },
    {
      "cell_type": "markdown",
      "metadata": {
        "id": "DP4vbXEkAtns"
      },
      "source": [
        "\n",
        "Since the features have different units, Scaling and Standardization of the numeric features are necessary. And since a Support Vector Machine required data with values between 0 and 1 the Standardization is conducted first."
      ]
    },
    {
      "cell_type": "code",
      "metadata": {
        "id": "Bm9WXqG0WYAs"
      },
      "source": [
        "min_max = MinMaxScaler()\n",
        "X_train = pd.DataFrame(min_max.fit_transform(X_train), columns=X_train.columns)\n",
        "X_test = pd.DataFrame(min_max.transform(X_test), columns=X_test.columns)\n",
        "X_train.describe()"
      ],
      "execution_count": null,
      "outputs": []
    },
    {
      "cell_type": "markdown",
      "metadata": {
        "id": "1kKzuYL_2-cG"
      },
      "source": [
        "###SMOTE\n",
        "As seen during data exploration the data set is highly imbalanced. Non-default loans are much more frequent than defaulted loans. We use a variant of 'SMOTE' ([see](https://arxiv.org/pdf/1106.1813.pdf) and [see](https://imbalanced-learn.org/dev/references/generated/imblearn.over_sampling.SMOTENC.html)) to upsample the defaulted class, which is relatively rare in the raw data. This sampling is only applied on the training data."
      ]
    },
    {
      "cell_type": "code",
      "metadata": {
        "id": "AEiKWDk7z2DG"
      },
      "source": [
        "y_train.value_counts().head()"
      ],
      "execution_count": null,
      "outputs": []
    },
    {
      "cell_type": "code",
      "metadata": {
        "id": "rm0CiSTcz3QK"
      },
      "source": [
        "# SMOTE\n",
        "X_train = pd.DataFrame(X_train)\n",
        "y_train = pd.DataFrame(y_train)\n",
        "columns_X = X_train.columns\n",
        "columns_y = y_train.columns\n",
        "\n",
        "sm = SMOTE(random_state=42, k_neighbors=2 ** 7)\n",
        "X_train_sm, y_train_sm = sm.fit_resample(X_train, y_train)\n",
        "\n",
        "X_train = pd.DataFrame(X_train_sm, columns=columns_X)\n",
        "y_train = pd.DataFrame(y_train_sm, columns=columns_y)\n",
        "\n",
        "y_test = pd.DataFrame(y_test, columns=columns_y)\n",
        "\n",
        "print(y_train.value_counts().head())"
      ],
      "execution_count": null,
      "outputs": []
    },
    {
      "cell_type": "markdown",
      "metadata": {
        "id": "biETvJfm3Mnu"
      },
      "source": [
        "#Correlations"
      ]
    },
    {
      "cell_type": "markdown",
      "metadata": {
        "id": "BL8OKRhzJY-X"
      },
      "source": [
        "To identify similar features and relevant features (high correlation with target feature) a correlation analysis is conducted"
      ]
    },
    {
      "cell_type": "code",
      "metadata": {
        "id": "EAQYU1buxhCa"
      },
      "source": [
        "# use entire data set for correlation\n",
        "column_names = X_train.columns\n",
        "X = pd.concat([X_train, X_test], axis=0, ignore_index=True)\n",
        "y = pd.concat([y_train, y_test], axis=0, ignore_index=True)\n",
        "\n",
        "data_preprocessed = pd.concat([X, y], axis=1)\n",
        "data_preprocessed.head()"
      ],
      "execution_count": null,
      "outputs": []
    },
    {
      "cell_type": "code",
      "metadata": {
        "id": "vfYC4VBWJZHN"
      },
      "source": [
        "fig, ax = plt.subplots(figsize=(40, 40))\n",
        "\n",
        "corr = data_preprocessed.corr()\n",
        "mask = np.triu(np.ones_like(corr, dtype=np.bool))\n",
        "\n",
        "sns.heatmap(corr, annot=True, linewidths=.5, ax=ax, mask=mask)\n",
        "plt.show()"
      ],
      "execution_count": null,
      "outputs": []
    },
    {
      "cell_type": "markdown",
      "metadata": {
        "id": "oPOQb2F6AcuV"
      },
      "source": [
        "As it can be seen in the above there are several features with high correlation. Let's further investigate these."
      ]
    },
    {
      "cell_type": "code",
      "metadata": {
        "id": "ZmCHC1ra7CxE"
      },
      "source": [
        "# calculate abs correlation to take strong positive and negative correlations into account.\n",
        "corr_abs = corr.abs()\n",
        "\n",
        "pairs = corr.unstack()\n",
        "pairs_ordered = pairs.sort_values(kind=\"quicksort\", ascending=False)\n",
        "\n",
        "print(pairs_ordered[pairs_ordered < 1.0].head(30))"
      ],
      "execution_count": null,
      "outputs": []
    },
    {
      "cell_type": "markdown",
      "metadata": {
        "id": "SuxKN6lf-pBd"
      },
      "source": [
        "We decided to drop columns with a high correlation and keep only one of them. This is similar to the paper *Credit Risk Analysis in Peer-to-Peer Lending System*."
      ]
    },
    {
      "cell_type": "code",
      "metadata": {
        "id": "xHKNGFVq9vPd"
      },
      "source": [
        "data_preprocessed = data_preprocessed.drop(columns=['fico_range_low', 'funded_amnt', 'funded_amnt_inv', 'num_sats'])"
      ],
      "execution_count": null,
      "outputs": []
    },
    {
      "cell_type": "markdown",
      "metadata": {
        "id": "Yze_Knjl5iLb"
      },
      "source": [
        "## Task 3: Use logistic regression (in-sample) for default prediction. Interpret your results for logistic regression. (20 points)"
      ]
    },
    {
      "cell_type": "markdown",
      "metadata": {
        "id": "-LbrUETSek4O"
      },
      "source": [
        "To compare the models in the end a DataFrame with all performance metrics is created."
      ]
    },
    {
      "cell_type": "code",
      "metadata": {
        "id": "pDF9PY7oelCJ"
      },
      "source": [
        "results = pd.DataFrame()"
      ],
      "execution_count": null,
      "outputs": []
    },
    {
      "cell_type": "code",
      "metadata": {
        "id": "6Oqgi95MrpLk"
      },
      "source": [
        "def print_results_in_sample(model, results):\n",
        "    y_pred_model = model.predict(X)\n",
        "\n",
        "    print(classification_report(y, y_pred_model))\n",
        "\n",
        "    plot_confusion_matrix(model, X, y, display_labels=['Non-Default', 'Default'])\n",
        "    plt.show()\n",
        "\n",
        "    print(f\"Accuracy: {accuracy_score(y, y_pred_model):.2f}\")\n",
        "    print(f\"Balanced Accuracy: {balanced_accuracy_score(y, y_pred_model):.2f}\")\n",
        "    print(f\"Matthews Corrcoef: {matthews_corrcoef(y, y_pred_model):.2f}\")\n",
        "    print(f\"Params: {model.get_params()}\")\n",
        "\n",
        "    performance_metrics = pd.DataFrame(\n",
        "        {'Accuracy': accuracy_score(y, y_pred_model), 'Balanced Accuracy': balanced_accuracy_score(y, y_pred_model),\n",
        "         'Matthews Corrcoef': matthews_corrcoef(y, y_pred_model)}, [f\"{model.__class__.__name__}\"])\n",
        "    # index=['Logistic Regression']\n",
        "    results = results.append(performance_metrics)\n",
        "    return results"
      ],
      "execution_count": null,
      "outputs": []
    },
    {
      "cell_type": "code",
      "metadata": {
        "id": "ZTIiHaEnImJc"
      },
      "source": [
        "# based on https://www.scikit-yb.org/en/latest/api/classifier/rocauc.html\n",
        "def print_performance_measures_in_sample(model):\n",
        "    ## Instantiate the visualizer with the classification model\n",
        "    ##roc_auc(model, X, y.values.ravel(), classes=[\"Default\", \"Non-Default\"])#, binary=True\n",
        "\n",
        "    # Instantiate the visualizer with the classification model\n",
        "    plt.figure(figsize=(9, 9))\n",
        "    # FIXME: binary flag not working. Figure out why.\n",
        "    roc_auc(model, X, y.values.ravel(), X_test=X, y_test=y.values.ravel(), classes=[\"True\", \"False\"], binary=True)\n",
        "    plt.show()"
      ],
      "execution_count": null,
      "outputs": []
    },
    {
      "cell_type": "code",
      "metadata": {
        "id": "8N6SffXYbGPX"
      },
      "source": [
        "y.values.ravel()"
      ],
      "execution_count": null,
      "outputs": []
    },
    {
      "cell_type": "markdown",
      "metadata": {
        "id": "A9CmHxZxe0qi"
      },
      "source": [
        "For in-sample testing a the training and testing are both conducted on the same dataset."
      ]
    },
    {
      "cell_type": "code",
      "metadata": {
        "id": "aBw6t0kw5lUK"
      },
      "source": [
        "# Either set error score in paramgrid to 0 https://stackoverflow.com/a/43010440\n",
        "# or use liblinear (universal solver instead) https://scikit-learn.org/stable/modules/generated/sklearn.linear_model.LogisticRegression.html#sklearn.linear_model.LogisticRegression\n",
        "# Vary penalty, reduce no. of combinations\n",
        "\n",
        "param_grid = {'penalty': ['l2'], 'tol': [1e-4, 1e-3], 'C': [0.5, 1.0, 2.0], 'solver': ['saga'],\n",
        "              'max_iter': [250, 500]}\n",
        "# , 'l1_ratio':[0], , 'elasticnet'\n",
        "\n",
        "# TODO: Error_score in logistic regression setzen\n",
        "grid_lg = GridSearchCV(LogisticRegression(), param_grid, n_jobs=1, verbose=0)  # , error_score=0.0\n",
        "\n",
        "grid_lg.fit(X, y.values.ravel())\n",
        "\n",
        "# choose best model\n",
        "grid_lg_optimized = grid_lg.best_estimator_\n",
        "\n",
        "# print confusion \n",
        "results = print_results_in_sample(grid_lg_optimized, results)\n",
        "\n",
        "print_performance_measures_in_sample(grid_lg_optimized)"
      ],
      "execution_count": null,
      "outputs": []
    },
    {
      "cell_type": "code",
      "metadata": {
        "id": "FiAL9VGPFhnn"
      },
      "source": [
        "results"
      ],
      "execution_count": null,
      "outputs": []
    },
    {
      "cell_type": "markdown",
      "metadata": {
        "id": "PnlUQ45H2pMd"
      },
      "source": [
        "##QUESTION: Da wir in-sampling haben macht eine extrem hohe Accuracy eigentlich Sinn oder?"
      ]
    },
    {
      "cell_type": "markdown",
      "metadata": {
        "id": "-fT0hckv5mOr"
      },
      "source": [
        "## Task 4: Compare logistic regression, classification tree, random forest, bagging, support vector machine (with two kernel functions), and neural network for default prediction based on the out-of-sample performance measures (at least three different measures). (35 points)"
      ]
    },
    {
      "cell_type": "markdown",
      "metadata": {
        "id": "S9y8UWmYfmks"
      },
      "source": [
        "### Preliminary"
      ]
    },
    {
      "cell_type": "code",
      "metadata": {
        "id": "0A6xby2O5rsq"
      },
      "source": [
        "def print_results(model, results):\n",
        "    y_pred_model = model.predict(X_test)\n",
        "\n",
        "    print(classification_report(y_test, y_pred_model))\n",
        "\n",
        "    fig, ax = plt.subplots(figsize=(16, 9))\n",
        "    disp = plot_confusion_matrix(model, X_test, y_test, display_labels=['Non-Default', 'Default'], ax=ax)\n",
        "    plt.title(f\"Confusion matrix for {model.__class__.__name__}\")\n",
        "    disp.ax_.grid(False)\n",
        "    plt.show()\n",
        "\n",
        "    print(f\"Accuracy: {accuracy_score(y_test, y_pred_model):.2f}\")\n",
        "    print(f\"Balanced Accuracy: {balanced_accuracy_score(y_test, y_pred_model):.2f}\")\n",
        "    print(f\"MCC: {matthews_corrcoef(y_test, y_pred_model):.2f}\")\n",
        "    print()\n",
        "    print(f\"Params: {model.get_params()}\")\n",
        "\n",
        "    performance_metrics = pd.DataFrame({'Accuracy': accuracy_score(y_test, y_pred_model),\n",
        "                                        'Balanced Accuracy': balanced_accuracy_score(y_test, y_pred_model),\n",
        "                                        'Matthews Corrcoef': matthews_corrcoef(y_test, y_pred_model)},\n",
        "                                       index=[f\"{model.__class__.__name__}\"])\n",
        "    results = results.append(performance_metrics)\n",
        "    return results\n",
        "\n",
        "    #return performance_metrics"
      ],
      "execution_count": null,
      "outputs": []
    },
    {
      "cell_type": "code",
      "metadata": {
        "id": "bZ-cn3w1wVXt"
      },
      "source": [
        "# based on https://www.scikit-yb.org/en/latest/api/classifier/rocauc.html\n",
        "def print_performance_measures(model):\n",
        "    # Instantiate the visualizer with the classification model\n",
        "    plt.figure(figsize=(9, 9))\n",
        "    # FIXME: binary flag not working. Figure out why.\n",
        "    roc_auc(model, X_train, y_train, X_test=X_test, y_test=y_test, classes=[\"Default\", \"Non-Default\"], binary=True)\n",
        "    plt.show()"
      ],
      "execution_count": null,
      "outputs": []
    },
    {
      "cell_type": "markdown",
      "metadata": {
        "id": "EWJVWocXfhKX"
      },
      "source": [
        "### Decision Tree"
      ]
    },
    {
      "cell_type": "code",
      "metadata": {
        "id": "UMS3VYLtI-n6",
        "outputId": "4e3a882e-73d5-494e-dada-db3add0758f7",
        "colab": {
          "base_uri": "https://localhost:8080/",
          "height": 1000
        }
      },
      "source": [
        "# TODO: perform randomized search first. Use as boilerplate for other models laster V / M\n",
        "# TODO: When is which distribution suitable?\n",
        "#distributions = dict(criterion=['gini', 'entropy'], max_depth=uniform(loc=2, scale=4), min_samples_leaf=[0.5, 1], min_weight_fraction_leaf=expon(scale=.1))\n",
        "#rand_dt = RandomizedSearchCV(DecisionTreeClassifier(), distributions, random_state=42, n_iter=20)\n",
        "#search = rand_dt.fit(X_train, y_train)\n",
        "#print(search.best_params_)\n",
        "\n",
        "# max_depth = [2, 6, 10, 14...]\n",
        "min_depth = 2\n",
        "step_size = 4\n",
        "step_count = 2 ** 4\n",
        "max_depth = min_depth + np.arange(step_count) * step_size\n",
        "\n",
        "# perform grid search\n",
        "param_grid = {'criterion': ['gini', 'entropy'], 'max_depth': max_depth}\n",
        "grid_dt = GridSearchCV(DecisionTreeClassifier(), param_grid, refit=True, verbose=0)\n",
        "grid_dt.fit(X_train, y_train)\n",
        "\n",
        "# choose best model\n",
        "grid_dt_optimized = grid_dt.best_estimator_\n",
        "\n",
        "# print confusion \n",
        "performance_metrics = print_results(grid_dt_optimized, results)\n",
        "\n",
        "print_performance_measures(grid_dt_optimized)"
      ],
      "execution_count": 390,
      "outputs": [
        {
          "output_type": "stream",
          "text": [
            "              precision    recall  f1-score   support\n",
            "\n",
            "           0       0.97      0.94      0.96     29482\n",
            "           1       0.68      0.78      0.73      4428\n",
            "\n",
            "    accuracy                           0.92     33910\n",
            "   macro avg       0.82      0.86      0.84     33910\n",
            "weighted avg       0.93      0.92      0.93     33910\n",
            "\n"
          ],
          "name": "stdout"
        },
        {
          "output_type": "display_data",
          "data": {
            "image/png": "[encoded data removed]",
            "text/plain": [
              "<Figure size 1152x648 with 2 Axes>"
            ]
          },
          "metadata": {
            "tags": []
          }
        },
        {
          "output_type": "stream",
          "text": [
            "Accuracy: 0.92\n",
            "Balanced Accuracy: 0.86\n",
            "MCC: 0.69\n",
            "\n",
            "Params: {'ccp_alpha': 0.0, 'class_weight': None, 'criterion': 'entropy', 'max_depth': 10, 'max_features': None, 'max_leaf_nodes': None, 'min_impurity_decrease': 0.0, 'min_impurity_split': None, 'min_samples_leaf': 1, 'min_samples_split': 2, 'min_weight_fraction_leaf': 0.0, 'presort': 'deprecated', 'random_state': None, 'splitter': 'best'}\n"
          ],
          "name": "stdout"
        },
        {
          "output_type": "display_data",
          "data": {
            "image/png": "[encoded data removed]",
            "text/plain": [
              "<Figure size 648x648 with 1 Axes>"
            ]
          },
          "metadata": {
            "tags": []
          }
        }
      ]
    },
    {
      "cell_type": "code",
      "metadata": {
        "id": "Sx4zqjHOC1qG",
        "outputId": "d3dce583-1efa-42bb-9288-f96710b78f7e",
        "colab": {
          "base_uri": "https://localhost:8080/",
          "height": 112
        }
      },
      "source": [
        "performance_metrics"
      ],
      "execution_count": 391,
      "outputs": [
        {
          "output_type": "execute_result",
          "data": {
            "text/html": [
              "<div>\n",
              "<style scoped>\n",
              "    .dataframe tbody tr th:only-of-type {\n",
              "        vertical-align: middle;\n",
              "    }\n",
              "\n",
              "    .dataframe tbody tr th {\n",
              "        vertical-align: top;\n",
              "    }\n",
              "\n",
              "    .dataframe thead th {\n",
              "        text-align: right;\n",
              "    }\n",
              "</style>\n",
              "<table border=\"1\" class=\"dataframe\">\n",
              "  <thead>\n",
              "    <tr style=\"text-align: right;\">\n",
              "      <th></th>\n",
              "      <th>Accuracy</th>\n",
              "      <th>Balanced Accuracy</th>\n",
              "      <th>Matthews Corrcoef</th>\n",
              "    </tr>\n",
              "  </thead>\n",
              "  <tbody>\n",
              "    <tr>\n",
              "      <th>LogisticRegression</th>\n",
              "      <td>0.906836</td>\n",
              "      <td>0.904517</td>\n",
              "      <td>0.809506</td>\n",
              "    </tr>\n",
              "    <tr>\n",
              "      <th>DecisionTreeClassifier</th>\n",
              "      <td>0.923651</td>\n",
              "      <td>0.864452</td>\n",
              "      <td>0.686674</td>\n",
              "    </tr>\n",
              "  </tbody>\n",
              "</table>\n",
              "</div>"
            ],
            "text/plain": [
              "                        Accuracy  Balanced Accuracy  Matthews Corrcoef\n",
              "LogisticRegression      0.906836           0.904517           0.809506\n",
              "DecisionTreeClassifier  0.923651           0.864452           0.686674"
            ]
          },
          "metadata": {
            "tags": []
          },
          "execution_count": 0
        }
      ]
    },
    {
      "cell_type": "markdown",
      "metadata": {
        "id": "Do3bW0vVM8Uy"
      },
      "source": [
        "### Plot Decision Tree"
      ]
    },
    {
      "cell_type": "code",
      "metadata": {
        "id": "lLGHivFHMrvC",
        "outputId": "c57843fa-0608-43d9-db62-295c0725a2e1",
        "colab": {
          "base_uri": "https://localhost:8080/",
          "height": 520
        }
      },
      "source": [
        "fig, ax = plt.subplots(figsize=(16, 9))\n",
        "tree.plot_tree(grid_dt_optimized, feature_names=X_train.columns, proportion=True, max_depth=2);"
      ],
      "execution_count": 392,
      "outputs": [
        {
          "output_type": "display_data",
          "data": {
            "image/png": "[encoded data removed]",
            "text/plain": [
              "<Figure size 1152x648 with 1 Axes>"
            ]
          },
          "metadata": {
            "tags": []
          }
        }
      ]
    },
    {
      "cell_type": "markdown",
      "metadata": {
        "id": "KOaWDOhONCbS"
      },
      "source": [
        "### Plot feature importances of Decision Tree"
      ]
    },
    {
      "cell_type": "code",
      "metadata": {
        "id": "cyu-ZGVvNBl0",
        "outputId": "e212a321-d250-45f1-9462-babc80364944",
        "colab": {
          "base_uri": "https://localhost:8080/",
          "height": 683
        }
      },
      "source": [
        "def print_feature_importance(feature_importance):\n",
        "    \"\"\"\n",
        "    function to create a paretto plot with the gini importance of features.\n",
        "    \"\"\"\n",
        "    feature_importance.sort_values(ascending=False, inplace=True, by=0)\n",
        "\n",
        "    feature_importance['pareto'] = 100 * feature_importance[0].cumsum() / feature_importance[0].sum()\n",
        "    feature_importance.rename(columns={0: 'importance'}, inplace=True)\n",
        "\n",
        "    fig, axes = plt.subplots(figsize=(16, 9))\n",
        "    ax1 = feature_importance.plot(use_index=True, y='importance', kind='bar', ax=axes, color=cmap(150))\n",
        "    ax2 = feature_importance.plot(use_index=True, y='pareto', marker='D', color=cmap(7), kind='line', ax=axes,\n",
        "                                  secondary_y=True)\n",
        "    ax2.set_ylim([0, 110])\n",
        "    ax1.set_xticklabels(ax1.get_xticklabels(), rotation=45, ha='right')\n",
        "    plt.xticks(rotation=45)\n",
        "    plt.title(f\"feature importances given by '.feature_importances_' for {grid_dt_optimized.__class__.__name__}\")\n",
        "    plt.show()\n",
        "\n",
        "\n",
        " \n",
        "importance = grid_dt_optimized.feature_importances_\n",
        "feature_importance = pd.DataFrame(importance, X_train.columns)\n",
        "\n",
        "print_feature_importance(feature_importance)"
      ],
      "execution_count": 393,
      "outputs": [
        {
          "output_type": "display_data",
          "data": {
            "image/png": "[encoded data removed]",
            "text/plain": [
              "<Figure size 1152x648 with 2 Axes>"
            ]
          },
          "metadata": {
            "tags": []
          }
        }
      ]
    },
    {
      "cell_type": "markdown",
      "metadata": {
        "id": "y6Wnnf2ofhHn"
      },
      "source": [
        "### Random Forest"
      ]
    },
    {
      "cell_type": "code",
      "metadata": {
        "id": "1d94dU-w8s7Z"
      },
      "source": [
        "# [2, 6, 10, 14...]\n",
        "max_depth = np.arange(2, 22, 4)\n",
        "# [5, 10, 25, 50, 100, 150]\n",
        "n_estimators = [5, 10, 25, 50, 100, 150]\n",
        "\n",
        "# perform grid search\n",
        "param_grid = {'criterion': ['gini', 'entropy'], 'max_depth': max_depth, 'n_estimators': n_estimators,\n",
        "              'max_features': ['auto', 'sqrt', 'log2']}\n",
        "grid_rf = GridSearchCV(RandomForestClassifier(), param_grid, refit=True, verbose=0)\n",
        "grid_rf.fit(X_train, y_train.values.ravel())\n",
        "\n",
        "# choose best model\n",
        "grid_rf_optimized = grid_rf.best_estimator_\n",
        "\n",
        "# print confusion \n",
        "performance_metrics = print_results(grid_rf_optimized, results)\n",
        "\n",
        "print_performance_measures(grid_rf_optimized)"
      ],
      "execution_count": null,
      "outputs": []
    },
    {
      "cell_type": "code",
      "metadata": {
        "id": "E5YqLiJVC_Bs"
      },
      "source": [
        "performance_metrics"
      ],
      "execution_count": null,
      "outputs": []
    },
    {
      "cell_type": "markdown",
      "metadata": {
        "id": "_14aX_YQS2RE"
      },
      "source": [
        "### Bagging"
      ]
    },
    {
      "cell_type": "code",
      "metadata": {
        "id": "6VB0JjmOS0CE"
      },
      "source": [
        "# TODO: Validate results with larger dataset\n",
        "\n",
        "# perform grid search\n",
        "param_grid = {'n_estimators': [5, 10, 25, 50, 100, 150], 'max_samples': [1, 2, 3, 4, 5], 'max_features': [1, 2, 3]}\n",
        "grid_bag = GridSearchCV(BaggingClassifier(), param_grid, refit=True, verbose=0)\n",
        "grid_bag.fit(X_train, y_train)\n",
        "\n",
        "# choose best model\n",
        "grid_bag_optimized = grid_bag.best_estimator_\n",
        "\n",
        "# print confusion \n",
        "performance_metrics = print_results(grid_bag_optimized, results)\n",
        "print_performance_measures(grid_bag_optimized)"
      ],
      "execution_count": null,
      "outputs": []
    },
    {
      "cell_type": "code",
      "metadata": {
        "id": "aLlMfSklDDNV"
      },
      "source": [
        "performance_metrics"
      ],
      "execution_count": null,
      "outputs": []
    },
    {
      "cell_type": "markdown",
      "metadata": {
        "id": "zhqpa3yWGUFm"
      },
      "source": [
        "### Support Vector Machine\n",
        "\n",
        "Next, we look at SVM with two different kernels. Namely, a rfb kernel and linear kernel."
      ]
    },
    {
      "cell_type": "code",
      "metadata": {
        "id": "1326iBdkGTk2"
      },
      "source": [
        "min_c = 0.1\n",
        "step_size = 0.1\n",
        "step_count = 15\n",
        "\n",
        "C = min_c + np.arange(step_count) * step_size\n",
        "\n",
        "param_grid = {'C': C, 'gamma': [1, 0.1, 0.01, 0.001], 'kernel': ['rbf', 'linear']}\n",
        "grid_svm = GridSearchCV(SVC(), param_grid, refit=True, verbose=0)\n",
        "grid_svm.fit(X_train, y_train.values.ravel())\n",
        "\n",
        "# choose best model\n",
        "grid_svm_optimized = grid_svm.best_estimator_\n",
        "\n",
        "# print confusion \n",
        "performance_metrics = print_results(grid_svm_optimized, results)\n",
        "\n",
        "print_performance_measures(grid_svm_optimized)"
      ],
      "execution_count": null,
      "outputs": []
    },
    {
      "cell_type": "code",
      "metadata": {
        "id": "njalvJAGDFdO"
      },
      "source": [
        "performance_metrics"
      ],
      "execution_count": null,
      "outputs": []
    },
    {
      "cell_type": "markdown",
      "metadata": {
        "id": "WJzOuADbM6HR"
      },
      "source": [
        "### Neural Network "
      ]
    },
    {
      "cell_type": "code",
      "metadata": {
        "id": "_Ra4pmhqP139"
      },
      "source": [
        "param_grid = {'activation': ['logistic', 'relu'], 'learning_rate': ['constant', 'invscaling'],\n",
        "              'hidden_layer_sizes': [(100, 1), (100, 2)], 'early_stopping': True}\n",
        "grid_nn = GridSearchCV(MLPClassifier(), param_grid, refit=True, verbose=0)\n",
        "grid_nn.fit(X_train, y_train.values.ravel())\n",
        "\n",
        "# choose best model\n",
        "grid_nn_optimized = grid_nn.best_estimator_\n",
        "\n",
        "# print confusion \n",
        "performance_metrics = print_results(grid_nn_optimized, results)\n",
        "\n",
        "print_performance_measures(grid_nn_optimized)"
      ],
      "execution_count": null,
      "outputs": []
    },
    {
      "cell_type": "code",
      "metadata": {
        "id": "htS7cXulDG8u"
      },
      "source": [
        "performance_metrics"
      ],
      "execution_count": null,
      "outputs": []
    },
    {
      "cell_type": "markdown",
      "metadata": {
        "id": "99abplKtSu6V"
      },
      "source": [
        "### Voting Classifier"
      ]
    },
    {
      "cell_type": "code",
      "metadata": {
        "id": "aBxY_wPKTFGk"
      },
      "source": [
        "# TODO: Optional. Combine the best Classifiers e. g. SVM and RF\n",
        "model_voting = VotingClassifier(estimators=[('SVM', grid_svm_optimized), ('Random Forest', model_rf_optimized)],\n",
        "                                   voting='hard')\n",
        "model_voting.fit(X_train, y_train.values.ravel())\n",
        "\n",
        "# print confusion matrix\n",
        "print_result(model_voting, results)"
      ],
      "execution_count": null,
      "outputs": []
    },
    {
      "cell_type": "markdown",
      "metadata": {
        "id": "8O3ubD82C6YH"
      },
      "source": [
        "## Stacking Classifier"
      ]
    },
    {
      "cell_type": "code",
      "metadata": {
        "id": "KwtvXsUJC5-R"
      },
      "source": [
        "# TODO: insert Code\n",
        "estimators = [('Neural Net', grid_nn_optimized), ('Random Forest', grid_rf_optimized)]\n",
        "model_stacked = StackingClassifier(estimators=estimators,\n",
        "                                   final_estimator=LogisticRegression(max_iter=200, penalty='l1', solver='liblinear'))\n",
        "\n",
        "model_stacked.fit(X_train, y_train.values.ravel())\n",
        "\n",
        "print_results(model_stacked, results)\n",
        "\n",
        "print_performance_measures(model_stacked)"
      ],
      "execution_count": null,
      "outputs": []
    },
    {
      "cell_type": "markdown",
      "metadata": {
        "id": "7oBUFLWDU118"
      },
      "source": [
        "Bringing it all together...."
      ]
    },
    {
      "cell_type": "markdown",
      "metadata": {
        "id": "cyyaBF8ecxxQ"
      },
      "source": [
        "##Task 5: Use LASSO for variable selection and explain results. (15 points)"
      ]
    },
    {
      "cell_type": "markdown",
      "metadata": {
        "id": "jxXdGBWyc6eM"
      },
      "source": [
        "In Task 5 we use a LASSO model for variable selection. First we run a grid search to find a suitable value for the penalty weight $\\alpha$. We use the metric Area under the curve (AUC) is the criteria for model selection."
      ]
    },
    {
      "cell_type": "code",
      "metadata": {
        "id": "033BppfMdCyL"
      },
      "source": [
        "# TODO: LASSO for classification -> < 0.5 / > 0.5?\n",
        "# TODO: Disucssion suitable for classfication / automatic feature selection (pros and cons) \n",
        "# TODO: Move to end\n",
        "\n",
        "# use LassoCV to find the optimal alpha\n",
        "lasso = LassoCV(cv=5, random_state=0, max_iter=5000).fit(X, y)\n",
        "model = SelectFromModel(lasso, prefit=True)\n",
        "X_new = model.transform(X)\n",
        "print('X shape: ', X_new.shape)\n",
        "print('lasso_coef: ', lasso.coef_)\n",
        "print('lasso_intercept: ', lasso.intercept_)\n",
        "print('lasso_alpha: ', lasso.alpha_)\n",
        "lasso_alpha = lasso.alpha_"
      ],
      "execution_count": null,
      "outputs": []
    },
    {
      "cell_type": "markdown",
      "metadata": {
        "id": "oDGBMp0wd6ih"
      },
      "source": [
        "Next we look at coefficient of the optimized alpha...."
      ]
    },
    {
      "cell_type": "code",
      "metadata": {
        "id": "aJ6xfsd0eG5j"
      },
      "source": [
        "coef_importance = pd.DataFrame(lasso.coef_, index=X.columns)\n",
        "coef_importance.rename(columns={0: 'importance'}, inplace=True)\n",
        "coef_importance = coef_importance.iloc[(-np.abs(coef_importance['importance'].values)).argsort()]\n",
        "\n",
        "fig, axes = plt.subplots(figsize=(16, 9))\n",
        "ax1 = coef_importance.plot(use_index=True, y='importance', kind='bar', ax=axes, color=cmap(150), legend=False)\n",
        "ax1.set_xticklabels(ax1.get_xticklabels(), rotation=45, ha='right')\n",
        "plt.xticks(rotation=45)\n",
        "plt.title(f\"abs. feature importances given by '.coef' for {model.__class__.__name__}\")\n",
        "plt.show()"
      ],
      "execution_count": null,
      "outputs": []
    },
    {
      "cell_type": "markdown",
      "metadata": {
        "id": "JUITxIqaeLm5"
      },
      "source": [
        "And more general for varying alpha...."
      ]
    },
    {
      "cell_type": "code",
      "metadata": {
        "id": "vnvkPVOzeSws"
      },
      "source": [
        "alphas_lasso, coefs_lasso, _ = lasso_path(X, y, n_alphas=20, fit_intercept=False)"
      ],
      "execution_count": null,
      "outputs": []
    },
    {
      "cell_type": "code",
      "metadata": {
        "id": "2ChUTLOyeZn6"
      },
      "source": [
        "neg_log_alphas_lasso = -np.log10(alphas_lasso)\n",
        "\n",
        "# create df with coefs and their importance\n",
        "df_test = pd.DataFrame(coefs_lasso[0], index=X.columns)\n",
        "df_test.columns = neg_log_alphas_lasso\n",
        "\n",
        "# TODO: logscale y axis\n",
        "\n",
        "# plot\n",
        "plt.figure(figsize=(20, 20))\n",
        "g = sns.lineplot(data=df_test.T)\n",
        "plt.xlabel('-log(alpha)')\n",
        "plt.ylabel('coefficients')\n",
        "plt.title('Lasso paths')\n",
        "plt.legend(bbox_to_anchor=(1.1, 1))\n",
        "plt.show(g);"
      ],
      "execution_count": null,
      "outputs": []
    },
    {
      "cell_type": "markdown",
      "metadata": {
        "id": "2_yJ0OWK5uA_"
      },
      "source": [
        "## Task 6: Which model do you suggest to the peer-to-peer company? Why? (10 points)"
      ]
    },
    {
      "cell_type": "markdown",
      "metadata": {
        "id": "GtIZipJBMahu"
      },
      "source": [
        "In addition to accuracy-based measures, classifiers can be compared from following aspects:\n",
        "*   Speed\n",
        "*   Interpretability (e.g. logistics regression and decision trees are interpretable, rest not really)\n",
        "*   Robustness: This refers to the ability of the classifiers to classifying noisy data or data with missing values.\n",
        "*   Scalability: This is the ability of the classifier to work with large amount of data."
      ]
    },
    {
      "cell_type": "code",
      "metadata": {
        "id": "PRFOD_uq5wNK"
      },
      "source": [
        "# TODO: Not yet implemented...\n",
        "# Discussion Voting Classifier -> include short discussion of weaknesses and strengths of models and weaknesses\n",
        "# Plot Treefunction DT Path tree.plot_tree(clf) \n",
        "\n",
        "# Crieria from slide\n",
        "\n",
        "\n",
        "# Disucssion why accuarcy is a good criteria (balanced data)\n",
        "\n",
        "# TODO: consider cost function. Loans that can not repaid are more expensive than loans, that are not handed out."
      ],
      "execution_count": null,
      "outputs": []
    }
  ]
}