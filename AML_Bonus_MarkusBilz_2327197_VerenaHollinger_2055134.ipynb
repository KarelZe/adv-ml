{
  "nbformat": 4,
  "nbformat_minor": 0,
  "metadata": {
    "colab": {
      "name": "Untitled0.ipynb",
      "provenance": [],
      "collapsed_sections": [],
      "include_colab_link": true
    },
    "kernelspec": {
      "name": "python3",
      "display_name": "Python 3"
    },
    "language_info": {
      "name": "python"
    }
  },
  "cells": [
    {
      "cell_type": "markdown",
      "metadata": {
        "id": "view-in-github",
        "colab_type": "text"
      },
      "source": [
        "<a href=\"https://colab.research.google.com/github/KarelZe/adv-ml/blob/main/AML_Bonus_MarkusBilz_2327197_VerenaHollinger_2055134.ipynb\" target=\"_parent\"><img src=\"https://colab.research.google.com/assets/colab-badge.svg\" alt=\"Open In Colab\"/></a>"
      ]
    },
    {
      "cell_type": "code",
      "metadata": {
        "id": "LpE9GKyY4o00",
        "outputId": "e1150cd1-8456-4cd2-ca47-8637e1cd9b42",
        "colab": {
          "base_uri": "https://localhost:8080/"
        }
      },
      "source": [
        "#import dependencies\n",
        "import pandas as pd\n",
        "import numpy as np\n",
        "from sklearn.preprocessing import MinMaxScaler\n",
        "from sklearn.preprocessing import OneHotEncoder\n",
        "from imblearn.over_sampling import SMOTE\n",
        "from sklearn.model_selection import train_test_split\n"
      ],
      "execution_count": 2,
      "outputs": [
        {
          "output_type": "stream",
          "text": [
            "/usr/local/lib/python3.7/dist-packages/sklearn/externals/six.py:31: FutureWarning: The module is deprecated in version 0.21 and will be removed in version 0.23 since we've dropped support for Python 2.7. Please rely on the official version of six (https://pypi.org/project/six/).\n",
            "  \"(https://pypi.org/project/six/).\", FutureWarning)\n",
            "/usr/local/lib/python3.7/dist-packages/sklearn/utils/deprecation.py:144: FutureWarning: The sklearn.neighbors.base module is  deprecated in version 0.22 and will be removed in version 0.24. The corresponding classes / functions should instead be imported from sklearn.neighbors. Anything that cannot be imported from sklearn.neighbors is now part of the private API.\n",
            "  warnings.warn(message, FutureWarning)\n"
          ],
          "name": "stderr"
        }
      ]
    },
    {
      "cell_type": "markdown",
      "metadata": {
        "id": "KnfgQSKk4trI"
      },
      "source": [
        "# Task 1: Explain dataset and business problems in two paragraphs. (10 points)\n",
        "..."
      ]
    },
    {
      "cell_type": "markdown",
      "metadata": {
        "id": "NpqVNyYl47RY"
      },
      "source": [
        "## Loading the data"
      ]
    },
    {
      "cell_type": "code",
      "metadata": {
        "id": "2k9gt7QtI9i7",
        "colab": {
          "base_uri": "https://localhost:8080/",
          "height": 425
        },
        "outputId": "6dafcea6-b7b3-4270-d3a0-847b0a4132e5"
      },
      "source": [
        "import pandas as pd\n",
        "from google.colab import drive\n",
        "\n",
        "\n",
        "drive.mount(\"/content/drive\")\n",
        "\n",
        "data = pd.read_csv('/content/drive/My Drive/data/accepted_2007_to_2018Q4.csv')"
      ],
      "execution_count": 3,
      "outputs": [
        {
          "output_type": "stream",
          "text": [
            "Drive already mounted at /content/drive; to attempt to forcibly remount, call drive.mount(\"/content/drive\", force_remount=True).\n"
          ],
          "name": "stdout"
        },
        {
          "output_type": "error",
          "ename": "FileNotFoundError",
          "evalue": "ignored",
          "traceback": [
            "\u001b[0;31m---------------------------------------------------------------------------\u001b[0m",
            "\u001b[0;31mFileNotFoundError\u001b[0m                         Traceback (most recent call last)",
            "\u001b[0;32m<ipython-input-3-12765e860402>\u001b[0m in \u001b[0;36m<module>\u001b[0;34m()\u001b[0m\n\u001b[1;32m      5\u001b[0m \u001b[0mdrive\u001b[0m\u001b[0;34m.\u001b[0m\u001b[0mmount\u001b[0m\u001b[0;34m(\u001b[0m\u001b[0;34m\"/content/drive\"\u001b[0m\u001b[0;34m)\u001b[0m\u001b[0;34m\u001b[0m\u001b[0;34m\u001b[0m\u001b[0m\n\u001b[1;32m      6\u001b[0m \u001b[0;34m\u001b[0m\u001b[0m\n\u001b[0;32m----> 7\u001b[0;31m \u001b[0mdata\u001b[0m \u001b[0;34m=\u001b[0m \u001b[0mpd\u001b[0m\u001b[0;34m.\u001b[0m\u001b[0mread_csv\u001b[0m\u001b[0;34m(\u001b[0m\u001b[0;34m'/content/drive/My Drive/data/accepted_2007_to_2018Q4.csv'\u001b[0m\u001b[0;34m)\u001b[0m\u001b[0;34m\u001b[0m\u001b[0;34m\u001b[0m\u001b[0m\n\u001b[0m",
            "\u001b[0;32m/usr/local/lib/python3.7/dist-packages/pandas/io/parsers.py\u001b[0m in \u001b[0;36mread_csv\u001b[0;34m(filepath_or_buffer, sep, delimiter, header, names, index_col, usecols, squeeze, prefix, mangle_dupe_cols, dtype, engine, converters, true_values, false_values, skipinitialspace, skiprows, skipfooter, nrows, na_values, keep_default_na, na_filter, verbose, skip_blank_lines, parse_dates, infer_datetime_format, keep_date_col, date_parser, dayfirst, cache_dates, iterator, chunksize, compression, thousands, decimal, lineterminator, quotechar, quoting, doublequote, escapechar, comment, encoding, dialect, error_bad_lines, warn_bad_lines, delim_whitespace, low_memory, memory_map, float_precision)\u001b[0m\n\u001b[1;32m    686\u001b[0m     )\n\u001b[1;32m    687\u001b[0m \u001b[0;34m\u001b[0m\u001b[0m\n\u001b[0;32m--> 688\u001b[0;31m     \u001b[0;32mreturn\u001b[0m \u001b[0m_read\u001b[0m\u001b[0;34m(\u001b[0m\u001b[0mfilepath_or_buffer\u001b[0m\u001b[0;34m,\u001b[0m \u001b[0mkwds\u001b[0m\u001b[0;34m)\u001b[0m\u001b[0;34m\u001b[0m\u001b[0;34m\u001b[0m\u001b[0m\n\u001b[0m\u001b[1;32m    689\u001b[0m \u001b[0;34m\u001b[0m\u001b[0m\n\u001b[1;32m    690\u001b[0m \u001b[0;34m\u001b[0m\u001b[0m\n",
            "\u001b[0;32m/usr/local/lib/python3.7/dist-packages/pandas/io/parsers.py\u001b[0m in \u001b[0;36m_read\u001b[0;34m(filepath_or_buffer, kwds)\u001b[0m\n\u001b[1;32m    452\u001b[0m \u001b[0;34m\u001b[0m\u001b[0m\n\u001b[1;32m    453\u001b[0m     \u001b[0;31m# Create the parser.\u001b[0m\u001b[0;34m\u001b[0m\u001b[0;34m\u001b[0m\u001b[0;34m\u001b[0m\u001b[0m\n\u001b[0;32m--> 454\u001b[0;31m     \u001b[0mparser\u001b[0m \u001b[0;34m=\u001b[0m \u001b[0mTextFileReader\u001b[0m\u001b[0;34m(\u001b[0m\u001b[0mfp_or_buf\u001b[0m\u001b[0;34m,\u001b[0m \u001b[0;34m**\u001b[0m\u001b[0mkwds\u001b[0m\u001b[0;34m)\u001b[0m\u001b[0;34m\u001b[0m\u001b[0;34m\u001b[0m\u001b[0m\n\u001b[0m\u001b[1;32m    455\u001b[0m \u001b[0;34m\u001b[0m\u001b[0m\n\u001b[1;32m    456\u001b[0m     \u001b[0;32mif\u001b[0m \u001b[0mchunksize\u001b[0m \u001b[0;32mor\u001b[0m \u001b[0miterator\u001b[0m\u001b[0;34m:\u001b[0m\u001b[0;34m\u001b[0m\u001b[0;34m\u001b[0m\u001b[0m\n",
            "\u001b[0;32m/usr/local/lib/python3.7/dist-packages/pandas/io/parsers.py\u001b[0m in \u001b[0;36m__init__\u001b[0;34m(self, f, engine, **kwds)\u001b[0m\n\u001b[1;32m    946\u001b[0m             \u001b[0mself\u001b[0m\u001b[0;34m.\u001b[0m\u001b[0moptions\u001b[0m\u001b[0;34m[\u001b[0m\u001b[0;34m\"has_index_names\"\u001b[0m\u001b[0;34m]\u001b[0m \u001b[0;34m=\u001b[0m \u001b[0mkwds\u001b[0m\u001b[0;34m[\u001b[0m\u001b[0;34m\"has_index_names\"\u001b[0m\u001b[0;34m]\u001b[0m\u001b[0;34m\u001b[0m\u001b[0;34m\u001b[0m\u001b[0m\n\u001b[1;32m    947\u001b[0m \u001b[0;34m\u001b[0m\u001b[0m\n\u001b[0;32m--> 948\u001b[0;31m         \u001b[0mself\u001b[0m\u001b[0;34m.\u001b[0m\u001b[0m_make_engine\u001b[0m\u001b[0;34m(\u001b[0m\u001b[0mself\u001b[0m\u001b[0;34m.\u001b[0m\u001b[0mengine\u001b[0m\u001b[0;34m)\u001b[0m\u001b[0;34m\u001b[0m\u001b[0;34m\u001b[0m\u001b[0m\n\u001b[0m\u001b[1;32m    949\u001b[0m \u001b[0;34m\u001b[0m\u001b[0m\n\u001b[1;32m    950\u001b[0m     \u001b[0;32mdef\u001b[0m \u001b[0mclose\u001b[0m\u001b[0;34m(\u001b[0m\u001b[0mself\u001b[0m\u001b[0;34m)\u001b[0m\u001b[0;34m:\u001b[0m\u001b[0;34m\u001b[0m\u001b[0;34m\u001b[0m\u001b[0m\n",
            "\u001b[0;32m/usr/local/lib/python3.7/dist-packages/pandas/io/parsers.py\u001b[0m in \u001b[0;36m_make_engine\u001b[0;34m(self, engine)\u001b[0m\n\u001b[1;32m   1178\u001b[0m     \u001b[0;32mdef\u001b[0m \u001b[0m_make_engine\u001b[0m\u001b[0;34m(\u001b[0m\u001b[0mself\u001b[0m\u001b[0;34m,\u001b[0m \u001b[0mengine\u001b[0m\u001b[0;34m=\u001b[0m\u001b[0;34m\"c\"\u001b[0m\u001b[0;34m)\u001b[0m\u001b[0;34m:\u001b[0m\u001b[0;34m\u001b[0m\u001b[0;34m\u001b[0m\u001b[0m\n\u001b[1;32m   1179\u001b[0m         \u001b[0;32mif\u001b[0m \u001b[0mengine\u001b[0m \u001b[0;34m==\u001b[0m \u001b[0;34m\"c\"\u001b[0m\u001b[0;34m:\u001b[0m\u001b[0;34m\u001b[0m\u001b[0;34m\u001b[0m\u001b[0m\n\u001b[0;32m-> 1180\u001b[0;31m             \u001b[0mself\u001b[0m\u001b[0;34m.\u001b[0m\u001b[0m_engine\u001b[0m \u001b[0;34m=\u001b[0m \u001b[0mCParserWrapper\u001b[0m\u001b[0;34m(\u001b[0m\u001b[0mself\u001b[0m\u001b[0;34m.\u001b[0m\u001b[0mf\u001b[0m\u001b[0;34m,\u001b[0m \u001b[0;34m**\u001b[0m\u001b[0mself\u001b[0m\u001b[0;34m.\u001b[0m\u001b[0moptions\u001b[0m\u001b[0;34m)\u001b[0m\u001b[0;34m\u001b[0m\u001b[0;34m\u001b[0m\u001b[0m\n\u001b[0m\u001b[1;32m   1181\u001b[0m         \u001b[0;32melse\u001b[0m\u001b[0;34m:\u001b[0m\u001b[0;34m\u001b[0m\u001b[0;34m\u001b[0m\u001b[0m\n\u001b[1;32m   1182\u001b[0m             \u001b[0;32mif\u001b[0m \u001b[0mengine\u001b[0m \u001b[0;34m==\u001b[0m \u001b[0;34m\"python\"\u001b[0m\u001b[0;34m:\u001b[0m\u001b[0;34m\u001b[0m\u001b[0;34m\u001b[0m\u001b[0m\n",
            "\u001b[0;32m/usr/local/lib/python3.7/dist-packages/pandas/io/parsers.py\u001b[0m in \u001b[0;36m__init__\u001b[0;34m(self, src, **kwds)\u001b[0m\n\u001b[1;32m   2008\u001b[0m         \u001b[0mkwds\u001b[0m\u001b[0;34m[\u001b[0m\u001b[0;34m\"usecols\"\u001b[0m\u001b[0;34m]\u001b[0m \u001b[0;34m=\u001b[0m \u001b[0mself\u001b[0m\u001b[0;34m.\u001b[0m\u001b[0musecols\u001b[0m\u001b[0;34m\u001b[0m\u001b[0;34m\u001b[0m\u001b[0m\n\u001b[1;32m   2009\u001b[0m \u001b[0;34m\u001b[0m\u001b[0m\n\u001b[0;32m-> 2010\u001b[0;31m         \u001b[0mself\u001b[0m\u001b[0;34m.\u001b[0m\u001b[0m_reader\u001b[0m \u001b[0;34m=\u001b[0m \u001b[0mparsers\u001b[0m\u001b[0;34m.\u001b[0m\u001b[0mTextReader\u001b[0m\u001b[0;34m(\u001b[0m\u001b[0msrc\u001b[0m\u001b[0;34m,\u001b[0m \u001b[0;34m**\u001b[0m\u001b[0mkwds\u001b[0m\u001b[0;34m)\u001b[0m\u001b[0;34m\u001b[0m\u001b[0;34m\u001b[0m\u001b[0m\n\u001b[0m\u001b[1;32m   2011\u001b[0m         \u001b[0mself\u001b[0m\u001b[0;34m.\u001b[0m\u001b[0munnamed_cols\u001b[0m \u001b[0;34m=\u001b[0m \u001b[0mself\u001b[0m\u001b[0;34m.\u001b[0m\u001b[0m_reader\u001b[0m\u001b[0;34m.\u001b[0m\u001b[0munnamed_cols\u001b[0m\u001b[0;34m\u001b[0m\u001b[0;34m\u001b[0m\u001b[0m\n\u001b[1;32m   2012\u001b[0m \u001b[0;34m\u001b[0m\u001b[0m\n",
            "\u001b[0;32mpandas/_libs/parsers.pyx\u001b[0m in \u001b[0;36mpandas._libs.parsers.TextReader.__cinit__\u001b[0;34m()\u001b[0m\n",
            "\u001b[0;32mpandas/_libs/parsers.pyx\u001b[0m in \u001b[0;36mpandas._libs.parsers.TextReader._setup_parser_source\u001b[0;34m()\u001b[0m\n",
            "\u001b[0;31mFileNotFoundError\u001b[0m: [Errno 2] No such file or directory: '/content/drive/My Drive/data/accepted_2007_to_2018Q4.csv'"
          ]
        }
      ]
    },
    {
      "cell_type": "code",
      "metadata": {
        "id": "nj2lGS5C0PrV",
        "colab": {
          "base_uri": "https://localhost:8080/"
        },
        "outputId": "020eb2f6-401a-4827-ec57-4467c7e9c2c1"
      },
      "source": [
        "import pandas as pd\n",
        "from google.colab import drive\n",
        "\n",
        "drive.mount(\"/content/drive\")\n",
        "\n",
        "data = pd.read_csv('/content/drive/My Drive/AdvancedML/accepted_2007_to_2018Q4.csv')"
      ],
      "execution_count": 4,
      "outputs": [
        {
          "output_type": "stream",
          "text": [
            "Drive already mounted at /content/drive; to attempt to forcibly remount, call drive.mount(\"/content/drive\", force_remount=True).\n"
          ],
          "name": "stdout"
        },
        {
          "output_type": "stream",
          "text": [
            "/usr/local/lib/python3.7/dist-packages/IPython/core/interactiveshell.py:2718: DtypeWarning: Columns (0,19,49,59,118,129,130,131,134,135,136,139,145,146,147) have mixed types.Specify dtype option on import or set low_memory=False.\n",
            "  interactivity=interactivity, compiler=compiler, result=result)\n"
          ],
          "name": "stderr"
        }
      ]
    },
    {
      "cell_type": "markdown",
      "metadata": {
        "id": "XJG1T1dL5JGb"
      },
      "source": [
        "# Task 2: Do an explanatory analysis for this dataset. (10 points)"
      ]
    },
    {
      "cell_type": "code",
      "metadata": {
        "id": "MeVsnmXVxzFm",
        "colab": {
          "base_uri": "https://localhost:8080/",
          "height": 419
        },
        "outputId": "93f869d1-72ac-4ee5-af6d-abe42c5859be"
      },
      "source": [
        "data.head().T"
      ],
      "execution_count": null,
      "outputs": [
        {
          "output_type": "execute_result",
          "data": {
            "text/html": [
              "<div>\n",
              "<style scoped>\n",
              "    .dataframe tbody tr th:only-of-type {\n",
              "        vertical-align: middle;\n",
              "    }\n",
              "\n",
              "    .dataframe tbody tr th {\n",
              "        vertical-align: top;\n",
              "    }\n",
              "\n",
              "    .dataframe thead th {\n",
              "        text-align: right;\n",
              "    }\n",
              "</style>\n",
              "<table border=\"1\" class=\"dataframe\">\n",
              "  <thead>\n",
              "    <tr style=\"text-align: right;\">\n",
              "      <th></th>\n",
              "      <th>0</th>\n",
              "      <th>1</th>\n",
              "      <th>2</th>\n",
              "      <th>3</th>\n",
              "      <th>4</th>\n",
              "    </tr>\n",
              "  </thead>\n",
              "  <tbody>\n",
              "    <tr>\n",
              "      <th>id</th>\n",
              "      <td>68407277</td>\n",
              "      <td>68355089</td>\n",
              "      <td>68341763</td>\n",
              "      <td>66310712</td>\n",
              "      <td>68476807</td>\n",
              "    </tr>\n",
              "    <tr>\n",
              "      <th>member_id</th>\n",
              "      <td>NaN</td>\n",
              "      <td>NaN</td>\n",
              "      <td>NaN</td>\n",
              "      <td>NaN</td>\n",
              "      <td>NaN</td>\n",
              "    </tr>\n",
              "    <tr>\n",
              "      <th>loan_amnt</th>\n",
              "      <td>3600</td>\n",
              "      <td>24700</td>\n",
              "      <td>20000</td>\n",
              "      <td>35000</td>\n",
              "      <td>10400</td>\n",
              "    </tr>\n",
              "    <tr>\n",
              "      <th>funded_amnt</th>\n",
              "      <td>3600</td>\n",
              "      <td>24700</td>\n",
              "      <td>20000</td>\n",
              "      <td>35000</td>\n",
              "      <td>10400</td>\n",
              "    </tr>\n",
              "    <tr>\n",
              "      <th>funded_amnt_inv</th>\n",
              "      <td>3600</td>\n",
              "      <td>24700</td>\n",
              "      <td>20000</td>\n",
              "      <td>35000</td>\n",
              "      <td>10400</td>\n",
              "    </tr>\n",
              "    <tr>\n",
              "      <th>...</th>\n",
              "      <td>...</td>\n",
              "      <td>...</td>\n",
              "      <td>...</td>\n",
              "      <td>...</td>\n",
              "      <td>...</td>\n",
              "    </tr>\n",
              "    <tr>\n",
              "      <th>settlement_status</th>\n",
              "      <td>NaN</td>\n",
              "      <td>NaN</td>\n",
              "      <td>NaN</td>\n",
              "      <td>NaN</td>\n",
              "      <td>NaN</td>\n",
              "    </tr>\n",
              "    <tr>\n",
              "      <th>settlement_date</th>\n",
              "      <td>NaN</td>\n",
              "      <td>NaN</td>\n",
              "      <td>NaN</td>\n",
              "      <td>NaN</td>\n",
              "      <td>NaN</td>\n",
              "    </tr>\n",
              "    <tr>\n",
              "      <th>settlement_amount</th>\n",
              "      <td>NaN</td>\n",
              "      <td>NaN</td>\n",
              "      <td>NaN</td>\n",
              "      <td>NaN</td>\n",
              "      <td>NaN</td>\n",
              "    </tr>\n",
              "    <tr>\n",
              "      <th>settlement_percentage</th>\n",
              "      <td>NaN</td>\n",
              "      <td>NaN</td>\n",
              "      <td>NaN</td>\n",
              "      <td>NaN</td>\n",
              "      <td>NaN</td>\n",
              "    </tr>\n",
              "    <tr>\n",
              "      <th>settlement_term</th>\n",
              "      <td>NaN</td>\n",
              "      <td>NaN</td>\n",
              "      <td>NaN</td>\n",
              "      <td>NaN</td>\n",
              "      <td>NaN</td>\n",
              "    </tr>\n",
              "  </tbody>\n",
              "</table>\n",
              "<p>151 rows × 5 columns</p>\n",
              "</div>"
            ],
            "text/plain": [
              "                              0         1         2         3         4\n",
              "id                     68407277  68355089  68341763  66310712  68476807\n",
              "member_id                   NaN       NaN       NaN       NaN       NaN\n",
              "loan_amnt                  3600     24700     20000     35000     10400\n",
              "funded_amnt                3600     24700     20000     35000     10400\n",
              "funded_amnt_inv            3600     24700     20000     35000     10400\n",
              "...                         ...       ...       ...       ...       ...\n",
              "settlement_status           NaN       NaN       NaN       NaN       NaN\n",
              "settlement_date             NaN       NaN       NaN       NaN       NaN\n",
              "settlement_amount           NaN       NaN       NaN       NaN       NaN\n",
              "settlement_percentage       NaN       NaN       NaN       NaN       NaN\n",
              "settlement_term             NaN       NaN       NaN       NaN       NaN\n",
              "\n",
              "[151 rows x 5 columns]"
            ]
          },
          "metadata": {
            "tags": []
          },
          "execution_count": 12
        }
      ]
    },
    {
      "cell_type": "code",
      "metadata": {
        "id": "stG0sEOG7GW4"
      },
      "source": [
        "a_priori_known = ['id', 'loan_amnt', 'funded_amnt', 'funded_amnt_inv', 'term', 'int_rate', 'installment', 'grade', 'sub_grade', 'emp_title', 'emp_length', 'home_ownership', 'annual_inc', 'verification_status', 'issue_d', 'loan_status', 'purpose', 'title', 'zip_code', 'addr_state', 'dti', 'delinq_2yrs', 'earliest_cr_line', 'fico_range_low', 'fico_range_high', 'inq_last_6mths', 'mths_since_last_delinq', 'mths_since_last_record', 'open_acc', 'pub_rec', 'revol_bal', 'revol_util', 'total_acc', 'initial_list_status',  'next_pymnt_d', 'last_credit_pull_d', 'last_fico_range_high', 'last_fico_range_low', 'collections_12_mths_ex_med', 'mths_since_last_major_derog', 'policy_code', 'application_type', 'annual_inc_joint', 'dti_joint', 'verification_status_joint', 'acc_now_delinq', 'tot_coll_amt', 'tot_cur_bal', 'open_acc_6m', 'open_act_il', 'open_il_12m', 'open_il_24m', 'mths_since_rcnt_il', 'total_bal_il', 'il_util', 'open_rv_12m', 'open_rv_24m', 'max_bal_bc', 'all_util', 'total_rev_hi_lim', 'inq_fi', 'total_cu_tl', 'inq_last_12m', 'acc_open_past_24mths', 'avg_cur_bal', 'bc_open_to_buy', 'bc_util', 'chargeoff_within_12_mths', 'delinq_amnt', 'mo_sin_old_il_acct', 'mo_sin_old_rev_tl_op', 'mo_sin_rcnt_rev_tl_op', 'mo_sin_rcnt_tl', 'mort_acc',  'num_accts_ever_120_pd', 'num_actv_bc_tl', 'num_actv_rev_tl', 'num_bc_sats', 'num_bc_tl', 'num_il_tl', 'num_op_rev_tl', 'num_rev_accts', 'num_rev_tl_bal_gt_0', 'num_sats', 'num_tl_120dpd_2m', 'num_tl_30dpd', 'num_tl_90g_dpd_24m', 'num_tl_op_past_12m', 'pct_tl_nvr_dlq', 'percent_bc_gt_75', 'pub_rec_bankruptcies', 'tax_liens', 'tot_hi_cred_lim', 'total_bal_ex_mort', 'total_bc_limit', 'total_il_high_credit_limit', 'revol_bal_joint']\n",
        "\n",
        "data = data[a_priori_known]"
      ],
      "execution_count": 5,
      "outputs": []
    },
    {
      "cell_type": "code",
      "metadata": {
        "id": "znPSkOXu7QAw",
        "colab": {
          "base_uri": "https://localhost:8080/"
        },
        "outputId": "8133386e-c004-4a93-b3fc-0cef3dac1522"
      },
      "source": [
        "threshold = 0.80\n",
        "\n",
        "percentage_missing_val = data.isna().sum()/len(data)\n",
        "percentage_missing_val = percentage_missing_val[percentage_missing_val >= threshold]\n",
        "\n",
        "print(percentage_missing_val)\n",
        "threshold_abs = int(threshold * len(data))\n",
        "\n",
        "data = data.dropna(axis=1, thresh=threshold_abs)\n",
        "\n",
        "print(data.shape)"
      ],
      "execution_count": 6,
      "outputs": [
        {
          "output_type": "stream",
          "text": [
            "mths_since_last_record       0.841131\n",
            "annual_inc_joint             0.946605\n",
            "dti_joint                    0.946607\n",
            "verification_status_joint    0.948808\n",
            "revol_bal_joint              0.952218\n",
            "dtype: float64\n",
            "(2260701, 75)\n"
          ],
          "name": "stdout"
        }
      ]
    },
    {
      "cell_type": "code",
      "metadata": {
        "id": "QZpf3hkj8q1M"
      },
      "source": [
        "data = data[data.loan_amnt.notna()]"
      ],
      "execution_count": 7,
      "outputs": []
    },
    {
      "cell_type": "markdown",
      "metadata": {
        "id": "XISEezebAbBR"
      },
      "source": [
        "Hier hatte ich noch verification status und id ergänzt"
      ]
    },
    {
      "cell_type": "code",
      "metadata": {
        "id": "QX6R5pjC9fpz",
        "colab": {
          "base_uri": "https://localhost:8080/"
        },
        "outputId": "3355db7c-7395-4e17-ea1a-ee5b5d8e2a51"
      },
      "source": [
        "# convert to categorical\n",
        "categorical = ['application_type', 'initial_list_status', 'loan_status', 'grade', 'sub_grade', 'home_ownership', 'verification_status']\n",
        "data[categorical] = data[categorical].apply(lambda x: x.astype('category'))\n",
        "\n",
        "# convert to string\n",
        "strs = ['term', 'emp_title', 'emp_length', 'purpose', 'title', 'zip_code', 'addr_state']\n",
        "data[strs] = data[strs].apply(lambda x: x.astype('string'))\n",
        "\n",
        "# convert to datetime\n",
        "dts = ['earliest_cr_line', 'issue_d', 'last_credit_pull_d']\n",
        "data[dts] = data[dts].apply(lambda x: pd.to_datetime(x, format=\"%b-%Y\",  errors='coerce'))\n",
        "\n",
        "# convert to integer\n",
        "ints = ['id']\n",
        "data[ints] = data[ints].apply(lambda x: x.astype('int'))\n",
        "\n",
        "print(data.dtypes)"
      ],
      "execution_count": 8,
      "outputs": [
        {
          "output_type": "stream",
          "text": [
            "id                              int64\n",
            "loan_amnt                     float64\n",
            "funded_amnt                   float64\n",
            "funded_amnt_inv               float64\n",
            "term                           string\n",
            "                               ...   \n",
            "tax_liens                     float64\n",
            "tot_hi_cred_lim               float64\n",
            "total_bal_ex_mort             float64\n",
            "total_bc_limit                float64\n",
            "total_il_high_credit_limit    float64\n",
            "Length: 75, dtype: object\n"
          ],
          "name": "stdout"
        }
      ]
    },
    {
      "cell_type": "markdown",
      "metadata": {
        "id": "vn4wZtMd-hhJ"
      },
      "source": [
        "Number of classes per categorical feature"
      ]
    },
    {
      "cell_type": "code",
      "metadata": {
        "id": "vGNdRk5I-gzw",
        "colab": {
          "base_uri": "https://localhost:8080/"
        },
        "outputId": "3bc297c7-08d4-4a83-f199-5d93bf2316b7"
      },
      "source": [
        "data_classes = []\n",
        "for row in data.columns.tolist():\n",
        "    data_classes.append({'column': row, 'count': len(data[row].unique())})\n",
        "amount = pd.DataFrame(data_classes).sort_values('count')\n",
        "print(amount)"
      ],
      "execution_count": 9,
      "outputs": [
        {
          "output_type": "stream",
          "text": [
            "                 column    count\n",
            "36          policy_code        1\n",
            "37     application_type        2\n",
            "4                  term        2\n",
            "31  initial_list_status        2\n",
            "13  verification_status        3\n",
            "..                  ...      ...\n",
            "72    total_bal_ex_mort   212778\n",
            "40          tot_cur_bal   487689\n",
            "9             emp_title   512695\n",
            "71      tot_hi_cred_lim   529973\n",
            "0                    id  2260668\n",
            "\n",
            "[75 rows x 2 columns]\n"
          ],
          "name": "stdout"
        }
      ]
    },
    {
      "cell_type": "markdown",
      "metadata": {
        "id": "qUG1Y232EYQF"
      },
      "source": [
        "The features \"purpose\" and \"title\" contain similar content. Since \"purpose\" only contains 14 classes and \"title\" contains more than 60,000 classes we keep \"purpose\" and drop \"title\""
      ]
    },
    {
      "cell_type": "code",
      "metadata": {
        "id": "XhlUYmRgEYgh"
      },
      "source": [
        "data = data.drop(columns=['purpose'])"
      ],
      "execution_count": 13,
      "outputs": []
    },
    {
      "cell_type": "markdown",
      "metadata": {
        "id": "Q-9znEc79WrT"
      },
      "source": [
        "##Analyze loan status"
      ]
    },
    {
      "cell_type": "code",
      "metadata": {
        "id": "-50t69aT9V9m",
        "colab": {
          "base_uri": "https://localhost:8080/"
        },
        "outputId": "481fadd6-4ac3-4c68-8342-815367115ca6"
      },
      "source": [
        "data['loan_status'].value_counts()"
      ],
      "execution_count": 10,
      "outputs": [
        {
          "output_type": "execute_result",
          "data": {
            "text/plain": [
              "Fully Paid                                             1076751\n",
              "Current                                                 878317\n",
              "Charged Off                                             268559\n",
              "Late (31-120 days)                                       21467\n",
              "In Grace Period                                           8436\n",
              "Late (16-30 days)                                         4349\n",
              "Does not meet the credit policy. Status:Fully Paid        1988\n",
              "Does not meet the credit policy. Status:Charged Off        761\n",
              "Default                                                     40\n",
              "Name: loan_status, dtype: int64"
            ]
          },
          "metadata": {
            "tags": []
          },
          "execution_count": 10
        }
      ]
    },
    {
      "cell_type": "code",
      "metadata": {
        "id": "OUifhYru8zDc",
        "colab": {
          "base_uri": "https://localhost:8080/"
        },
        "outputId": "eb603f57-d6fb-44ec-d8cd-0e0e4d50cba1"
      },
      "source": [
        "target_list = [1 if i=='Default' or i=='Charged Off' or i=='Does not meet the credit policy. Status:Charged Off' else 0 for i in data['loan_status']]\n",
        "data['TARGET'] = target_list\n",
        "data['TARGET'].value_counts()"
      ],
      "execution_count": 11,
      "outputs": [
        {
          "output_type": "execute_result",
          "data": {
            "text/plain": [
              "0    1991308\n",
              "1     269360\n",
              "Name: TARGET, dtype: int64"
            ]
          },
          "metadata": {
            "tags": []
          },
          "execution_count": 11
        }
      ]
    },
    {
      "cell_type": "markdown",
      "metadata": {
        "id": "eKiwEqEP5Wny"
      },
      "source": [
        "## Data Preprocessing"
      ]
    },
    {
      "cell_type": "markdown",
      "metadata": {
        "id": "DP4vbXEkAtns"
      },
      "source": [
        "Since the features have different unit a Scaling and Smoothing (Standardisation) of the numeric features is necessary"
      ]
    },
    {
      "cell_type": "code",
      "metadata": {
        "id": "HByNz0035aSC",
        "outputId": "1beb3e16-7a18-4a86-8d58-b93203fe64f8",
        "colab": {
          "base_uri": "https://localhost:8080/",
          "height": 439
        }
      },
      "source": [
        "data_num = data.select_dtypes(include=[np.float64, np.float32])\n",
        "min_max = MinMaxScaler()\n",
        "data_scaled = pd.DataFrame(min_max.fit_transform(data_num))\n",
        "\n",
        "# result is not a DataFrame anymore...\n",
        "data_scaled"
      ],
      "execution_count": 12,
      "outputs": [
        {
          "output_type": "execute_result",
          "data": {
            "text/html": [
              "<div>\n",
              "<style scoped>\n",
              "    .dataframe tbody tr th:only-of-type {\n",
              "        vertical-align: middle;\n",
              "    }\n",
              "\n",
              "    .dataframe tbody tr th {\n",
              "        vertical-align: top;\n",
              "    }\n",
              "\n",
              "    .dataframe thead th {\n",
              "        text-align: right;\n",
              "    }\n",
              "</style>\n",
              "<table border=\"1\" class=\"dataframe\">\n",
              "  <thead>\n",
              "    <tr style=\"text-align: right;\">\n",
              "      <th></th>\n",
              "      <th>0</th>\n",
              "      <th>1</th>\n",
              "      <th>2</th>\n",
              "      <th>3</th>\n",
              "      <th>4</th>\n",
              "      <th>5</th>\n",
              "      <th>6</th>\n",
              "      <th>7</th>\n",
              "      <th>8</th>\n",
              "      <th>9</th>\n",
              "      <th>10</th>\n",
              "      <th>11</th>\n",
              "      <th>12</th>\n",
              "      <th>13</th>\n",
              "      <th>14</th>\n",
              "      <th>15</th>\n",
              "      <th>16</th>\n",
              "      <th>17</th>\n",
              "      <th>18</th>\n",
              "      <th>19</th>\n",
              "      <th>20</th>\n",
              "      <th>21</th>\n",
              "      <th>22</th>\n",
              "      <th>23</th>\n",
              "      <th>24</th>\n",
              "      <th>25</th>\n",
              "      <th>26</th>\n",
              "      <th>27</th>\n",
              "      <th>28</th>\n",
              "      <th>29</th>\n",
              "      <th>30</th>\n",
              "      <th>31</th>\n",
              "      <th>32</th>\n",
              "      <th>33</th>\n",
              "      <th>34</th>\n",
              "      <th>35</th>\n",
              "      <th>36</th>\n",
              "      <th>37</th>\n",
              "      <th>38</th>\n",
              "      <th>39</th>\n",
              "      <th>40</th>\n",
              "      <th>41</th>\n",
              "      <th>42</th>\n",
              "      <th>43</th>\n",
              "      <th>44</th>\n",
              "      <th>45</th>\n",
              "      <th>46</th>\n",
              "      <th>47</th>\n",
              "      <th>48</th>\n",
              "      <th>49</th>\n",
              "      <th>50</th>\n",
              "      <th>51</th>\n",
              "      <th>52</th>\n",
              "      <th>53</th>\n",
              "      <th>54</th>\n",
              "      <th>55</th>\n",
              "      <th>56</th>\n",
              "    </tr>\n",
              "  </thead>\n",
              "  <tbody>\n",
              "    <tr>\n",
              "      <th>0</th>\n",
              "      <td>0.078481</td>\n",
              "      <td>0.078481</td>\n",
              "      <td>0.0900</td>\n",
              "      <td>0.338006</td>\n",
              "      <td>0.068867</td>\n",
              "      <td>0.000500</td>\n",
              "      <td>0.00691</td>\n",
              "      <td>0.000000</td>\n",
              "      <td>0.276596</td>\n",
              "      <td>0.275424</td>\n",
              "      <td>0.030303</td>\n",
              "      <td>0.069307</td>\n",
              "      <td>0.000000</td>\n",
              "      <td>0.000952</td>\n",
              "      <td>0.033285</td>\n",
              "      <td>0.068571</td>\n",
              "      <td>0.663529</td>\n",
              "      <td>0.662722</td>\n",
              "      <td>0.0</td>\n",
              "      <td>0.0</td>\n",
              "      <td>0.0</td>\n",
              "      <td>0.000079</td>\n",
              "      <td>0.014532</td>\n",
              "      <td>0.00093</td>\n",
              "      <td>0.062500</td>\n",
              "      <td>0.021607</td>\n",
              "      <td>0.002118</td>\n",
              "      <td>0.109541</td>\n",
              "      <td>0.0</td>\n",
              "      <td>0.0</td>\n",
              "      <td>0.148148</td>\n",
              "      <td>0.127255</td>\n",
              "      <td>0.005484</td>\n",
              "      <td>0.007853</td>\n",
              "      <td>0.010638</td>\n",
              "      <td>0.034483</td>\n",
              "      <td>0.04</td>\n",
              "      <td>0.055556</td>\n",
              "      <td>0.028169</td>\n",
              "      <td>0.058140</td>\n",
              "      <td>0.018868</td>\n",
              "      <td>0.043956</td>\n",
              "      <td>0.059603</td>\n",
              "      <td>0.061538</td>\n",
              "      <td>0.069307</td>\n",
              "      <td>0.0</td>\n",
              "      <td>0.0</td>\n",
              "      <td>0.00000</td>\n",
              "      <td>0.09375</td>\n",
              "      <td>0.769</td>\n",
              "      <td>0.000</td>\n",
              "      <td>0.000000</td>\n",
              "      <td>0.000000</td>\n",
              "      <td>0.017805</td>\n",
              "      <td>0.002273</td>\n",
              "      <td>0.001530</td>\n",
              "      <td>0.006481</td>\n",
              "    </tr>\n",
              "    <tr>\n",
              "      <th>1</th>\n",
              "      <td>0.612658</td>\n",
              "      <td>0.612658</td>\n",
              "      <td>0.6175</td>\n",
              "      <td>0.260125</td>\n",
              "      <td>0.475450</td>\n",
              "      <td>0.000591</td>\n",
              "      <td>0.01706</td>\n",
              "      <td>0.017241</td>\n",
              "      <td>0.446809</td>\n",
              "      <td>0.444915</td>\n",
              "      <td>0.121212</td>\n",
              "      <td>0.217822</td>\n",
              "      <td>0.000000</td>\n",
              "      <td>0.007391</td>\n",
              "      <td>0.021517</td>\n",
              "      <td>0.211429</td>\n",
              "      <td>0.822353</td>\n",
              "      <td>0.822485</td>\n",
              "      <td>0.0</td>\n",
              "      <td>0.0</td>\n",
              "      <td>0.0</td>\n",
              "      <td>0.000000</td>\n",
              "      <td>0.020498</td>\n",
              "      <td>0.01118</td>\n",
              "      <td>0.062500</td>\n",
              "      <td>0.010159</td>\n",
              "      <td>0.081320</td>\n",
              "      <td>0.079800</td>\n",
              "      <td>0.0</td>\n",
              "      <td>0.0</td>\n",
              "      <td>0.113113</td>\n",
              "      <td>0.191383</td>\n",
              "      <td>0.003656</td>\n",
              "      <td>0.005236</td>\n",
              "      <td>0.042553</td>\n",
              "      <td>0.000000</td>\n",
              "      <td>0.10</td>\n",
              "      <td>0.069444</td>\n",
              "      <td>0.183099</td>\n",
              "      <td>0.197674</td>\n",
              "      <td>0.037736</td>\n",
              "      <td>0.219780</td>\n",
              "      <td>0.178808</td>\n",
              "      <td>0.076923</td>\n",
              "      <td>0.217822</td>\n",
              "      <td>0.0</td>\n",
              "      <td>0.0</td>\n",
              "      <td>0.00000</td>\n",
              "      <td>0.06250</td>\n",
              "      <td>0.974</td>\n",
              "      <td>0.077</td>\n",
              "      <td>0.000000</td>\n",
              "      <td>0.000000</td>\n",
              "      <td>0.031402</td>\n",
              "      <td>0.011583</td>\n",
              "      <td>0.050542</td>\n",
              "      <td>0.011641</td>\n",
              "    </tr>\n",
              "    <tr>\n",
              "      <th>2</th>\n",
              "      <td>0.493671</td>\n",
              "      <td>0.493671</td>\n",
              "      <td>0.5000</td>\n",
              "      <td>0.213006</td>\n",
              "      <td>0.249420</td>\n",
              "      <td>0.000573</td>\n",
              "      <td>0.01178</td>\n",
              "      <td>0.000000</td>\n",
              "      <td>0.361702</td>\n",
              "      <td>0.360169</td>\n",
              "      <td>0.000000</td>\n",
              "      <td>0.059406</td>\n",
              "      <td>0.000000</td>\n",
              "      <td>0.002709</td>\n",
              "      <td>0.062983</td>\n",
              "      <td>0.097143</td>\n",
              "      <td>0.828235</td>\n",
              "      <td>0.828402</td>\n",
              "      <td>0.0</td>\n",
              "      <td>0.0</td>\n",
              "      <td>0.0</td>\n",
              "      <td>0.000000</td>\n",
              "      <td>0.019024</td>\n",
              "      <td>0.00140</td>\n",
              "      <td>0.093750</td>\n",
              "      <td>0.033000</td>\n",
              "      <td>0.003849</td>\n",
              "      <td>0.164605</td>\n",
              "      <td>0.0</td>\n",
              "      <td>0.0</td>\n",
              "      <td>0.125125</td>\n",
              "      <td>0.183367</td>\n",
              "      <td>0.025594</td>\n",
              "      <td>0.036649</td>\n",
              "      <td>0.053191</td>\n",
              "      <td>0.000000</td>\n",
              "      <td>0.04</td>\n",
              "      <td>0.041667</td>\n",
              "      <td>0.028169</td>\n",
              "      <td>0.046512</td>\n",
              "      <td>0.037736</td>\n",
              "      <td>0.043956</td>\n",
              "      <td>0.046358</td>\n",
              "      <td>0.046154</td>\n",
              "      <td>0.059406</td>\n",
              "      <td>0.0</td>\n",
              "      <td>0.0</td>\n",
              "      <td>0.00000</td>\n",
              "      <td>0.00000</td>\n",
              "      <td>1.000</td>\n",
              "      <td>0.500</td>\n",
              "      <td>0.000000</td>\n",
              "      <td>0.000000</td>\n",
              "      <td>0.021842</td>\n",
              "      <td>0.005486</td>\n",
              "      <td>0.003952</td>\n",
              "      <td>0.007021</td>\n",
              "    </tr>\n",
              "    <tr>\n",
              "      <th>3</th>\n",
              "      <td>0.873418</td>\n",
              "      <td>0.873418</td>\n",
              "      <td>0.8750</td>\n",
              "      <td>0.371495</td>\n",
              "      <td>0.481060</td>\n",
              "      <td>0.001000</td>\n",
              "      <td>0.01806</td>\n",
              "      <td>0.000000</td>\n",
              "      <td>0.744681</td>\n",
              "      <td>0.741525</td>\n",
              "      <td>0.000000</td>\n",
              "      <td>0.128713</td>\n",
              "      <td>0.000000</td>\n",
              "      <td>0.002686</td>\n",
              "      <td>0.013000</td>\n",
              "      <td>0.091429</td>\n",
              "      <td>0.798824</td>\n",
              "      <td>0.798817</td>\n",
              "      <td>0.0</td>\n",
              "      <td>0.0</td>\n",
              "      <td>0.0</td>\n",
              "      <td>0.000000</td>\n",
              "      <td>0.030236</td>\n",
              "      <td>0.00673</td>\n",
              "      <td>0.031250</td>\n",
              "      <td>0.024207</td>\n",
              "      <td>0.077287</td>\n",
              "      <td>0.035630</td>\n",
              "      <td>0.0</td>\n",
              "      <td>0.0</td>\n",
              "      <td>0.036036</td>\n",
              "      <td>0.086172</td>\n",
              "      <td>0.003656</td>\n",
              "      <td>0.005236</td>\n",
              "      <td>0.010638</td>\n",
              "      <td>0.000000</td>\n",
              "      <td>0.08</td>\n",
              "      <td>0.069444</td>\n",
              "      <td>0.112676</td>\n",
              "      <td>0.116279</td>\n",
              "      <td>0.012579</td>\n",
              "      <td>0.109890</td>\n",
              "      <td>0.086093</td>\n",
              "      <td>0.076923</td>\n",
              "      <td>0.128713</td>\n",
              "      <td>0.0</td>\n",
              "      <td>0.0</td>\n",
              "      <td>0.00000</td>\n",
              "      <td>0.03125</td>\n",
              "      <td>1.000</td>\n",
              "      <td>0.000</td>\n",
              "      <td>0.000000</td>\n",
              "      <td>0.000000</td>\n",
              "      <td>0.038122</td>\n",
              "      <td>0.015324</td>\n",
              "      <td>0.039834</td>\n",
              "      <td>0.008495</td>\n",
              "    </tr>\n",
              "    <tr>\n",
              "      <th>4</th>\n",
              "      <td>0.250633</td>\n",
              "      <td>0.250633</td>\n",
              "      <td>0.2600</td>\n",
              "      <td>0.667445</td>\n",
              "      <td>0.166179</td>\n",
              "      <td>0.000949</td>\n",
              "      <td>0.02637</td>\n",
              "      <td>0.017241</td>\n",
              "      <td>0.361702</td>\n",
              "      <td>0.360169</td>\n",
              "      <td>0.090909</td>\n",
              "      <td>0.118812</td>\n",
              "      <td>0.000000</td>\n",
              "      <td>0.007549</td>\n",
              "      <td>0.072285</td>\n",
              "      <td>0.194286</td>\n",
              "      <td>0.828235</td>\n",
              "      <td>0.828402</td>\n",
              "      <td>0.0</td>\n",
              "      <td>0.0</td>\n",
              "      <td>0.0</td>\n",
              "      <td>0.000000</td>\n",
              "      <td>0.033267</td>\n",
              "      <td>0.00340</td>\n",
              "      <td>0.156250</td>\n",
              "      <td>0.028853</td>\n",
              "      <td>0.006422</td>\n",
              "      <td>0.228210</td>\n",
              "      <td>0.0</td>\n",
              "      <td>0.0</td>\n",
              "      <td>0.128128</td>\n",
              "      <td>0.209419</td>\n",
              "      <td>0.007313</td>\n",
              "      <td>0.010471</td>\n",
              "      <td>0.063830</td>\n",
              "      <td>0.000000</td>\n",
              "      <td>0.08</td>\n",
              "      <td>0.083333</td>\n",
              "      <td>0.070423</td>\n",
              "      <td>0.104651</td>\n",
              "      <td>0.062893</td>\n",
              "      <td>0.076923</td>\n",
              "      <td>0.125828</td>\n",
              "      <td>0.092308</td>\n",
              "      <td>0.118812</td>\n",
              "      <td>0.0</td>\n",
              "      <td>0.0</td>\n",
              "      <td>0.00000</td>\n",
              "      <td>0.12500</td>\n",
              "      <td>0.966</td>\n",
              "      <td>0.600</td>\n",
              "      <td>0.000000</td>\n",
              "      <td>0.000000</td>\n",
              "      <td>0.043957</td>\n",
              "      <td>0.028100</td>\n",
              "      <td>0.012938</td>\n",
              "      <td>0.041575</td>\n",
              "    </tr>\n",
              "    <tr>\n",
              "      <th>...</th>\n",
              "      <td>...</td>\n",
              "      <td>...</td>\n",
              "      <td>...</td>\n",
              "      <td>...</td>\n",
              "      <td>...</td>\n",
              "      <td>...</td>\n",
              "      <td>...</td>\n",
              "      <td>...</td>\n",
              "      <td>...</td>\n",
              "      <td>...</td>\n",
              "      <td>...</td>\n",
              "      <td>...</td>\n",
              "      <td>...</td>\n",
              "      <td>...</td>\n",
              "      <td>...</td>\n",
              "      <td>...</td>\n",
              "      <td>...</td>\n",
              "      <td>...</td>\n",
              "      <td>...</td>\n",
              "      <td>...</td>\n",
              "      <td>...</td>\n",
              "      <td>...</td>\n",
              "      <td>...</td>\n",
              "      <td>...</td>\n",
              "      <td>...</td>\n",
              "      <td>...</td>\n",
              "      <td>...</td>\n",
              "      <td>...</td>\n",
              "      <td>...</td>\n",
              "      <td>...</td>\n",
              "      <td>...</td>\n",
              "      <td>...</td>\n",
              "      <td>...</td>\n",
              "      <td>...</td>\n",
              "      <td>...</td>\n",
              "      <td>...</td>\n",
              "      <td>...</td>\n",
              "      <td>...</td>\n",
              "      <td>...</td>\n",
              "      <td>...</td>\n",
              "      <td>...</td>\n",
              "      <td>...</td>\n",
              "      <td>...</td>\n",
              "      <td>...</td>\n",
              "      <td>...</td>\n",
              "      <td>...</td>\n",
              "      <td>...</td>\n",
              "      <td>...</td>\n",
              "      <td>...</td>\n",
              "      <td>...</td>\n",
              "      <td>...</td>\n",
              "      <td>...</td>\n",
              "      <td>...</td>\n",
              "      <td>...</td>\n",
              "      <td>...</td>\n",
              "      <td>...</td>\n",
              "      <td>...</td>\n",
              "    </tr>\n",
              "    <tr>\n",
              "      <th>2260663</th>\n",
              "      <td>0.594937</td>\n",
              "      <td>0.594937</td>\n",
              "      <td>0.6000</td>\n",
              "      <td>0.291277</td>\n",
              "      <td>0.314053</td>\n",
              "      <td>0.000864</td>\n",
              "      <td>0.02061</td>\n",
              "      <td>0.000000</td>\n",
              "      <td>0.234043</td>\n",
              "      <td>0.233051</td>\n",
              "      <td>0.000000</td>\n",
              "      <td>0.049505</td>\n",
              "      <td>0.000000</td>\n",
              "      <td>0.017017</td>\n",
              "      <td>0.094587</td>\n",
              "      <td>0.302857</td>\n",
              "      <td>0.834118</td>\n",
              "      <td>0.834320</td>\n",
              "      <td>0.0</td>\n",
              "      <td>0.0</td>\n",
              "      <td>0.0</td>\n",
              "      <td>0.000000</td>\n",
              "      <td>0.010472</td>\n",
              "      <td>0.00505</td>\n",
              "      <td>0.078125</td>\n",
              "      <td>0.027248</td>\n",
              "      <td>NaN</td>\n",
              "      <td>NaN</td>\n",
              "      <td>0.0</td>\n",
              "      <td>0.0</td>\n",
              "      <td>0.201201</td>\n",
              "      <td>0.087174</td>\n",
              "      <td>0.005484</td>\n",
              "      <td>0.007853</td>\n",
              "      <td>0.000000</td>\n",
              "      <td>0.000000</td>\n",
              "      <td>0.00</td>\n",
              "      <td>0.027778</td>\n",
              "      <td>0.000000</td>\n",
              "      <td>0.034884</td>\n",
              "      <td>0.270440</td>\n",
              "      <td>0.032967</td>\n",
              "      <td>0.072848</td>\n",
              "      <td>0.030769</td>\n",
              "      <td>0.049505</td>\n",
              "      <td>0.0</td>\n",
              "      <td>0.0</td>\n",
              "      <td>0.00000</td>\n",
              "      <td>0.09375</td>\n",
              "      <td>1.000</td>\n",
              "      <td>NaN</td>\n",
              "      <td>0.000000</td>\n",
              "      <td>0.000000</td>\n",
              "      <td>0.010252</td>\n",
              "      <td>0.030639</td>\n",
              "      <td>0.000000</td>\n",
              "      <td>0.024548</td>\n",
              "    </tr>\n",
              "    <tr>\n",
              "      <th>2260664</th>\n",
              "      <td>0.594937</td>\n",
              "      <td>0.594937</td>\n",
              "      <td>0.6000</td>\n",
              "      <td>0.201713</td>\n",
              "      <td>0.297866</td>\n",
              "      <td>0.000982</td>\n",
              "      <td>0.03594</td>\n",
              "      <td>0.000000</td>\n",
              "      <td>0.361702</td>\n",
              "      <td>0.360169</td>\n",
              "      <td>0.030303</td>\n",
              "      <td>0.237624</td>\n",
              "      <td>0.011628</td>\n",
              "      <td>0.007458</td>\n",
              "      <td>0.043707</td>\n",
              "      <td>0.325714</td>\n",
              "      <td>0.863529</td>\n",
              "      <td>0.863905</td>\n",
              "      <td>0.0</td>\n",
              "      <td>0.0</td>\n",
              "      <td>0.0</td>\n",
              "      <td>0.000000</td>\n",
              "      <td>0.014052</td>\n",
              "      <td>0.00556</td>\n",
              "      <td>0.109375</td>\n",
              "      <td>0.006648</td>\n",
              "      <td>0.021525</td>\n",
              "      <td>0.132803</td>\n",
              "      <td>0.0</td>\n",
              "      <td>0.0</td>\n",
              "      <td>0.166166</td>\n",
              "      <td>0.306613</td>\n",
              "      <td>0.027422</td>\n",
              "      <td>0.039267</td>\n",
              "      <td>0.042553</td>\n",
              "      <td>0.206897</td>\n",
              "      <td>0.10</td>\n",
              "      <td>0.166667</td>\n",
              "      <td>0.098592</td>\n",
              "      <td>0.209302</td>\n",
              "      <td>0.106918</td>\n",
              "      <td>0.208791</td>\n",
              "      <td>0.245033</td>\n",
              "      <td>0.184615</td>\n",
              "      <td>0.237624</td>\n",
              "      <td>0.0</td>\n",
              "      <td>0.0</td>\n",
              "      <td>0.00000</td>\n",
              "      <td>0.00000</td>\n",
              "      <td>0.759</td>\n",
              "      <td>0.429</td>\n",
              "      <td>0.000000</td>\n",
              "      <td>0.011765</td>\n",
              "      <td>0.022788</td>\n",
              "      <td>0.041113</td>\n",
              "      <td>0.017782</td>\n",
              "      <td>0.081304</td>\n",
              "    </tr>\n",
              "    <tr>\n",
              "      <th>2260665</th>\n",
              "      <td>1.000000</td>\n",
              "      <td>1.000000</td>\n",
              "      <td>1.0000</td>\n",
              "      <td>0.201713</td>\n",
              "      <td>0.498356</td>\n",
              "      <td>0.002064</td>\n",
              "      <td>0.01375</td>\n",
              "      <td>0.120690</td>\n",
              "      <td>0.404255</td>\n",
              "      <td>0.402542</td>\n",
              "      <td>0.030303</td>\n",
              "      <td>0.049505</td>\n",
              "      <td>0.000000</td>\n",
              "      <td>0.002972</td>\n",
              "      <td>0.072733</td>\n",
              "      <td>0.205714</td>\n",
              "      <td>0.851765</td>\n",
              "      <td>0.852071</td>\n",
              "      <td>0.0</td>\n",
              "      <td>0.0</td>\n",
              "      <td>0.0</td>\n",
              "      <td>0.000000</td>\n",
              "      <td>0.002848</td>\n",
              "      <td>0.00133</td>\n",
              "      <td>0.031250</td>\n",
              "      <td>0.005928</td>\n",
              "      <td>0.005723</td>\n",
              "      <td>0.196996</td>\n",
              "      <td>0.0</td>\n",
              "      <td>0.0</td>\n",
              "      <td>0.154154</td>\n",
              "      <td>0.257515</td>\n",
              "      <td>0.060329</td>\n",
              "      <td>0.039267</td>\n",
              "      <td>0.031915</td>\n",
              "      <td>0.103448</td>\n",
              "      <td>0.04</td>\n",
              "      <td>0.041667</td>\n",
              "      <td>0.028169</td>\n",
              "      <td>0.174419</td>\n",
              "      <td>0.056604</td>\n",
              "      <td>0.032967</td>\n",
              "      <td>0.152318</td>\n",
              "      <td>0.046154</td>\n",
              "      <td>0.049505</td>\n",
              "      <td>0.0</td>\n",
              "      <td>0.0</td>\n",
              "      <td>0.12069</td>\n",
              "      <td>0.00000</td>\n",
              "      <td>0.757</td>\n",
              "      <td>0.500</td>\n",
              "      <td>0.000000</td>\n",
              "      <td>0.000000</td>\n",
              "      <td>0.005597</td>\n",
              "      <td>0.008333</td>\n",
              "      <td>0.007839</td>\n",
              "      <td>0.020137</td>\n",
              "    </tr>\n",
              "    <tr>\n",
              "      <th>2260666</th>\n",
              "      <td>0.594937</td>\n",
              "      <td>0.594937</td>\n",
              "      <td>0.6000</td>\n",
              "      <td>0.357477</td>\n",
              "      <td>0.326334</td>\n",
              "      <td>0.001000</td>\n",
              "      <td>0.01930</td>\n",
              "      <td>0.000000</td>\n",
              "      <td>0.212766</td>\n",
              "      <td>0.211864</td>\n",
              "      <td>0.000000</td>\n",
              "      <td>0.099010</td>\n",
              "      <td>0.011628</td>\n",
              "      <td>0.006073</td>\n",
              "      <td>0.076320</td>\n",
              "      <td>0.171429</td>\n",
              "      <td>0.698824</td>\n",
              "      <td>0.698225</td>\n",
              "      <td>0.0</td>\n",
              "      <td>0.0</td>\n",
              "      <td>0.0</td>\n",
              "      <td>0.000000</td>\n",
              "      <td>0.006260</td>\n",
              "      <td>0.00259</td>\n",
              "      <td>0.109375</td>\n",
              "      <td>0.006516</td>\n",
              "      <td>0.006553</td>\n",
              "      <td>0.228210</td>\n",
              "      <td>0.0</td>\n",
              "      <td>0.0</td>\n",
              "      <td>0.132132</td>\n",
              "      <td>0.205411</td>\n",
              "      <td>0.016453</td>\n",
              "      <td>0.023560</td>\n",
              "      <td>0.021277</td>\n",
              "      <td>0.017241</td>\n",
              "      <td>0.10</td>\n",
              "      <td>0.097222</td>\n",
              "      <td>0.070423</td>\n",
              "      <td>0.174419</td>\n",
              "      <td>0.025157</td>\n",
              "      <td>0.087912</td>\n",
              "      <td>0.158940</td>\n",
              "      <td>0.107692</td>\n",
              "      <td>0.099010</td>\n",
              "      <td>0.0</td>\n",
              "      <td>0.0</td>\n",
              "      <td>0.00000</td>\n",
              "      <td>0.03125</td>\n",
              "      <td>0.962</td>\n",
              "      <td>0.400</td>\n",
              "      <td>0.083333</td>\n",
              "      <td>0.000000</td>\n",
              "      <td>0.008466</td>\n",
              "      <td>0.018317</td>\n",
              "      <td>0.013193</td>\n",
              "      <td>0.027732</td>\n",
              "    </tr>\n",
              "    <tr>\n",
              "      <th>2260667</th>\n",
              "      <td>0.341772</td>\n",
              "      <td>0.341772</td>\n",
              "      <td>0.3500</td>\n",
              "      <td>0.357477</td>\n",
              "      <td>0.189166</td>\n",
              "      <td>0.000864</td>\n",
              "      <td>0.02436</td>\n",
              "      <td>0.000000</td>\n",
              "      <td>0.212766</td>\n",
              "      <td>0.211864</td>\n",
              "      <td>0.030303</td>\n",
              "      <td>0.079208</td>\n",
              "      <td>0.000000</td>\n",
              "      <td>0.002638</td>\n",
              "      <td>0.060518</td>\n",
              "      <td>0.120000</td>\n",
              "      <td>0.787059</td>\n",
              "      <td>0.786982</td>\n",
              "      <td>0.0</td>\n",
              "      <td>0.0</td>\n",
              "      <td>0.0</td>\n",
              "      <td>0.000000</td>\n",
              "      <td>0.014347</td>\n",
              "      <td>0.00142</td>\n",
              "      <td>0.046875</td>\n",
              "      <td>0.018665</td>\n",
              "      <td>0.002585</td>\n",
              "      <td>0.237633</td>\n",
              "      <td>0.0</td>\n",
              "      <td>0.0</td>\n",
              "      <td>0.149149</td>\n",
              "      <td>0.242485</td>\n",
              "      <td>0.040219</td>\n",
              "      <td>0.018325</td>\n",
              "      <td>0.010638</td>\n",
              "      <td>0.068966</td>\n",
              "      <td>0.06</td>\n",
              "      <td>0.041667</td>\n",
              "      <td>0.056338</td>\n",
              "      <td>0.139535</td>\n",
              "      <td>0.018868</td>\n",
              "      <td>0.054945</td>\n",
              "      <td>0.112583</td>\n",
              "      <td>0.046154</td>\n",
              "      <td>0.079208</td>\n",
              "      <td>0.0</td>\n",
              "      <td>0.0</td>\n",
              "      <td>0.00000</td>\n",
              "      <td>0.03125</td>\n",
              "      <td>0.818</td>\n",
              "      <td>0.500</td>\n",
              "      <td>0.000000</td>\n",
              "      <td>0.000000</td>\n",
              "      <td>0.016380</td>\n",
              "      <td>0.012974</td>\n",
              "      <td>0.006055</td>\n",
              "      <td>0.016125</td>\n",
              "    </tr>\n",
              "  </tbody>\n",
              "</table>\n",
              "<p>2260668 rows × 57 columns</p>\n",
              "</div>"
            ],
            "text/plain": [
              "               0         1       2   ...        54        55        56\n",
              "0        0.078481  0.078481  0.0900  ...  0.002273  0.001530  0.006481\n",
              "1        0.612658  0.612658  0.6175  ...  0.011583  0.050542  0.011641\n",
              "2        0.493671  0.493671  0.5000  ...  0.005486  0.003952  0.007021\n",
              "3        0.873418  0.873418  0.8750  ...  0.015324  0.039834  0.008495\n",
              "4        0.250633  0.250633  0.2600  ...  0.028100  0.012938  0.041575\n",
              "...           ...       ...     ...  ...       ...       ...       ...\n",
              "2260663  0.594937  0.594937  0.6000  ...  0.030639  0.000000  0.024548\n",
              "2260664  0.594937  0.594937  0.6000  ...  0.041113  0.017782  0.081304\n",
              "2260665  1.000000  1.000000  1.0000  ...  0.008333  0.007839  0.020137\n",
              "2260666  0.594937  0.594937  0.6000  ...  0.018317  0.013193  0.027732\n",
              "2260667  0.341772  0.341772  0.3500  ...  0.012974  0.006055  0.016125\n",
              "\n",
              "[2260668 rows x 57 columns]"
            ]
          },
          "metadata": {
            "tags": []
          },
          "execution_count": 12
        }
      ]
    },
    {
      "cell_type": "markdown",
      "metadata": {
        "id": "nOQnjcva5bfY"
      },
      "source": [
        "## Task 3: Use LASSO for variable selection and explain results. (15 points)"
      ]
    },
    {
      "cell_type": "code",
      "metadata": {
        "id": "hejbjvAa5hTi"
      },
      "source": [
        ""
      ],
      "execution_count": null,
      "outputs": []
    },
    {
      "cell_type": "markdown",
      "metadata": {
        "id": "Yze_Knjl5iLb"
      },
      "source": [
        "## Task 4: Use logistic regression (in-sample) for default prediction. Interpret your results for logistic regression. (20 points)"
      ]
    },
    {
      "cell_type": "code",
      "metadata": {
        "id": "aBw6t0kw5lUK"
      },
      "source": [
        ""
      ],
      "execution_count": null,
      "outputs": []
    },
    {
      "cell_type": "markdown",
      "metadata": {
        "id": "-fT0hckv5mOr"
      },
      "source": [
        "## Task 5: Compare logistic regression, classification tree, random forest, bagging, support vector machine (with two kernel functions), and neural network for default prediction based on the out-of-sample performance measures (at least three different measures). (35 points)"
      ]
    },
    {
      "cell_type": "code",
      "metadata": {
        "id": "0A6xby2O5rsq"
      },
      "source": [
        ""
      ],
      "execution_count": null,
      "outputs": []
    },
    {
      "cell_type": "markdown",
      "metadata": {
        "id": "2_yJ0OWK5uA_"
      },
      "source": [
        "## Task 6: Which model do you suggest to the peer-to-peer company? Why? (10 points)"
      ]
    },
    {
      "cell_type": "code",
      "metadata": {
        "id": "PRFOD_uq5wNK"
      },
      "source": [
        ""
      ],
      "execution_count": null,
      "outputs": []
    }
  ]
}